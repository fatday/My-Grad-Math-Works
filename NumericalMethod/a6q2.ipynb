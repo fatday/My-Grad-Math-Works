{
  "nbformat": 4,
  "nbformat_minor": 0,
  "metadata": {
    "colab": {
      "provenance": [],
      "authorship_tag": "ABX9TyPxW5ygl5q1MrSYBiqpihk5",
      "include_colab_link": true
    },
    "kernelspec": {
      "name": "python3",
      "display_name": "Python 3"
    },
    "language_info": {
      "name": "python"
    }
  },
  "cells": [
    {
      "cell_type": "markdown",
      "metadata": {
        "id": "view-in-github",
        "colab_type": "text"
      },
      "source": [
        "<a href=\"https://colab.research.google.com/github/fatday/My-Grad-Math-Works/blob/main/NumericalMethod/a6q2.ipynb\" target=\"_parent\"><img src=\"https://colab.research.google.com/assets/colab-badge.svg\" alt=\"Open In Colab\"/></a>"
      ]
    },
    {
      "cell_type": "code",
      "execution_count": 2,
      "metadata": {
        "id": "hfCr30sWG6-y"
      },
      "outputs": [],
      "source": [
        "import numpy as np"
      ]
    },
    {
      "cell_type": "markdown",
      "source": [
        "# Finding Exact Solution"
      ],
      "metadata": {
        "id": "HaWemHhO-FNd"
      }
    },
    {
      "cell_type": "markdown",
      "source": [
        "For the problem (9.19) in Larsson-Thomee, we can get the Fourier Transform of the exact solution\n",
        "\n",
        "$$\n",
        "\\hat{\\mu}(\\xi,t)=e^{-\\xi^2 t}\\hat{v}(\\xi)\n",
        "$$\n",
        "\n",
        "By the (8.3) in Larsson-Thomee, we have\n",
        "\n",
        "\\begin{align*}\n",
        "u(x,t)&=\\frac{1}{\\sqrt{4\\pi t}}\\int_{\\mathbb{R}} v(y) e^{-(x-y)^2/4}dy\\\\\n",
        "&=\\frac{1}{\\sqrt{4\\pi t}}\\int_{\\mathbb{R}} \\sin(\\pi y) e^{-(x-y)^2/4}dy+\\frac{1}{\\sqrt{4\\pi t}}\\int_{\\mathbb{R}} \\sin(3 \\pi y) e^{-(x-y)^2/4}dy\n",
        "\\end{align*}\n",
        "\n",
        "Now we will calculate these integrals, since $\\sin(\\pi y)=\\frac{1}{2i}[e^{i\\pi y}-e^{-i\\pi y}]$, then by Gaussian integral we have\n",
        "\n",
        "\\begin{align*}\n",
        "\\frac{1}{\\sqrt{4\\pi t}}\\int_{\\mathbb{R}} \\sin(\\pi y) e^{-(x-y)^2/4}dy&=\n",
        "\\frac{1}{2i}\\cdot \\frac{1}{\\sqrt{4\\pi t}}\\int_{\\mathbb{R}} e^{i\\pi y}e^{-(x-y)^2/4}dy-\\frac{1}{2i}\\cdot \\frac{1}{\\sqrt{4\\pi t}}\\int_{\\mathbb{R}} e^{-i\\pi y}e^{-(x-y)^2/4}dy\\\\\n",
        "&=\\frac{1}{2i}\\cdot \\frac{1}{\\sqrt{4\\pi t}}\\cdot \\sqrt{4\\pi t}e^{-\\pi^2 t} e^{i\\pi x}-\\frac{1}{2i}\\cdot \\frac{1}{\\sqrt{4\\pi t}}\\cdot \\sqrt{4\\pi t}e^{-\\pi^2 t} e^{-i\\pi x}\\\\\n",
        "&=\\frac{e^{-\\pi^2 t}}{2i}[e^{i\\pi y}-e^{-i\\pi y}]\\\\\n",
        "&=\\sin(\\pi x)e^{-\\pi^2 t}\n",
        "\\end{align*}\n",
        "\n",
        "Similarly, we can get\n",
        "\n",
        "$$\n",
        "\\frac{1}{\\sqrt{4\\pi t}}\\int_{\\mathbb{R}} \\sin(\\pi y) e^{-(x-y)^2/4}dy=\\sin(3\\pi x)e^{-9\\pi^2 t}\n",
        "$$\n",
        "\n",
        "This gives the exact solution:\n",
        "\n",
        "$$\n",
        "u(x,t)=\\sin(\\pi x)e^{-\\pi^2 t}-\\sin(3\\pi x)e^{-9\\pi^2 t}\n",
        "$$"
      ],
      "metadata": {
        "id": "u16MICUg-Z3D"
      }
    },
    {
      "cell_type": "code",
      "source": [
        "def v(x):\n",
        "  return np.sin(np.pi*x) - np.sin(3*np.pi*x)"
      ],
      "metadata": {
        "id": "zk5jV2ZOKqPu"
      },
      "execution_count": 3,
      "outputs": []
    },
    {
      "cell_type": "code",
      "source": [
        "def u(x,t):\n",
        "    return np.sin(np.pi*x)*np.exp(-np.pi**2*t)-np.sin(3*np.pi*x)*np.exp(-9*np.pi**2*t)"
      ],
      "metadata": {
        "id": "c1a9dQFGKPd3"
      },
      "execution_count": 4,
      "outputs": []
    },
    {
      "cell_type": "code",
      "source": [
        "def forward_Euler_U(h, k, x, t):\n",
        "    # constant / size setup\n",
        "    X = np.arange(0,1+h,h)\n",
        "    lambda_val = k/h**2\n",
        "    N = int(t/k + 1)\n",
        "    target_x_index = int(1/x) + 1\n",
        "\n",
        "    # init val & matrix\n",
        "    U0 = np.zeros(len(X))\n",
        "    U0[1:-1] = v(X[1:-1])\n",
        "    n = len(X)\n",
        "    A = ((np.diag((1-2*lambda_val) * np.ones(n), 0)  + np.diag(lambda_val * np.ones(n-1), 1) + np.diag(lambda_val * np.ones(n-1), -1)))\n",
        "\n",
        "    # iterate\n",
        "    for i in range(1,N):\n",
        "        U0 = np.matmul(A, U0)\n",
        "        U0[0], U0[-1] = 0, 0\n",
        "    return U0[target_x_index]"
      ],
      "metadata": {
        "id": "Ipj36SjKKWux"
      },
      "execution_count": 48,
      "outputs": []
    },
    {
      "cell_type": "code",
      "source": [
        "def Crank_Nicolson_U(h, k, x, t):\n",
        "    # constant / size setup\n",
        "    X = np.arange(0,1+h,h)\n",
        "    lambda_val = k/h**2\n",
        "    N = int(t/k + 1)\n",
        "    target_x_index = int(1/x) + 1\n",
        "\n",
        "    # init val & matrix\n",
        "    U0 = np.zeros(len(X))\n",
        "    U0[1:-1] = v(X[1:-1])\n",
        "    n = len(X)\n",
        "\n",
        "    # A, B matrix\n",
        "    A = ((np.diag((1-lambda_val) * np.ones(n), 0)  + np.diag(0.5*lambda_val * np.ones(n-1), 1) + np.diag(0.5*lambda_val * np.ones(n-1), -1)))\n",
        "    B = ((np.diag((1+lambda_val) * np.ones(n), 0)  + np.diag(-0.5*lambda_val * np.ones(n-1), 1) + np.diag(-0.5*lambda_val * np.ones(n-1), -1)))\n",
        "    B_inv = np.linalg.inv(B)\n",
        "\n",
        "    # iterate\n",
        "    for i in range(1, N):\n",
        "        U0 = np.matmul(B_inv, np.matmul(A, U0))\n",
        "        U0[0], U0[-1] = 0, 0\n",
        "    return U0[target_x_index]"
      ],
      "metadata": {
        "id": "E6IwGaOdKo9c"
      },
      "execution_count": 49,
      "outputs": []
    },
    {
      "cell_type": "code",
      "source": [
        "h = 1/10\n",
        "\n",
        "k0 = 1/10\n",
        "k1 = 1/600\n",
        "k2 = 1/300\n",
        "k3 = 1/100\n",
        "\n",
        "x = 1/2\n",
        "t = 1"
      ],
      "metadata": {
        "id": "ImKcVtz0Kpnx"
      },
      "execution_count": 50,
      "outputs": []
    },
    {
      "cell_type": "markdown",
      "source": [
        "# Euler method - h = 1/10, k = 1/600 Error:"
      ],
      "metadata": {
        "id": "XWQQ-2b66OMO"
      }
    },
    {
      "cell_type": "code",
      "source": [
        "abs(forward_Euler_U(h, k1, x, t) - u(x,t))"
      ],
      "metadata": {
        "colab": {
          "base_uri": "https://localhost:8080/"
        },
        "id": "XSEMfrv_42SZ",
        "outputId": "5c37614c-7620-4dd2-d3c5-42f2b811be35"
      },
      "execution_count": 51,
      "outputs": [
        {
          "output_type": "execute_result",
          "data": {
            "text/plain": [
              "9.870733070417437e-06"
            ]
          },
          "metadata": {},
          "execution_count": 51
        }
      ]
    },
    {
      "cell_type": "markdown",
      "source": [
        "# Euler method - h = 1/10, k = 1/300 Error:"
      ],
      "metadata": {
        "id": "h2m33eiY6ep6"
      }
    },
    {
      "cell_type": "code",
      "source": [
        "abs(forward_Euler_U(h, k2, x, t) - u(x,t))"
      ],
      "metadata": {
        "colab": {
          "base_uri": "https://localhost:8080/"
        },
        "id": "acQDvWhD6aDm",
        "outputId": "0308f225-5667-4ae8-87de-76449a253a74"
      },
      "execution_count": 52,
      "outputs": [
        {
          "output_type": "execute_result",
          "data": {
            "text/plain": [
              "1.3186152973187542e-05"
            ]
          },
          "metadata": {},
          "execution_count": 52
        }
      ]
    },
    {
      "cell_type": "code",
      "source": [],
      "metadata": {
        "id": "qTnkS_Mt6gfc"
      },
      "execution_count": 52,
      "outputs": []
    },
    {
      "cell_type": "markdown",
      "source": [
        "# Euler method - h = 1/10, k = 1/100 Error:"
      ],
      "metadata": {
        "id": "seAYVf2b6h6k"
      }
    },
    {
      "cell_type": "code",
      "source": [
        "abs(forward_Euler_U(h, k3, x, t) - u(x,t)) # not stable"
      ],
      "metadata": {
        "colab": {
          "base_uri": "https://localhost:8080/"
        },
        "id": "h6GXp2iS6i_J",
        "outputId": "f5f00d7a-8d8e-4e8d-b406-1524f07fce5f"
      },
      "execution_count": 53,
      "outputs": [
        {
          "output_type": "execute_result",
          "data": {
            "text/plain": [
              "2.0647243345983448e+30"
            ]
          },
          "metadata": {},
          "execution_count": 53
        }
      ]
    },
    {
      "cell_type": "markdown",
      "source": [
        "# Crank-Nicolson method - h = k = 1/10"
      ],
      "metadata": {
        "id": "7XogjBIx646u"
      }
    },
    {
      "cell_type": "code",
      "source": [
        "abs(Crank_Nicolson_U(h, k0, x, t) - u(x,t))"
      ],
      "metadata": {
        "colab": {
          "base_uri": "https://localhost:8080/"
        },
        "id": "CZ2pSz2s6wSj",
        "outputId": "386502d4-37a9-412b-c9b8-4832019eb369"
      },
      "execution_count": 54,
      "outputs": [
        {
          "output_type": "execute_result",
          "data": {
            "text/plain": [
              "0.006225799399310727"
            ]
          },
          "metadata": {},
          "execution_count": 54
        }
      ]
    },
    {
      "cell_type": "code",
      "source": [],
      "metadata": {
        "id": "VjpMHQ7d6_Q0"
      },
      "execution_count": 54,
      "outputs": []
    }
  ]
}