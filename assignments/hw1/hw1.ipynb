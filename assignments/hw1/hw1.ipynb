{
  "cells": [
    {
      "cell_type": "markdown",
      "metadata": {
        "id": "P_JIQE4w9xbB"
      },
      "source": [
        "# HW1: Logistic Regression\n",
        "\n",
        "This class is about models and algorithms for discrete data. This homework will have all 3 ingredients:\n",
        "* **Data**: the results from all college football games in the 2023 season\n",
        "* **Model**: The *Bradely-Terry* model for predicting the winners of football game. The Bradley-Terry model is just logistic regression.\n",
        "* **Algorithm**: We will implement two ways of fitting logistic regression: gradient descent and Newton's method"
      ]
    },
    {
      "cell_type": "markdown",
      "metadata": {
        "id": "oi2v2m5yCJE9"
      },
      "source": [
        "## The Bradley-Terry Model\n",
        "\n",
        "In the Bradley-Terry Model, we give team $k$ a team-effect $\\beta_k$. Basically, higher $\\beta_k$ (relatively speaking), means that team $k$ is a better team.\n",
        "The Bradley-Terry model formalizes this intution by modeling the log odds of team $k$ beating team $k'$ by the difference in their team effects, $\\beta_k - \\beta_{k'}$.\n",
        "\n",
        "Let $i = 1,\\ldots, n$ index games, and let $h(i) \\in \\{1,\\ldots,K\\}$ and $a(i) \\in \\{1,\\ldots,K\\}$ denote the indices of the home and away teams, respectively.\n",
        "Let $Y_i \\in \\{0,1\\}$ denote whether the home team won.\n",
        "Under the Bradley-Terry model,\n",
        "\\begin{equation*}\n",
        "  Y_i \\sim \\mathrm{Bern}\\big(\\sigma(\\beta_{h(i)} - \\beta_{a(i)}) \\big),\n",
        "\\end{equation*}\n",
        "where $\\sigma(\\cdot)$ is the sigmoid function. We can view this model as a logistic regression model with covariates $x_i \\in \\mathbb{R}^K$ where,\n",
        "\\begin{align*}\n",
        "x_{i,k} &=\n",
        "\\begin{cases}\n",
        "+1 &\\text{if } h(i) = k \\\\\n",
        "-1 &\\text{if } a(i) = k \\\\\n",
        "0 &\\text{o.w.},\n",
        "\\end{cases}\n",
        "\\end{align*}\n",
        "and parameters $\\beta \\in \\mathbb{R}^K$."
      ]
    },
    {
      "cell_type": "markdown",
      "metadata": {
        "id": "toIIF0ej-a7I"
      },
      "source": [
        "## Data\n",
        "\n",
        "We use the results of college football games in the fall 2023 season, which are available from the course github page and loaded for you below.\n",
        "\n",
        "The data comes as a list of the outcomes of individual games. You'll need to wrangle the data to get it into a format that you can feed into the Bradley-Terry model."
      ]
    },
    {
      "cell_type": "code",
      "execution_count": 14,
      "metadata": {
        "id": "qvTw_232nr-v"
      },
      "outputs": [],
      "source": [
        "import torch\n",
        "import pandas as pd\n",
        "import matplotlib.pyplot as plt\n",
        "from tqdm import tqdm"
      ]
    },
    {
      "cell_type": "code",
      "execution_count": 15,
      "metadata": {
        "id": "WIYCdEBqnvJG"
      },
      "outputs": [],
      "source": [
        "allgames = pd.read_csv(\"https://raw.githubusercontent.com/slinderman/stats305b/winter2025/data/01_allgames.csv\")"
      ]
    },
    {
      "cell_type": "markdown",
      "metadata": {
        "id": "EdKbx8UT6Pjg"
      },
      "source": [
        "## Problem 0: Preprocessing\n",
        "\n",
        "Preprocess the data to drop games with nan scores, construct the covariate matrix $X$, construct the response vector $y$, and do any other preprocessing you find useful."
      ]
    },
    {
      "cell_type": "code",
      "execution_count": 37,
      "metadata": {
        "id": "jvIQBLWv6Pjg"
      },
      "outputs": [],
      "source": [
        "# your code here\n",
        "allgames = allgames.dropna(subset=['Home Points', 'Away Points'])\n",
        "teams = pd.concat([allgames['Home Team'], allgames['Away Team']]).unique()\n",
        "team_to_index = {team: idx for idx, team in enumerate(teams)}\n",
        "allgames['Home Index'] = allgames['Home Team'].map(team_to_index)\n",
        "allgames['Away Index'] = allgames['Away Team'].map(team_to_index)\n",
        "allgames = allgames.reset_index()\n",
        "X = []\n",
        "for _, row in allgames.iterrows():\n",
        "    x = [0] * len(teams)\n",
        "    x[row['Home Index']] = 1\n",
        "    x[row['Away Index']] = -1\n",
        "    X.append(x)\n",
        "\n",
        "X = torch.tensor(X, dtype=torch.float32)"
      ]
    },
    {
      "cell_type": "code",
      "source": [
        "y = (allgames['Home Points'] > allgames['Away Points']).astype(int).values\n",
        "y = torch.tensor(y, dtype=torch.float32)\n",
        "y"
      ],
      "metadata": {
        "colab": {
          "base_uri": "https://localhost:8080/"
        },
        "id": "g2btNExU7e1f",
        "outputId": "3fedaf4e-4d18-4715-d950-d97aa0a1a3ec"
      },
      "execution_count": 24,
      "outputs": [
        {
          "output_type": "execute_result",
          "data": {
            "text/plain": [
              "tensor([1., 1., 1.,  ..., 1., 0., 1.])"
            ]
          },
          "metadata": {},
          "execution_count": 24
        }
      ]
    },
    {
      "cell_type": "markdown",
      "metadata": {
        "id": "ZjUJOkAWHWD0"
      },
      "source": [
        "## Problem 1: Loss function\n",
        "\n",
        "Write a function to compute the loss, $L(\\beta)$ defined be\n",
        "\n",
        "\\begin{equation*}\n",
        "  L(\\beta) = -\\frac{1}{n} \\sum_{i=1}^n \\log p(y_i \\mid x_i; \\beta) + \\frac{\\gamma}{2} \\| \\beta \\|_2^2\n",
        "\\end{equation*}\n",
        "where $\\gamma$ is a hyperparameter that controls the strength of your $\\ell_2$ regularization.\n",
        "\n",
        "You may want to use the `torch.distributions.Bernoulli` class."
      ]
    },
    {
      "cell_type": "code",
      "execution_count": 232,
      "metadata": {
        "id": "WTaCXlvSHuxh"
      },
      "outputs": [],
      "source": [
        "# your code here\n",
        "def loss(beta, X, y, gamma = 0):\n",
        "    p = torch.sigmoid(torch.matmul(X, beta))\n",
        "    Bernoulli = torch.distributions.Bernoulli(p)\n",
        "    loss = -torch.mean(Bernoulli.log_prob(y)) + gamma * torch.norm(beta, p=2)**2 / 2\n",
        "    return loss"
      ]
    },
    {
      "cell_type": "markdown",
      "metadata": {
        "id": "8Cx0wyYytSb7"
      },
      "source": [
        "## Problem 2: Gradient Descent"
      ]
    },
    {
      "cell_type": "markdown",
      "metadata": {
        "id": "xuNBMXGsO-7q"
      },
      "source": [
        "### Problem 2.1 Implementing and checking your gradients\n",
        "\n",
        "\n",
        "Write a function to compute the gradient of the average negative log likelihood and check your output against the results obtained by PyTorch's automatic differentiation functionality."
      ]
    },
    {
      "cell_type": "code",
      "execution_count": 233,
      "metadata": {
        "id": "ROj5lRuOsASh"
      },
      "outputs": [],
      "source": [
        "# your code here\n",
        "def gradient(beta, X, y, gamma = 0):\n",
        "    p = torch.sigmoid(torch.matmul(X, beta))\n",
        "    grad = -torch.matmul(X.T, y - p) / X.shape[0] + gamma * beta\n",
        "    return grad"
      ]
    },
    {
      "cell_type": "markdown",
      "source": [
        "##### By the result below, we can see our gradient output works the same as PyTorch's automatic differentiation"
      ],
      "metadata": {
        "id": "RU6pjr8qP6iY"
      }
    },
    {
      "cell_type": "code",
      "source": [
        "torch.manual_seed(42)\n",
        "beta = torch.randn(len(teams), requires_grad=True)\n",
        "gamma = 0.1\n",
        "loss1 = loss(beta, X, y, gamma) # Call the loss function and store the result\n",
        "loss1.backward() # Call backward on the result of the loss function, not the function itself\n",
        "\n",
        "manual_grad = gradient(beta, X, y, gamma)\n",
        "\n",
        "# Compare gradients\n",
        "print(\"\\nDifference:\\n\", torch.round(torch.norm(manual_grad - beta.grad, p=2)**2))"
      ],
      "metadata": {
        "id": "JkYUuhUlOrq1",
        "outputId": "79d4ae4f-464e-4e22-c96a-46f730f7c255",
        "colab": {
          "base_uri": "https://localhost:8080/"
        }
      },
      "execution_count": 272,
      "outputs": [
        {
          "output_type": "stream",
          "name": "stdout",
          "text": [
            "\n",
            "Difference:\n",
            " tensor(0., grad_fn=<RoundBackward0>)\n"
          ]
        }
      ]
    },
    {
      "cell_type": "markdown",
      "metadata": {
        "id": "Cl9CAUpTPtpw"
      },
      "source": [
        "### Problem 2.2: Implement Gradient Descent\n",
        "\n",
        "\n",
        "Now, use gradient descent to fit your Bradley-Terry model to the provided data.\n",
        "\n",
        "Deliverables for this question:\n",
        "1. Code the implements gradient descent to fit your Bradley-Terry model to the provided data.\n",
        "2. A plot of the loss curve of your algorithm and a brief discussion if it makes sense or not\n",
        "3. A plot of the histogram of the fitted values of $\\beta$\n",
        "4. The top 10 teams from your ranking, and a discussion of whether this ranking makes sense or not."
      ]
    },
    {
      "cell_type": "code",
      "execution_count": 226,
      "metadata": {
        "id": "kPSNWKE8sKIH"
      },
      "outputs": [],
      "source": [
        "# your code here (you can use multiple code and markdown cells to organize your answer)\n",
        "def gradient_descent(X, y, gamma = 0, lr = 0.01, tol = 1e-7, max_iter = 10000):\n",
        "    beta = torch.zeros(X.shape[1], requires_grad=False)\n",
        "    losses = [loss(beta, X, y, gamma)]\n",
        "    for i in tqdm(range(max_iter)):\n",
        "      beta -= lr * gradient(beta, X, y, gamma)\n",
        "      losses.append(loss(beta, X, y, gamma))\n",
        "      if abs(losses[-1] - losses[-2]) < tol:\n",
        "        break\n",
        "    return beta, losses"
      ]
    },
    {
      "cell_type": "code",
      "source": [
        "def cross_validation(X, y, gamma_grid, k = 5, lr = 0.01):\n",
        "  losses = [0] * len(gamma_grid)\n",
        "  for i in range(len(gamma_grid)):\n",
        "    total_loss_gamma = 0\n",
        "    for j in range(k):\n",
        "      # cut into 5\n",
        "      test_indices = torch.tensor([idx for idx in range(X.shape[0]) if idx % k == j])\n",
        "      train_indices = torch.tensor([idx for idx in range(X.shape[0]) if idx not in test_indices])\n",
        "      test_X = X[test_indices]\n",
        "      test_y = y[test_indices]\n",
        "      train_X = X[train_indices]\n",
        "      train_y = y[train_indices]\n",
        "      beta, _ = gradient_descent(train_X, train_y, gamma_grid[i], lr)\n",
        "      total_loss_gamma += loss(beta, test_X, test_y, gamma_grid[i])\n",
        "    losses[i] = total_loss_gamma\n",
        "\n",
        "  best_gamma = gamma_grid[losses.index(min(losses))]\n",
        "  return best_gamma\n"
      ],
      "metadata": {
        "id": "F4D3azb7Ary0"
      },
      "execution_count": 160,
      "outputs": []
    },
    {
      "cell_type": "code",
      "source": [
        "gamma_grid = [0.001, 0.01, 0.05, 0.1, 0.2, 0.5]\n",
        "best_gamma = cross_validation(X, y, gamma_grid, lr = 0.3)"
      ],
      "metadata": {
        "id": "iIZ7zZ0QB5MP",
        "outputId": "ef551581-03af-4fbf-f8e8-23d03328b077",
        "colab": {
          "base_uri": "https://localhost:8080/"
        }
      },
      "execution_count": 191,
      "outputs": [
        {
          "output_type": "stream",
          "name": "stderr",
          "text": [
            " 38%|███▊      | 1911/5000 [00:03<00:06, 504.96it/s]\n",
            " 38%|███▊      | 1896/5000 [00:04<00:07, 428.24it/s]\n",
            " 37%|███▋      | 1873/5000 [00:03<00:06, 502.38it/s]\n",
            " 38%|███▊      | 1913/5000 [00:03<00:06, 507.88it/s]\n",
            " 38%|███▊      | 1900/5000 [00:04<00:06, 473.49it/s]\n",
            " 20%|█▉        | 995/5000 [00:02<00:09, 408.26it/s]\n",
            " 20%|██        | 1017/5000 [00:02<00:08, 496.71it/s]\n",
            " 20%|██        | 1011/5000 [00:01<00:07, 518.11it/s]\n",
            " 20%|██        | 1003/5000 [00:01<00:07, 518.42it/s]\n",
            " 20%|█▉        | 988/5000 [00:01<00:07, 510.76it/s]\n",
            "  4%|▍         | 218/5000 [00:00<00:09, 518.13it/s]\n",
            "  4%|▍         | 216/5000 [00:00<00:09, 496.03it/s]\n",
            "  4%|▍         | 219/5000 [00:00<00:10, 468.04it/s]\n",
            "  4%|▍         | 210/5000 [00:00<00:12, 374.49it/s]\n",
            "  4%|▍         | 224/5000 [00:00<00:11, 411.22it/s]\n",
            "  2%|▏         | 114/5000 [00:00<00:12, 394.93it/s]\n",
            "  2%|▏         | 108/5000 [00:00<00:13, 362.13it/s]\n",
            "  2%|▏         | 116/5000 [00:00<00:15, 324.70it/s]\n",
            "  2%|▏         | 116/5000 [00:00<00:12, 392.75it/s]\n",
            "  2%|▏         | 114/5000 [00:00<00:15, 319.83it/s]\n",
            "  1%|          | 58/5000 [00:00<00:09, 515.48it/s]\n",
            "  1%|          | 57/5000 [00:00<00:11, 435.98it/s]\n",
            "  1%|          | 56/5000 [00:00<00:09, 516.04it/s]\n",
            "  1%|          | 57/5000 [00:00<00:11, 422.42it/s]\n",
            "  1%|          | 55/5000 [00:00<00:10, 466.08it/s]\n",
            "  0%|          | 23/5000 [00:00<00:10, 475.60it/s]\n",
            "  0%|          | 23/5000 [00:00<00:09, 513.91it/s]\n",
            "  0%|          | 23/5000 [00:00<00:09, 500.89it/s]\n",
            "  0%|          | 22/5000 [00:00<00:10, 458.09it/s]\n",
            "  0%|          | 21/5000 [00:00<00:10, 496.19it/s]\n"
          ]
        }
      ]
    },
    {
      "cell_type": "code",
      "source": [
        "best_gamma"
      ],
      "metadata": {
        "id": "Y2YAmYLwEPBi",
        "outputId": "8b79dd6d-f7aa-466c-bd3b-76e6592763d9",
        "colab": {
          "base_uri": "https://localhost:8080/"
        }
      },
      "execution_count": 192,
      "outputs": [
        {
          "output_type": "execute_result",
          "data": {
            "text/plain": [
              "0.005"
            ]
          },
          "metadata": {},
          "execution_count": 192
        }
      ]
    },
    {
      "cell_type": "code",
      "source": [
        "beta, losses = gradient_descent(X, y, 0.001, lr = 0.3)"
      ],
      "metadata": {
        "colab": {
          "base_uri": "https://localhost:8080/"
        },
        "id": "yS1neqCp9dkn",
        "outputId": "d89149ee-afd3-48ca-d563-a6e00711fdab"
      },
      "execution_count": 227,
      "outputs": [
        {
          "output_type": "stream",
          "name": "stderr",
          "text": [
            " 66%|██████▌   | 6613/10000 [00:18<00:09, 352.99it/s]\n"
          ]
        }
      ]
    },
    {
      "cell_type": "code",
      "source": [
        "# Plot the loss curve\n",
        "plt.plot(losses)\n",
        "plt.xlabel('Iteration')\n",
        "plt.ylabel('Loss')\n",
        "plt.title('Loss Curve for Gradient Descent')\n",
        "plt.show()"
      ],
      "metadata": {
        "colab": {
          "base_uri": "https://localhost:8080/",
          "height": 472
        },
        "id": "Bw9cXHWc-_aJ",
        "outputId": "06b1c88c-dba3-4878-c6fd-b3b20962f669"
      },
      "execution_count": 228,
      "outputs": [
        {
          "output_type": "display_data",
          "data": {
            "text/plain": [
              "<Figure size 640x480 with 1 Axes>"
            ],
            "image/png": "[encoded data removed]"
          },
          "metadata": {}
        }
      ]
    },
    {
      "cell_type": "code",
      "source": [
        "plt.hist(beta, bins=30, edgecolor='black')  # Add edgecolor for clear bar separation\n",
        "plt.axvline(x=0, color='red', linestyle='--', label='Zero Line')  # Optional vertical reference line\n",
        "\n",
        "# Add labels and title\n",
        "plt.xlabel('Beta Values')\n",
        "plt.ylabel('Frequency')\n",
        "plt.title('Histogram of Fitted Beta Values')\n",
        "plt.legend()"
      ],
      "metadata": {
        "colab": {
          "base_uri": "https://localhost:8080/",
          "height": 489
        },
        "id": "7yPpvkiw-8x_",
        "outputId": "5474112b-e78b-4eb4-c547-58e76de08552"
      },
      "execution_count": 229,
      "outputs": [
        {
          "output_type": "execute_result",
          "data": {
            "text/plain": [
              "<matplotlib.legend.Legend at 0x7e6c78157090>"
            ]
          },
          "metadata": {},
          "execution_count": 229
        },
        {
          "output_type": "display_data",
          "data": {
            "text/plain": [
              "<Figure size 640x480 with 1 Axes>"
            ],
            "image/png": "[encoded data removed]"
          },
          "metadata": {}
        }
      ]
    },
    {
      "cell_type": "markdown",
      "source": [
        "# Top 10 Team:\n",
        "###### Washington, Michigan, Florida State, South Dakota State, Liberty, Alabama, Colorado Mines, Texas, Georgia, Johns Hopkins\n",
        "\n",
        "#### This ranking make sense because it's the team with the top 10 highest $\\beta_k$, by the model definition we have $$Y_i \\sim \\mathrm{Bern}\\big(\\sigma(\\beta_{h(i)} - \\beta_{a(i)}) \\big)$$\n",
        "since $\\sigma(\\cdot)$ is increasing function teams with higher $\\beta$\n",
        "will have a higher prob of winning against teams with lower\n",
        "$\\beta$."
      ],
      "metadata": {
        "id": "hImAnsMUIXR4"
      }
    },
    {
      "cell_type": "code",
      "source": [
        "top_10_indices = torch.topk(beta, k=10).indices\n",
        "top_10_teams = [teams[idx] for idx in top_10_indices]\n",
        "print(top_10_teams)"
      ],
      "metadata": {
        "id": "eeQ1FPPmIZ-1",
        "outputId": "99751fd2-08fc-469a-9dcd-14ef89fa8235",
        "colab": {
          "base_uri": "https://localhost:8080/"
        }
      },
      "execution_count": 230,
      "outputs": [
        {
          "output_type": "stream",
          "name": "stdout",
          "text": [
            "['Washington', 'Michigan', 'Florida State', 'South Dakota State', 'Liberty', 'Alabama', 'Colorado Mines', 'Texas', 'Georgia', 'Johns Hopkins']\n"
          ]
        }
      ]
    },
    {
      "cell_type": "markdown",
      "metadata": {
        "id": "lBPDg-5QtXQV"
      },
      "source": [
        "## Problem 3: Newton's Method\n",
        "\n",
        "Now, use Newton's method to fit your Bradley-Terry model to the provided data.\n"
      ]
    },
    {
      "cell_type": "markdown",
      "metadata": {
        "id": "Pi_R1fgkFbQ0"
      },
      "source": [
        "### Problem 3.1 The Hessian\n",
        "\n"
      ]
    },
    {
      "cell_type": "markdown",
      "metadata": {
        "id": "RS0kTKtVLDlQ"
      },
      "source": [
        "#### Problem 3.1.1. Implement and check the Hessian\n",
        "Write a function to compute the Hessian of the average negative log likelihood and check your answer against the output of `from torch.autograd.functional.hessian`."
      ]
    },
    {
      "cell_type": "code",
      "source": [
        "# your code here\n",
        "def hessian(beta, X, y, gamma = 0):\n",
        "    p = torch.sigmoid(torch.matmul(X, beta))\n",
        "    D = torch.diag(p * (1 - p))\n",
        "    H = -torch.matmul(X.T, torch.matmul(D, X)) / X.shape[0] + gamma * torch.eye(X.shape[1])\n",
        "    return H"
      ],
      "metadata": {
        "id": "vTDts30jQQDB"
      },
      "execution_count": 255,
      "outputs": []
    },
    {
      "cell_type": "markdown",
      "source": [
        "#### By the result below, we can see our hessian output works the same as PyTorch's automatic hessian"
      ],
      "metadata": {
        "id": "serFvYY7TeHb"
      }
    },
    {
      "cell_type": "code",
      "source": [
        "manual_H = hessian(beta, X, y)\n",
        "auto_H = torch.autograd.functional.hessian(lambda b: loss(b, X, y), beta)\n",
        "print(\"\\nDifference:\\n\", torch.round(torch.norm(manual_H - auto_H, p=2)**2))"
      ],
      "metadata": {
        "id": "KdiD_8HLRNlh",
        "outputId": "960eb335-45df-44fd-decf-f9a806a8271f",
        "colab": {
          "base_uri": "https://localhost:8080/"
        }
      },
      "execution_count": 271,
      "outputs": [
        {
          "output_type": "stream",
          "name": "stdout",
          "text": [
            "\n",
            "Difference:\n",
            " tensor(0., grad_fn=<RoundBackward0>)\n"
          ]
        }
      ]
    },
    {
      "cell_type": "markdown",
      "metadata": {
        "id": "TtSlxUAkLE-y"
      },
      "source": [
        "#### Problem 3.1.2: Positive definiteness\n",
        "\n",
        "Compute the Hessian at the point $\\beta = 0$ without regularization (set $\\gamma = 0$). Unless you've done sort of pre-processing, it's probably singular."
      ]
    },
    {
      "cell_type": "code",
      "execution_count": 274,
      "metadata": {
        "id": "6KQjQZtfsUZ6",
        "colab": {
          "base_uri": "https://localhost:8080/"
        },
        "outputId": "3dfb3fe0-6673-435c-f25e-3250978ab582"
      },
      "outputs": [
        {
          "output_type": "stream",
          "name": "stdout",
          "text": [
            "The matrix is singular (det = 0).\n"
          ]
        }
      ],
      "source": [
        "# your code here\n",
        "beta = torch.zeros(X.shape[1], requires_grad=False)\n",
        "H = hessian(beta, X, y)\n",
        "det = torch.linalg.det(H)\n",
        "if torch.isclose(det, torch.tensor(0.0)):\n",
        "    print(\"The matrix is singular (det = 0).\")\n",
        "else:\n",
        "    print(\"The matrix is not singular (det ≠ 0).\")"
      ]
    },
    {
      "cell_type": "code",
      "source": [
        "H"
      ],
      "metadata": {
        "id": "WaCSo2EWZzWW",
        "outputId": "b6e561e2-a0bc-4f8b-b48a-df49c2ca3122",
        "colab": {
          "base_uri": "https://localhost:8080/"
        }
      },
      "execution_count": 276,
      "outputs": [
        {
          "output_type": "execute_result",
          "data": {
            "text/plain": [
              "tensor([[-8.3635e-04,  0.0000e+00,  0.0000e+00,  ...,  0.0000e+00,\n",
              "          0.0000e+00,  0.0000e+00],\n",
              "        [ 0.0000e+00, -7.6666e-04,  0.0000e+00,  ...,  0.0000e+00,\n",
              "          0.0000e+00,  0.0000e+00],\n",
              "        [ 0.0000e+00,  0.0000e+00, -8.3635e-04,  ...,  0.0000e+00,\n",
              "          0.0000e+00,  0.0000e+00],\n",
              "        ...,\n",
              "        [ 0.0000e+00,  0.0000e+00,  0.0000e+00,  ..., -6.9696e-05,\n",
              "          0.0000e+00,  0.0000e+00],\n",
              "        [ 0.0000e+00,  0.0000e+00,  0.0000e+00,  ...,  0.0000e+00,\n",
              "         -6.9696e-05,  0.0000e+00],\n",
              "        [ 0.0000e+00,  0.0000e+00,  0.0000e+00,  ...,  0.0000e+00,\n",
              "          0.0000e+00, -6.9696e-05]])"
            ]
          },
          "metadata": {},
          "execution_count": 276
        }
      ]
    },
    {
      "cell_type": "markdown",
      "metadata": {
        "id": "GKVxT91XLbSL"
      },
      "source": [
        "#### Problem 3.1.3\n",
        "\n",
        "Describe intuitively and mathematically what it means for the Hessian of the negative log likelihood to be singular in the context of this data and model"
      ]
    },
    {
      "cell_type": "markdown",
      "metadata": {
        "id": "yAsLFSGXsWXO"
      },
      "source": [
        "When the $\\beta=0$ and $\\gamma=0$, so the vector $p=\\sigma(X\\beta)=\\sigma(\\mathbf{0})=\\mathbf{0.5}$, so in the hessian our $W=diag(p_1(1-p_1),....,p_k(1-p_k))=diag(0.25,....,0.25)$:\n",
        "\\begin{align}\n",
        "H=\\frac{1}{n}X^T W X +\\gamma I=X^T W X\n",
        "\\end{align}\n",
        "which it's a $\\mathbf{0}_{k\\times k}$ matrix, so it's singular.\n"
      ]
    },
    {
      "cell_type": "markdown",
      "metadata": {
        "id": "TvClzEjJLk52"
      },
      "source": [
        "#### Problem 3.1.4\n",
        "\n",
        "Give a hypothesis for why the Hessian in this dataset and model is singular, and provide empirical evidence to support your hypothesis."
      ]
    },
    {
      "cell_type": "markdown",
      "metadata": {
        "id": "dFphHjnxsjE2"
      },
      "source": [
        "*your answer here*"
      ]
    },
    {
      "cell_type": "code",
      "execution_count": null,
      "metadata": {
        "id": "-wxWOBOQslRc"
      },
      "outputs": [],
      "source": [
        "# your code here"
      ]
    },
    {
      "cell_type": "markdown",
      "metadata": {
        "id": "EtKlPKs9LyNw"
      },
      "source": [
        "#### Problem 3.1.5\n",
        "\n",
        "Explain why the Hessian is invertible when $\\gamma > 0$."
      ]
    },
    {
      "cell_type": "markdown",
      "metadata": {
        "id": "CgvigoXaspaw"
      },
      "source": [
        "When $\\gamma>0$, then for any $x\\neq 0$ we have $\\| x\\|_2^2>0$\n",
        "\\begin{align}\n",
        "x^THx=\\frac{1}{n}x^T X^T W Xx +\\gamma x^TIx=\\frac{1}{n} \\|W^{1/2}Xx \\|_2^2 + \\gamma \\| x\\|_2^2\\geq \\gamma \\| x\\|_2^2 > 0\n",
        "\\end{align}\n",
        "so in this case $H$ is positive definite, which is invertible."
      ]
    },
    {
      "cell_type": "markdown",
      "metadata": {
        "id": "szaThYwMMuf4"
      },
      "source": [
        "### Problem 3.2: Implement Newton's method\n",
        "\n",
        "Now, use Newton's method to fit your $\\ell_2$-regularized Bradley-Terry model to the provided data.\n",
        "\n",
        "Deliverables for this question:\n",
        "1. Code the implements Newton's method to fit your Bradley-Terry model to the provided data.\n",
        "2. A plot of the loss curves from Newton's method and from gradient descent, using the same regularization strength $\\gamma$ and initialization $\\beta_0$. Briefly discuss the results and compare their rates of convergence.\n",
        "3. A plot of the histogram of the fitted values of $\\beta$\n",
        "4. The top 10 teams from your ranking, and a discussion of whether this ranking makes sense or not."
      ]
    },
    {
      "cell_type": "code",
      "execution_count": null,
      "metadata": {
        "id": "FPYUCllcsri7"
      },
      "outputs": [],
      "source": [
        "# your code here (you can use multiple code and markdown cells to organize your answer)"
      ]
    },
    {
      "cell_type": "markdown",
      "metadata": {
        "id": "J9R91iI5NCMs"
      },
      "source": [
        "## Problem 4: Model criticism and revision\n",
        "\n",
        "Let's take another look the Bradley-Terry model from earlier and think about improvements we can make.\n"
      ]
    },
    {
      "cell_type": "markdown",
      "metadata": {
        "id": "yPSnL3odcj12"
      },
      "source": [
        "### Problem 4.1: Improvements to Bradley-Terry Model\n",
        "Choose one way to improve the Bradley-Terry model. Discuss *a priori* why you think this change will improve the model and implement your change."
      ]
    },
    {
      "cell_type": "markdown",
      "metadata": {
        "id": "gngpLxYpczp0"
      },
      "source": [
        "*your answer here*"
      ]
    },
    {
      "cell_type": "markdown",
      "metadata": {
        "id": "Xt9Yn0NPc3nS"
      },
      "source": [
        "### Problem 4.2: Evaluation\n",
        "Assess whether or not your change was an improvement or not. Provide empirical evidence by evaluating performance on a held out test set and include at least one plot supporting your assessment."
      ]
    },
    {
      "cell_type": "markdown",
      "metadata": {
        "id": "yQvtv-eHdBM5"
      },
      "source": [
        "*your answer here*"
      ]
    },
    {
      "cell_type": "markdown",
      "metadata": {
        "id": "87F609vpdEq0"
      },
      "source": [
        "### Problem 4.3: Reflection\n",
        "Reflecting on the analysis we've conducted in this assignemnt, which conference is best? Is there a significant difference? Please justify your answer."
      ]
    },
    {
      "cell_type": "markdown",
      "metadata": {
        "id": "-4YnbZWVdmWv"
      },
      "source": [
        "*your answer here*"
      ]
    },
    {
      "cell_type": "markdown",
      "metadata": {
        "id": "9TL_LAYoyI2T"
      },
      "source": [
        "## Submission Instructions\n",
        "\n",
        "**Formatting:** check that your code does not exceed 80 characters in line width. You can set _Tools &rarr; Settings &rarr; Editor &rarr; Vertical ruler column_ to 80 to see when you've exceeded the limit.\n",
        "\n",
        "**Converting to PDF** The simplest way to convert to PDF is to use the \"Print to PDF\" option in your browser. Just make sure that your code and plots aren't cut off, as it may not wrap lines.\n",
        "\n",
        "**Alternatively** You can download your notebook in .ipynb format and use the following commands to convert it to PDF.  Then run the following command to convert to a PDF:\n",
        "```\n",
        "jupyter nbconvert --to pdf <yourlastname>_hw<number>.ipynb\n",
        "```\n",
        "(Note that for the above code to work, you need to rename your file `<yourlastname>_hw<number>.ipynb`)\n",
        "\n",
        "**Installing nbconvert:**\n",
        "\n",
        "If you're using Anaconda for package management,\n",
        "```\n",
        "conda install -c anaconda nbconvert\n",
        "```\n",
        "\n",
        "**Upload** your .pdf file to Gradescope. Please tag your questions correctly! I.e., for each question, all of and only the relevant sections are tagged.\n",
        "\n",
        "Please post on Ed or come to OH if there are any other problems submitting the HW."
      ]
    }
  ],
  "metadata": {
    "accelerator": "GPU",
    "colab": {
      "gpuType": "A100",
      "machine_shape": "hm",
      "provenance": []
    },
    "kernelspec": {
      "display_name": "base",
      "language": "python",
      "name": "python3"
    },
    "language_info": {
      "codemirror_mode": {
        "name": "ipython",
        "version": 3
      },
      "file_extension": ".py",
      "mimetype": "text/x-python",
      "name": "python",
      "nbconvert_exporter": "python",
      "pygments_lexer": "ipython3",
      "version": "3.10.9"
    }
  },
  "nbformat": 4,
  "nbformat_minor": 0
}