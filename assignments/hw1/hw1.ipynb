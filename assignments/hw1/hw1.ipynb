{
  "cells": [
    {
      "cell_type": "markdown",
      "metadata": {
        "id": "P_JIQE4w9xbB"
      },
      "source": [
        "# HW1: Logistic Regression\n",
        "\n",
        "This class is about models and algorithms for discrete data. This homework will have all 3 ingredients:\n",
        "* **Data**: the results from all college football games in the 2023 season\n",
        "* **Model**: The *Bradely-Terry* model for predicting the winners of football game. The Bradley-Terry model is just logistic regression.\n",
        "* **Algorithm**: We will implement two ways of fitting logistic regression: gradient descent and Newton's method"
      ]
    },
    {
      "cell_type": "markdown",
      "metadata": {
        "id": "oi2v2m5yCJE9"
      },
      "source": [
        "## The Bradley-Terry Model\n",
        "\n",
        "In the Bradley-Terry Model, we give team $k$ a team-effect $\\beta_k$. Basically, higher $\\beta_k$ (relatively speaking), means that team $k$ is a better team.\n",
        "The Bradley-Terry model formalizes this intution by modeling the log odds of team $k$ beating team $k'$ by the difference in their team effects, $\\beta_k - \\beta_{k'}$.\n",
        "\n",
        "Let $i = 1,\\ldots, n$ index games, and let $h(i) \\in \\{1,\\ldots,K\\}$ and $a(i) \\in \\{1,\\ldots,K\\}$ denote the indices of the home and away teams, respectively.\n",
        "Let $Y_i \\in \\{0,1\\}$ denote whether the home team won.\n",
        "Under the Bradley-Terry model,\n",
        "\\begin{equation*}\n",
        "  Y_i \\sim \\mathrm{Bern}\\big(\\sigma(\\beta_{h(i)} - \\beta_{a(i)}) \\big),\n",
        "\\end{equation*}\n",
        "where $\\sigma(\\cdot)$ is the sigmoid function. We can view this model as a logistic regression model with covariates $x_i \\in \\mathbb{R}^K$ where,\n",
        "\\begin{align*}\n",
        "x_{i,k} &=\n",
        "\\begin{cases}\n",
        "+1 &\\text{if } h(i) = k \\\\\n",
        "-1 &\\text{if } a(i) = k \\\\\n",
        "0 &\\text{o.w.},\n",
        "\\end{cases}\n",
        "\\end{align*}\n",
        "and parameters $\\beta \\in \\mathbb{R}^K$."
      ]
    },
    {
      "cell_type": "markdown",
      "metadata": {
        "id": "toIIF0ej-a7I"
      },
      "source": [
        "## Data\n",
        "\n",
        "We use the results of college football games in the fall 2023 season, which are available from the course github page and loaded for you below.\n",
        "\n",
        "The data comes as a list of the outcomes of individual games. You'll need to wrangle the data to get it into a format that you can feed into the Bradley-Terry model."
      ]
    },
    {
      "cell_type": "code",
      "execution_count": 1,
      "metadata": {
        "id": "qvTw_232nr-v"
      },
      "outputs": [],
      "source": [
        "import torch\n",
        "import pandas as pd\n",
        "import matplotlib.pyplot as plt\n",
        "from tqdm import tqdm"
      ]
    },
    {
      "cell_type": "code",
      "execution_count": 2,
      "metadata": {
        "id": "WIYCdEBqnvJG"
      },
      "outputs": [],
      "source": [
        "\n",
        "allgames = pd.read_csv(\"https://raw.githubusercontent.com/slinderman/stats305b/winter2025/data/01_allgames.csv\")"
      ]
    },
    {
      "cell_type": "markdown",
      "metadata": {
        "id": "EdKbx8UT6Pjg"
      },
      "source": [
        "## Problem 0: Preprocessing\n",
        "\n",
        "Preprocess the data to drop games with nan scores, construct the covariate matrix $X$, construct the response vector $y$, and do any other preprocessing you find useful."
      ]
    },
    {
      "cell_type": "code",
      "execution_count": 3,
      "metadata": {
        "id": "jvIQBLWv6Pjg"
      },
      "outputs": [],
      "source": [
        "# your code here\n",
        "allgames = allgames.dropna(subset=['Home Points', 'Away Points'])\n",
        "teams = pd.concat([allgames['Home Team'], allgames['Away Team']]).unique()\n",
        "team_to_index = {team: idx for idx, team in enumerate(teams)}\n",
        "allgames['Home Index'] = allgames['Home Team'].map(team_to_index)\n",
        "allgames['Away Index'] = allgames['Away Team'].map(team_to_index)\n",
        "allgames = allgames.reset_index()\n",
        "X = []\n",
        "for _, row in allgames.iterrows():\n",
        "    x = [0] * len(teams)\n",
        "    x[row['Home Index']] = 1\n",
        "    x[row['Away Index']] = -1\n",
        "    X.append(x)\n",
        "\n",
        "X = torch.tensor(X, dtype=torch.float32)"
      ]
    },
    {
      "cell_type": "code",
      "source": [
        "y = (allgames['Home Points'] > allgames['Away Points']).astype(int).values\n",
        "y = torch.tensor(y, dtype=torch.float32)\n",
        "y"
      ],
      "metadata": {
        "colab": {
          "base_uri": "https://localhost:8080/"
        },
        "id": "g2btNExU7e1f",
        "outputId": "e0a9b67a-7d3f-4b0a-fbcb-46b2adf5b22f"
      },
      "execution_count": 4,
      "outputs": [
        {
          "output_type": "execute_result",
          "data": {
            "text/plain": [
              "tensor([1., 1., 1.,  ..., 1., 0., 1.])"
            ]
          },
          "metadata": {},
          "execution_count": 4
        }
      ]
    },
    {
      "cell_type": "markdown",
      "metadata": {
        "id": "ZjUJOkAWHWD0"
      },
      "source": [
        "## Problem 1: Loss function\n",
        "\n",
        "Write a function to compute the loss, $L(\\beta)$ defined be\n",
        "\n",
        "\\begin{equation*}\n",
        "  L(\\beta) = -\\frac{1}{n} \\sum_{i=1}^n \\log p(y_i \\mid x_i; \\beta) + \\frac{\\gamma}{2} \\| \\beta \\|_2^2\n",
        "\\end{equation*}\n",
        "where $\\gamma$ is a hyperparameter that controls the strength of your $\\ell_2$ regularization.\n",
        "\n",
        "You may want to use the `torch.distributions.Bernoulli` class."
      ]
    },
    {
      "cell_type": "code",
      "execution_count": 5,
      "metadata": {
        "id": "WTaCXlvSHuxh"
      },
      "outputs": [],
      "source": [
        "# your code here\n",
        "def loss(beta, X, y, gamma = 0):\n",
        "    p = torch.sigmoid(torch.matmul(X, beta))\n",
        "    Bernoulli = torch.distributions.Bernoulli(p)\n",
        "    loss = -torch.mean(Bernoulli.log_prob(y)) + gamma * torch.norm(beta, p=2)**2 / 2\n",
        "    return loss"
      ]
    },
    {
      "cell_type": "markdown",
      "metadata": {
        "id": "8Cx0wyYytSb7"
      },
      "source": [
        "## Problem 2: Gradient Descent"
      ]
    },
    {
      "cell_type": "markdown",
      "metadata": {
        "id": "xuNBMXGsO-7q"
      },
      "source": [
        "### Problem 2.1 Implementing and checking your gradients\n",
        "\n",
        "\n",
        "Write a function to compute the gradient of the average negative log likelihood and check your output against the results obtained by PyTorch's automatic differentiation functionality."
      ]
    },
    {
      "cell_type": "code",
      "execution_count": 6,
      "metadata": {
        "id": "ROj5lRuOsASh"
      },
      "outputs": [],
      "source": [
        "# your code here\n",
        "def gradient(beta, X, y, gamma = 0, if_sparse = False):\n",
        "  if if_sparse:\n",
        "    z = torch.sparse.mm(X, beta.unsqueeze(1)).squeeze(1)\n",
        "    p = torch.sigmoid(z)\n",
        "    residual = y - p\n",
        "    grad = -torch.sparse.mm(X.T, residual.unsqueeze(1)).squeeze(1) / X.shape[0]\n",
        "    grad += gamma * beta\n",
        "  else:\n",
        "    p = torch.sigmoid(torch.matmul(X, beta))\n",
        "    grad = -torch.matmul(X.T, y - p) / X.shape[0] + gamma * beta\n",
        "  return grad"
      ]
    },
    {
      "cell_type": "markdown",
      "source": [
        "##### By the result below, we can see our gradient output works the same as PyTorch's automatic differentiation"
      ],
      "metadata": {
        "id": "RU6pjr8qP6iY"
      }
    },
    {
      "cell_type": "code",
      "source": [
        "torch.manual_seed(42)\n",
        "beta = torch.randn(len(teams), requires_grad=True)\n",
        "gamma = 0.1\n",
        "loss1 = loss(beta, X, y, gamma) # Call the loss function and store the result\n",
        "loss1.backward() # Call backward on the result of the loss function, not the function itself\n",
        "\n",
        "manual_grad = gradient(beta, X, y, gamma, if_sparse = False)\n",
        "\n",
        "# Compare gradients\n",
        "print(\"\\nDifference:\\n\", torch.round(torch.norm(manual_grad - beta.grad, p=2)**2))"
      ],
      "metadata": {
        "colab": {
          "base_uri": "https://localhost:8080/"
        },
        "id": "JkYUuhUlOrq1",
        "outputId": "a6523b5b-2097-4ad8-ef68-d77760f01436"
      },
      "execution_count": null,
      "outputs": [
        {
          "output_type": "stream",
          "name": "stdout",
          "text": [
            "\n",
            "Difference:\n",
            " tensor(0., grad_fn=<RoundBackward0>)\n"
          ]
        }
      ]
    },
    {
      "cell_type": "markdown",
      "metadata": {
        "id": "Cl9CAUpTPtpw"
      },
      "source": [
        "### Problem 2.2: Implement Gradient Descent\n",
        "\n",
        "\n",
        "Now, use gradient descent to fit your Bradley-Terry model to the provided data.\n",
        "\n",
        "Deliverables for this question:\n",
        "1. Code the implements gradient descent to fit your Bradley-Terry model to the provided data.\n",
        "2. A plot of the loss curve of your algorithm and a brief discussion if it makes sense or not\n",
        "3. A plot of the histogram of the fitted values of $\\beta$\n",
        "4. The top 10 teams from your ranking, and a discussion of whether this ranking makes sense or not."
      ]
    },
    {
      "cell_type": "code",
      "execution_count": 7,
      "metadata": {
        "id": "kPSNWKE8sKIH"
      },
      "outputs": [],
      "source": [
        "# your code here (you can use multiple code and markdown cells to organize your answer)\n",
        "def gradient_descent(X, y, gamma = 0, lr = 0.01, tol = 1e-7, max_iter = 10000, if_sparse = False):\n",
        "    beta = torch.zeros(X.shape[1], requires_grad=False)\n",
        "    losses = [loss(beta, X, y, gamma)]\n",
        "    for i in tqdm(range(max_iter)):\n",
        "      beta -= lr * gradient(beta, X, y, gamma, if_sparse)\n",
        "      losses.append(loss(beta, X, y, gamma))\n",
        "      if abs(losses[-1] - losses[-2]) < tol:\n",
        "        break\n",
        "    return beta, losses"
      ]
    },
    {
      "cell_type": "code",
      "source": [
        "def cross_validation(X, y, gamma_grid, function, k = 5, lr = 0.01, if_sparse = False):\n",
        "  losses = [0] * len(gamma_grid)\n",
        "  for i in range(len(gamma_grid)):\n",
        "    total_loss_gamma = 0\n",
        "    for j in range(k):\n",
        "      # cut into 5\n",
        "      test_indices = torch.tensor([idx for idx in range(X.shape[0]) if idx % k == j])\n",
        "      train_indices = torch.tensor([idx for idx in range(X.shape[0]) if idx not in test_indices])\n",
        "      test_X = X[test_indices]\n",
        "      test_y = y[test_indices]\n",
        "      train_X = X[train_indices]\n",
        "      train_y = y[train_indices]\n",
        "      beta, _ = function(train_X, train_y, gamma_grid[i], lr, if_sparse = if_sparse)\n",
        "      total_loss_gamma += loss(beta, test_X, test_y, gamma_grid[i])\n",
        "    losses[i] = total_loss_gamma\n",
        "\n",
        "  best_gamma = gamma_grid[losses.index(min(losses))]\n",
        "  return best_gamma\n"
      ],
      "metadata": {
        "id": "F4D3azb7Ary0"
      },
      "execution_count": 8,
      "outputs": []
    },
    {
      "cell_type": "code",
      "source": [
        "gamma_grid = [0.001, 0.01, 0.05, 0.1, 0.2, 0.5]\n",
        "best_gamma = cross_validation(X, y, gamma_grid, gradient_descent, lr = 0.3, if_sparse=True)"
      ],
      "metadata": {
        "colab": {
          "base_uri": "https://localhost:8080/"
        },
        "id": "iIZ7zZ0QB5MP",
        "outputId": "c0f8b9f5-7bd8-45f9-bc7c-6be1ea8371a2"
      },
      "execution_count": null,
      "outputs": [
        {
          "output_type": "stream",
          "name": "stderr",
          "text": [
            " 65%|██████▍   | 6463/10000 [00:15<00:08, 420.76it/s]\n",
            " 65%|██████▍   | 6451/10000 [00:14<00:08, 442.62it/s]\n",
            " 66%|██████▌   | 6550/10000 [00:14<00:07, 445.91it/s]\n",
            " 65%|██████▌   | 6506/10000 [00:14<00:07, 460.56it/s]\n",
            " 65%|██████▌   | 6517/10000 [00:14<00:07, 442.74it/s]\n",
            " 10%|▉         | 995/10000 [00:02<00:18, 475.15it/s]\n",
            " 10%|█         | 1017/10000 [00:02<00:19, 463.27it/s]\n",
            " 10%|█         | 1011/10000 [00:02<00:26, 338.83it/s]\n",
            " 10%|█         | 1003/10000 [00:02<00:20, 434.50it/s]\n",
            " 10%|▉         | 988/10000 [00:02<00:19, 473.54it/s]\n",
            "  2%|▏         | 218/10000 [00:00<00:20, 487.77it/s]\n",
            "  2%|▏         | 216/10000 [00:00<00:24, 406.35it/s]\n",
            "  2%|▏         | 219/10000 [00:00<00:21, 453.91it/s]\n",
            "  2%|▏         | 210/10000 [00:00<00:21, 460.27it/s]\n",
            "  2%|▏         | 224/10000 [00:00<00:21, 452.53it/s]\n",
            "  1%|          | 114/10000 [00:00<00:26, 378.94it/s]\n",
            "  1%|          | 108/10000 [00:00<00:24, 400.96it/s]\n",
            "  1%|          | 116/10000 [00:00<00:22, 429.81it/s]\n",
            "  1%|          | 116/10000 [00:00<00:25, 393.41it/s]\n",
            "  1%|          | 114/10000 [00:00<00:20, 479.45it/s]\n",
            "  1%|          | 58/10000 [00:00<00:23, 426.04it/s]\n",
            "  1%|          | 57/10000 [00:00<00:25, 396.22it/s]\n",
            "  1%|          | 56/10000 [00:00<00:29, 339.59it/s]\n",
            "  1%|          | 57/10000 [00:00<00:21, 455.10it/s]\n",
            "  1%|          | 55/10000 [00:00<00:22, 446.63it/s]\n",
            "  0%|          | 23/10000 [00:00<00:21, 455.29it/s]\n",
            "  0%|          | 23/10000 [00:00<00:23, 428.15it/s]\n",
            "  0%|          | 23/10000 [00:00<00:22, 453.18it/s]\n",
            "  0%|          | 22/10000 [00:00<00:22, 451.91it/s]\n",
            "  0%|          | 21/10000 [00:00<00:34, 288.79it/s]\n"
          ]
        }
      ]
    },
    {
      "cell_type": "code",
      "source": [
        "best_gamma"
      ],
      "metadata": {
        "colab": {
          "base_uri": "https://localhost:8080/"
        },
        "id": "Y2YAmYLwEPBi",
        "outputId": "974c0f3e-521c-4509-afe9-6015a86b6e15"
      },
      "execution_count": null,
      "outputs": [
        {
          "output_type": "execute_result",
          "data": {
            "text/plain": [
              "0.001"
            ]
          },
          "metadata": {},
          "execution_count": 335
        }
      ]
    },
    {
      "cell_type": "code",
      "source": [
        "beta, losses = gradient_descent(X, y, 0.001, lr = 0.3, if_sparse=True)"
      ],
      "metadata": {
        "colab": {
          "base_uri": "https://localhost:8080/"
        },
        "id": "yS1neqCp9dkn",
        "outputId": "510b8c18-1899-4505-b1f2-62ccab8aaf81"
      },
      "execution_count": null,
      "outputs": [
        {
          "output_type": "stream",
          "name": "stderr",
          "text": [
            " 66%|██████▌   | 6613/10000 [00:20<00:10, 321.13it/s]\n"
          ]
        }
      ]
    },
    {
      "cell_type": "code",
      "source": [
        "\n",
        "# Plot the loss curve\n",
        "plt.plot(losses)\n",
        "plt.xlabel('Iteration')\n",
        "plt.ylabel('Loss')\n",
        "plt.title('Loss Curve for Gradient Descent')\n",
        "plt.show()"
      ],
      "metadata": {
        "colab": {
          "base_uri": "https://localhost:8080/",
          "height": 472
        },
        "id": "Bw9cXHWc-_aJ",
        "outputId": "1073735e-5c9c-43e9-d385-0736081e03fc"
      },
      "execution_count": null,
      "outputs": [
        {
          "output_type": "display_data",
          "data": {
            "text/plain": [
              "<Figure size 640x480 with 1 Axes>"
            ],
            "image/png": "[encoded data removed]"
          },
          "metadata": {}
        }
      ]
    },
    {
      "cell_type": "code",
      "source": [
        "plt.hist(beta, bins=30, edgecolor='black')  # Add edgecolor for clear bar separation\n",
        "plt.axvline(x=0, color='red', linestyle='--', label='Zero Line')  # Optional vertical reference line\n",
        "\n",
        "# Add labels and title\n",
        "plt.xlabel('Beta Values')\n",
        "plt.ylabel('Frequency')\n",
        "plt.title('Histogram of Fitted Beta Values')\n",
        "plt.legend()"
      ],
      "metadata": {
        "colab": {
          "base_uri": "https://localhost:8080/",
          "height": 489
        },
        "id": "7yPpvkiw-8x_",
        "outputId": "147958bb-a608-4784-9874-55169f82bfc7"
      },
      "execution_count": null,
      "outputs": [
        {
          "output_type": "execute_result",
          "data": {
            "text/plain": [
              "<matplotlib.legend.Legend at 0x7e6c73fcb290>"
            ]
          },
          "metadata": {},
          "execution_count": 338
        },
        {
          "output_type": "display_data",
          "data": {
            "text/plain": [
              "<Figure size 640x480 with 1 Axes>"
            ],
            "image/png": "[encoded data removed]"
          },
          "metadata": {}
        }
      ]
    },
    {
      "cell_type": "markdown",
      "source": [
        "# Estimated top 10 Teams are the followings:\n"
      ],
      "metadata": {
        "id": "hImAnsMUIXR4"
      }
    },
    {
      "cell_type": "code",
      "source": [
        "top_10_indices = torch.topk(beta, k=10).indices\n",
        "top_10_teams = [(float(beta[idx]), teams[idx]) for idx in top_10_indices]\n",
        "top_10_teams.sort()\n",
        "print(top_10_teams)"
      ],
      "metadata": {
        "colab": {
          "base_uri": "https://localhost:8080/"
        },
        "id": "lu2D02iWe-YO",
        "outputId": "a835cd1f-7d94-43f9-ad77-6d2b38db88e5"
      },
      "execution_count": null,
      "outputs": [
        {
          "output_type": "stream",
          "name": "stdout",
          "text": [
            "[(0.0, 'Albany'), (0.0, 'Jackson State'), (0.0, 'Jacksonville State'), (0.0, 'Louisiana Tech'), (0.0, 'Mercer'), (0.0, 'New Mexico State'), (0.0, 'Notre Dame'), (0.0, 'San Diego State'), (0.0, 'USC'), (0.0, 'Vanderbilt')]\n"
          ]
        }
      ]
    },
    {
      "cell_type": "markdown",
      "source": [
        "# True Top 10 Teams are the followings:"
      ],
      "metadata": {
        "id": "f2-roCWl5PvM"
      }
    },
    {
      "cell_type": "code",
      "source": [
        "true_top10_winnings = torch.topk(torch.abs(torch.matmul(X.T, y)), k=10).indices\n",
        "ture_top_10_teams = [teams[idx] for idx in true_top10_winnings]\n",
        "ture_top_10_teams.sort()\n",
        "print(ture_top_10_teams)"
      ],
      "metadata": {
        "colab": {
          "base_uri": "https://localhost:8080/"
        },
        "id": "3yjH8mM6ekRi",
        "outputId": "739a6259-2388-4095-cece-92d8919503c3"
      },
      "execution_count": null,
      "outputs": [
        {
          "output_type": "stream",
          "name": "stdout",
          "text": [
            "['Alabama', 'Erskine', 'Florida State', 'Liberty', 'Lincoln University (CA)', 'Michigan', 'South Dakota State', 'Texas', 'Virginia Lynchburg', 'Washington']\n"
          ]
        }
      ]
    },
    {
      "cell_type": "code",
      "source": [
        "# correctness\n",
        "print(len(set(ture_top_10_teams).intersection(set(top_10_teams)))/10)"
      ],
      "metadata": {
        "colab": {
          "base_uri": "https://localhost:8080/"
        },
        "id": "E8oAI4J_fnV0",
        "outputId": "9b2d5cd1-c1ef-4c6d-e916-9a4f46d1607f"
      },
      "execution_count": null,
      "outputs": [
        {
          "output_type": "stream",
          "name": "stdout",
          "text": [
            "0.7\n"
          ]
        }
      ]
    },
    {
      "cell_type": "markdown",
      "source": [
        "#### This ranking make sense because it's the team with the top 10 highest $\\beta_k$, by the model definition we have $$Y_i \\sim \\mathrm{Bern}\\big(\\sigma(\\beta_{h(i)} - \\beta_{a(i)}) \\big)$$\n",
        "since $\\sigma(\\cdot)$ is increasing function teams with higher $\\beta$\n",
        "will have a higher prob of winning against teams with lower\n",
        "$\\beta$, and as we can see by using this we can determine $7$ out of $10$ teams correctly."
      ],
      "metadata": {
        "id": "Xg92W3oofn2K"
      }
    },
    {
      "cell_type": "markdown",
      "metadata": {
        "id": "lBPDg-5QtXQV"
      },
      "source": [
        "## Problem 3: Newton's Method\n",
        "\n",
        "Now, use Newton's method to fit your Bradley-Terry model to the provided data.\n"
      ]
    },
    {
      "cell_type": "markdown",
      "metadata": {
        "id": "Pi_R1fgkFbQ0"
      },
      "source": [
        "### Problem 3.1 The Hessian\n",
        "\n"
      ]
    },
    {
      "cell_type": "markdown",
      "metadata": {
        "id": "RS0kTKtVLDlQ"
      },
      "source": [
        "#### Problem 3.1.1. Implement and check the Hessian\n",
        "Write a function to compute the Hessian of the average negative log likelihood and check your answer against the output of `from torch.autograd.functional.hessian`."
      ]
    },
    {
      "cell_type": "code",
      "source": [
        "# your code here\n",
        "def hessian(beta, X, y, gamma = 0, if_sparse = False):\n",
        "  if if_sparse:\n",
        "    X_sparse = X.to_sparse()\n",
        "    z = torch.sparse.mm(X_sparse, beta.unsqueeze(1)).squeeze(1)\n",
        "    p = torch.sigmoid(z)\n",
        "    diag_entries = p * (1 - p)\n",
        "    D_sparse = torch.sparse_coo_tensor(\n",
        "        indices=torch.arange(diag_entries.size(0)).repeat(2, 1),\n",
        "        values=diag_entries,\n",
        "        size=(diag_entries.size(0), diag_entries.size(0))\n",
        "    )\n",
        "    XT_D = torch.sparse.mm(X_sparse.T, D_sparse)\n",
        "    H = torch.sparse.mm(XT_D, X_sparse) / X.shape[0]\n",
        "    H = gamma * torch.eye(X.shape[1]).to(H.device) + H\n",
        "  else:\n",
        "    p = torch.sigmoid(torch.matmul(X, beta))\n",
        "    D = torch.diag(p * (1 - p))\n",
        "    H = -torch.matmul(X.T, torch.matmul(D, X)) / X.shape[0] + gamma * torch.eye(X.shape[1])\n",
        "\n",
        "  return H"
      ],
      "metadata": {
        "id": "vTDts30jQQDB"
      },
      "execution_count": 9,
      "outputs": []
    },
    {
      "cell_type": "markdown",
      "source": [
        "#### By the result below, we can see our hessian output works the same as PyTorch's automatic hessian"
      ],
      "metadata": {
        "id": "serFvYY7TeHb"
      }
    },
    {
      "cell_type": "code",
      "source": [
        "manual_H = hessian(beta, X, y, if_sparse=True)\n",
        "auto_H = torch.autograd.functional.hessian(lambda b: loss(b, X, y), beta)\n",
        "print(\"\\nDifference:\\n\", torch.round(torch.norm(manual_H - auto_H, p=2)**2))"
      ],
      "metadata": {
        "colab": {
          "base_uri": "https://localhost:8080/"
        },
        "id": "KdiD_8HLRNlh",
        "outputId": "a6c1fa2d-c3fd-4823-d9cc-4ce747c5db28"
      },
      "execution_count": null,
      "outputs": [
        {
          "output_type": "stream",
          "name": "stdout",
          "text": [
            "\n",
            "Difference:\n",
            " tensor(0., grad_fn=<RoundBackward0>)\n"
          ]
        }
      ]
    },
    {
      "cell_type": "markdown",
      "metadata": {
        "id": "TtSlxUAkLE-y"
      },
      "source": [
        "#### Problem 3.1.2: Positive definiteness\n",
        "\n",
        "Compute the Hessian at the point $\\beta = 0$ without regularization (set $\\gamma = 0$). Unless you've done sort of pre-processing, it's probably singular."
      ]
    },
    {
      "cell_type": "code",
      "execution_count": null,
      "metadata": {
        "id": "6KQjQZtfsUZ6"
      },
      "outputs": [],
      "source": [
        "# your code here\n",
        "beta = torch.zeros(X.shape[1], requires_grad=False)\n",
        "H = hessian(beta, X, y)"
      ]
    },
    {
      "cell_type": "markdown",
      "metadata": {
        "id": "GKVxT91XLbSL"
      },
      "source": [
        "#### Problem 3.1.3\n",
        "\n",
        "Describe intuitively and mathematically what it means for the Hessian of the negative log likelihood to be singular in the context of this data and model"
      ]
    },
    {
      "cell_type": "markdown",
      "source": [
        "## Intuitively: When $\\beta=0$ and $\\gamma=0$, the matrix $W$ with diagonal $\\sigma(X\\beta)=\\sigma(\\mathbf{0})$ is a constant and no $\\gamma I$ term, so $H$ if singular or not only depend on $X^TX$. In this model, the total number of home games (labeled +1) and away games (labeled -1) are the same, based on how we define for the $X$, the sum of all column of $X$ is equal to $0$, so columns are not linearly independent so it's singular."
      ],
      "metadata": {
        "id": "8VG5QxANkqU1"
      }
    },
    {
      "cell_type": "markdown",
      "metadata": {
        "id": "yAsLFSGXsWXO"
      },
      "source": [
        "## Mathematically\n",
        "\n",
        "When the $\\beta=0$ and $\\gamma=0$, so the vector $p=\\sigma(X\\beta)=\\sigma(\\mathbf{0})=\\mathbf{0.5}$, so in the hessian our $W=diag(p_1(1-p_1),....,p_k(1-p_k))=diag(0.25,....,0.25)$:\n",
        "\\begin{align}\n",
        "H=\\frac{1}{n}X^T W X +\\gamma I=\\frac{1}{4n}X^TX\n",
        "\\end{align}\n",
        "Note that for each row of $X$, it only contain an $1$ and a $-1$, others are $0$, then we can consider $\\mathbf{1}_k$. By this construction we have $X\\mathbf{1}=\\mathbf{0}$, then\n",
        "$$\n",
        "H\\mathbf{1}=\\frac{1}{4n}X^TX\\mathbf{1}_k=\\big(\\frac{1}{4n}X^T\\big)X\\mathbf{1}_k=\\frac{1}{4n}X^T \\mathbf{0}=\\mathbf{0}_k\n",
        "$$\n",
        "so $\\mathbf{1}_k$ is in the kernal of $H$, by rank–nullity theorem $H$ does column rank at most $k-1$, which is not full rank, so it's singular."
      ]
    },
    {
      "cell_type": "markdown",
      "metadata": {
        "id": "TvClzEjJLk52"
      },
      "source": [
        "#### Problem 3.1.4\n",
        "\n",
        "Give a hypothesis for why the Hessian in this dataset and model is singular, and provide empirical evidence to support your hypothesis."
      ]
    },
    {
      "cell_type": "markdown",
      "metadata": {
        "id": "dFphHjnxsjE2"
      },
      "source": [
        "#### This Hessian has determinant $0$, the results as follows:"
      ]
    },
    {
      "cell_type": "code",
      "source": [
        "det = torch.linalg.det(H)\n",
        "if torch.isclose(det, torch.tensor(0.0)):\n",
        "    print(\"The matrix is singular (det = 0).\")\n",
        "else:\n",
        "    print(\"The matrix is not singular (det ≠ 0).\")"
      ],
      "metadata": {
        "colab": {
          "base_uri": "https://localhost:8080/"
        },
        "id": "5tgm0KhQpKNF",
        "outputId": "016b3a29-afdf-4db0-b0f4-a462656c3626"
      },
      "execution_count": null,
      "outputs": [
        {
          "output_type": "stream",
          "name": "stdout",
          "text": [
            "The matrix is singular (det = 0).\n"
          ]
        }
      ]
    },
    {
      "cell_type": "markdown",
      "metadata": {
        "id": "EtKlPKs9LyNw"
      },
      "source": [
        "#### Problem 3.1.5\n",
        "\n",
        "Explain why the Hessian is invertible when $\\gamma > 0$."
      ]
    },
    {
      "cell_type": "markdown",
      "metadata": {
        "id": "CgvigoXaspaw"
      },
      "source": [
        "When $\\gamma>0$, then for any $u\\neq 0$ we have $\\| u\\|_2^2>0$\n",
        "\\begin{align}\n",
        "u^THu=\\frac{1}{n}u^T X^T W Xu +\\gamma u^TIu=\\frac{1}{n} \\|W^{1/2}Xu \\|_2^2 + \\gamma \\| u\\|_2^2\\geq \\gamma \\| u\\|_2^2 > 0\n",
        "\\end{align}\n",
        "so in this case $H$ is positive definite, which is invertible."
      ]
    },
    {
      "cell_type": "markdown",
      "metadata": {
        "id": "szaThYwMMuf4"
      },
      "source": [
        "### Problem 3.2: Implement Newton's method\n",
        "\n",
        "Now, use Newton's method to fit your $\\ell_2$-regularized Bradley-Terry model to the provided data.\n",
        "\n",
        "Deliverables for this question:\n",
        "1. Code the implements Newton's method to fit your Bradley-Terry model to the provided data.\n",
        "2. A plot of the loss curves from Newton's method and from gradient descent, using the same regularization strength $\\gamma$ and initialization $\\beta_0$. Briefly discuss the results and compare their rates of convergence.\n",
        "3. A plot of the histogram of the fitted values of $\\beta$\n",
        "4. The top 10 teams from your ranking, and a discussion of whether this ranking makes sense or not."
      ]
    },
    {
      "cell_type": "code",
      "execution_count": 10,
      "metadata": {
        "id": "FPYUCllcsri7"
      },
      "outputs": [],
      "source": [
        "# your code here (you can use multiple code and markdown cells to organize your answer)\n",
        "def newton_method(X, y, gamma = 0, lr = 1, tol = 1e-7, max_iter = 10000, if_sparse = False):\n",
        "    beta = torch.zeros(X.shape[1], requires_grad=False)\n",
        "    losses = [loss(beta, X, y, gamma)]\n",
        "    for i in tqdm(range(max_iter)):\n",
        "      H = hessian(beta, X, y, gamma, if_sparse=if_sparse)\n",
        "      beta -= lr * torch.linalg.solve(H, gradient(beta, X, y, gamma, if_sparse=if_sparse))\n",
        "      losses.append(loss(beta, X, y, gamma))\n",
        "      if abs(losses[-1] - losses[-2]) < tol:\n",
        "        break\n",
        "    return beta, losses"
      ]
    },
    {
      "cell_type": "code",
      "source": [
        "beta_newton, losses_newton = newton_method(X, y, 0.001, lr=0.005, if_sparse=True)"
      ],
      "metadata": {
        "colab": {
          "base_uri": "https://localhost:8080/"
        },
        "id": "EdS1AmbOutWH",
        "outputId": "9498daf2-ba46-4d66-ad3c-322ac7e1ec58"
      },
      "execution_count": 12,
      "outputs": [
        {
          "output_type": "stream",
          "name": "stderr",
          "text": [
            "  9%|▉         | 877/10000 [00:17<03:01, 50.17it/s]\n"
          ]
        }
      ]
    },
    {
      "cell_type": "code",
      "source": [
        "plt.figure(figsize=(10, 6))\n",
        "plt.plot(range(len(losses_newton)), losses_newton, label=\"Newton's Method\", marker='o')\n",
        "plt.plot(range(len(losses)), losses, label=\"Gradient Descent\", marker='x')\n",
        "plt.xlabel('Iteration')\n",
        "plt.ylabel('Loss')\n",
        "plt.title('Loss Curves: Newton\\'s Method vs Gradient Descent (same gamma & beta_0)')\n",
        "plt.legend()\n",
        "plt.grid()\n",
        "plt.show()"
      ],
      "metadata": {
        "colab": {
          "base_uri": "https://localhost:8080/",
          "height": 564
        },
        "id": "Ezfjozno0Dit",
        "outputId": "79fb3bab-c1c7-491e-99a5-b6d36bd5e314"
      },
      "execution_count": null,
      "outputs": [
        {
          "output_type": "display_data",
          "data": {
            "text/plain": [
              "<Figure size 1000x600 with 1 Axes>"
            ],
            "image/png": "[encoded data removed]"
          },
          "metadata": {}
        }
      ]
    },
    {
      "cell_type": "markdown",
      "source": [
        "## As we can see the number of iteration for gradident descent is close to 7000, and number of iteration for Newton's method is around 850, note that $850^2$ is approxinatly 7000. According to what we learned, gradient descent is linear rate of convergence while Newton's method is quadratic rate of convergence, so our result match these convergence rates."
      ],
      "metadata": {
        "id": "LB4GcbKsdCLJ"
      }
    },
    {
      "cell_type": "code",
      "source": [
        "plt.hist(beta_newton, bins=30, edgecolor='black')  # Add edgecolor for clear bar separation\n",
        "plt.axvline(x=0, color='red', linestyle='--', label='Zero Line')  # Optional vertical reference line\n",
        "\n",
        "# Add labels and title\n",
        "plt.xlabel('Beta Values')\n",
        "plt.ylabel('Frequency')\n",
        "plt.title('Histogram of Fitted Beta Values')\n",
        "plt.legend()"
      ],
      "metadata": {
        "colab": {
          "base_uri": "https://localhost:8080/",
          "height": 489
        },
        "id": "shIX5d2H4-va",
        "outputId": "e90ad94a-d88e-4010-8d25-70b6b7cf48c1"
      },
      "execution_count": null,
      "outputs": [
        {
          "output_type": "execute_result",
          "data": {
            "text/plain": [
              "<matplotlib.legend.Legend at 0x7e6c782d14d0>"
            ]
          },
          "metadata": {},
          "execution_count": 363
        },
        {
          "output_type": "display_data",
          "data": {
            "text/plain": [
              "<Figure size 640x480 with 1 Axes>"
            ],
            "image/png": "[encoded data removed]"
          },
          "metadata": {}
        }
      ]
    },
    {
      "cell_type": "markdown",
      "source": [
        "# Estimated Top 10 Teams are the followings:\n"
      ],
      "metadata": {
        "id": "6My_QLSJ5NCy"
      }
    },
    {
      "cell_type": "code",
      "source": [
        "newton_top_10_indices = torch.topk(beta_newton, k=10).indices\n",
        "newton_top_10_teams = [teams[idx] for idx in newton_top_10_indices]\n",
        "newton_top_10_teams.sort()\n",
        "print(newton_top_10_teams)"
      ],
      "metadata": {
        "colab": {
          "base_uri": "https://localhost:8080/"
        },
        "id": "gwxUpQIp5Go7",
        "outputId": "4053ae02-3500-4c6c-9426-cefa6581882f"
      },
      "execution_count": null,
      "outputs": [
        {
          "output_type": "stream",
          "name": "stdout",
          "text": [
            "['Alabama', 'Colorado Mines', 'Florida State', 'Georgia', 'Johns Hopkins', 'Liberty', 'Michigan', 'South Dakota State', 'Texas', 'Washington']\n"
          ]
        }
      ]
    },
    {
      "cell_type": "markdown",
      "source": [
        "# True Top 10 Teams are the followings:"
      ],
      "metadata": {
        "id": "ZrnICmiJ5eKd"
      }
    },
    {
      "cell_type": "code",
      "source": [
        "print(ture_top_10_teams)"
      ],
      "metadata": {
        "colab": {
          "base_uri": "https://localhost:8080/"
        },
        "id": "cJy51Jon5fdD",
        "outputId": "18168737-3a3a-4b48-e0da-d08f2e0f9c66"
      },
      "execution_count": null,
      "outputs": [
        {
          "output_type": "stream",
          "name": "stdout",
          "text": [
            "['Alabama', 'Erskine', 'Florida State', 'Liberty', 'Lincoln University (CA)', 'Michigan', 'South Dakota State', 'Texas', 'Virginia Lynchburg', 'Washington']\n"
          ]
        }
      ]
    },
    {
      "cell_type": "code",
      "source": [
        "# correctness\n",
        "print(len(set(ture_top_10_teams).intersection(set(newton_top_10_teams)))/10)"
      ],
      "metadata": {
        "colab": {
          "base_uri": "https://localhost:8080/"
        },
        "id": "HRZyFw835uc4",
        "outputId": "deda43a1-e73a-43d4-b86e-d9f3d44c83c7"
      },
      "execution_count": null,
      "outputs": [
        {
          "output_type": "stream",
          "name": "stdout",
          "text": [
            "0.7\n"
          ]
        }
      ]
    },
    {
      "cell_type": "code",
      "source": [
        "# compare with gradient descent\n",
        "set(newton_top_10_teams) == set(top_10_teams)"
      ],
      "metadata": {
        "id": "5gsVHCXP69xA",
        "outputId": "9c3917f3-9757-46cc-9f51-0ac29405d170",
        "colab": {
          "base_uri": "https://localhost:8080/"
        }
      },
      "execution_count": null,
      "outputs": [
        {
          "output_type": "execute_result",
          "data": {
            "text/plain": [
              "True"
            ]
          },
          "metadata": {},
          "execution_count": 394
        }
      ]
    },
    {
      "cell_type": "markdown",
      "source": [
        "#### This ranking make sense because it's the team with the top 10 highest $\\beta_k$, by the model definition we have $$Y_i \\sim \\mathrm{Bern}\\big(\\sigma(\\beta_{h(i)} - \\beta_{a(i)}) \\big)$$\n",
        "since $\\sigma(\\cdot)$ is increasing function teams with higher $\\beta$\n",
        "will have a higher prob of winning against teams with lower\n",
        "$\\beta$, and as we can see by using this we can determine $7$ out of $10$ teams correctly, and the result from Newton's method iteration matches with the results from gradident descent"
      ],
      "metadata": {
        "id": "v9fYKN17fVMH"
      }
    },
    {
      "cell_type": "markdown",
      "metadata": {
        "id": "J9R91iI5NCMs"
      },
      "source": [
        "## Problem 4: Model criticism and revision\n",
        "\n",
        "Let's take another look the Bradley-Terry model from earlier and think about improvements we can make.\n"
      ]
    },
    {
      "cell_type": "markdown",
      "metadata": {
        "id": "yPSnL3odcj12"
      },
      "source": [
        "### Problem 4.1: Improvements to Bradley-Terry Model\n",
        "Choose one way to improve the Bradley-Terry model. Discuss *a priori* why you think this change will improve the model and implement your change."
      ]
    },
    {
      "cell_type": "markdown",
      "source": [
        "I think we can add more useful variables into the model, for example both team's **Pregame Elo**. That is because the Elo calculates the relative skill levels of players in zero-sum games, so knowing the skills level for both side is helpful to determine the winning probability.  However, the measurement for Elo seems a bit hard to interpret, so we cosider the Elo ratio for both teams:\n",
        "\n",
        "$$\n",
        "EloR_{home}=\\frac{Elo_{home}}{Elo_{home}+Elo_{Away}} \\ \\ \\ \\ \\ \\ \\ \\textbf{and}\\ \\ \\ \\ \\ \\ \\ EloR_{Away}=\\frac{Elo_{Away}}{Elo_{home}+Elo_{Away}}\n",
        "$$\n",
        "this can shows a \"relative\" value between two teams the Elo scores, and easy for us to compare. Now we add the following variable into the model\n",
        "$$\n",
        "EloRDiff = EloR_{home} - EloR_{Away}\n",
        "$$\n",
        "Now put this into the original Bradley-Terry model, we will have\n",
        "$$Y_i \\sim \\mathrm{Bern}\\big(\\sigma(\\beta_{h(i)} - \\beta_{a(i)} + \\beta_d \\cdot EloRDiff) \\big)$$"
      ],
      "metadata": {
        "id": "5C8pNXlY2ROh"
      }
    },
    {
      "cell_type": "code",
      "source": [
        "# fill pregame elo with col median\n",
        "allgames[\"Home Pregame Elo\"] = allgames[\"Home Pregame Elo\"].fillna(allgames[\"Home Pregame Elo\"].median())\n",
        "allgames[\"Away Pregame Elo\"] = allgames[\"Away Pregame Elo\"].fillna(allgames[\"Away Pregame Elo\"].median())"
      ],
      "metadata": {
        "id": "KHgIlrp7Bb5t"
      },
      "execution_count": null,
      "outputs": []
    },
    {
      "cell_type": "code",
      "source": [
        "allgames[\"Elo_sum\"] = allgames[\"Home Pregame Elo\"] + allgames[\"Away Pregame Elo\"]\n",
        "allgames[\"EloR_home\"] = allgames[\"Home Pregame Elo\"] / allgames[\"Elo_sum\"]\n",
        "allgames[\"EloR_away\"] = allgames[\"Away Pregame Elo\"] / allgames[\"Elo_sum\"]\n",
        "allgames[\"EloRDiff\"] = allgames[\"EloR_home\"] - allgames[\"EloR_away\"]"
      ],
      "metadata": {
        "id": "AsZDhoTi_mSw"
      },
      "execution_count": null,
      "outputs": []
    },
    {
      "cell_type": "code",
      "source": [
        "# add EloRDiff col to data\n",
        "EloRDiff = torch.tensor(allgames[\"EloRDiff\"].values, dtype=torch.float32)"
      ],
      "metadata": {
        "id": "Ac7CBIHQJGT9"
      },
      "execution_count": null,
      "outputs": []
    },
    {
      "cell_type": "code",
      "source": [
        "Combined_X = torch.cat((X, EloRDiff.unsqueeze(1)), dim=1)"
      ],
      "metadata": {
        "id": "o4s-qylVAX_5"
      },
      "execution_count": null,
      "outputs": []
    },
    {
      "cell_type": "code",
      "source": [
        "# Train, Test split\n",
        "train_indices = torch.tensor([idx for idx in range(X.shape[0]) if idx % 5 != 0])\n",
        "test_indices = torch.tensor([idx for idx in range(X.shape[0]) if idx % 5 == 0])"
      ],
      "metadata": {
        "id": "jizmOJSLBr89"
      },
      "execution_count": null,
      "outputs": []
    },
    {
      "cell_type": "code",
      "source": [
        "X_train = X[train_indices]\n",
        "y_train = y[train_indices]\n",
        "Combined_X_train = Combined_X[train_indices]\n",
        "Combined_X_test = Combined_X[test_indices]\n",
        "X_test = X[test_indices]\n",
        "y_test = y[test_indices]"
      ],
      "metadata": {
        "id": "QsKE0Ef3CCZk"
      },
      "execution_count": null,
      "outputs": []
    },
    {
      "cell_type": "code",
      "source": [
        "improved_beta, improved_losses = newton_method(Combined_X_train, y_train, 0.001, lr=0.1, if_sparse=True)\n",
        "original_beta, original_losses = newton_method(X_train, y_train, 0.001, lr=0.1, if_sparse=True)"
      ],
      "metadata": {
        "colab": {
          "base_uri": "https://localhost:8080/"
        },
        "id": "B0uHyIRxCu1n",
        "outputId": "7492ccea-e905-4764-896d-59d8ac519924"
      },
      "execution_count": null,
      "outputs": [
        {
          "output_type": "stream",
          "name": "stderr",
          "text": [
            "  1%|          | 60/10000 [00:01<04:49, 34.30it/s]\n",
            "  1%|          | 59/10000 [00:01<03:33, 46.50it/s]\n"
          ]
        }
      ]
    },
    {
      "cell_type": "markdown",
      "metadata": {
        "id": "Xt9Yn0NPc3nS"
      },
      "source": [
        "### Problem 4.2: Evaluation\n",
        "Assess whether or not your change was an improvement or not. Provide empirical evidence by evaluating performance on a held out test set and include at least one plot supporting your assessment."
      ]
    },
    {
      "cell_type": "markdown",
      "source": [
        "## As we can see, the modified model has less loss than the original model over the iteration"
      ],
      "metadata": {
        "id": "Pm0Hx-xEofL8"
      }
    },
    {
      "cell_type": "code",
      "source": [
        "plt.figure(figsize=(10, 6))\n",
        "plt.plot(original_losses, label=\"Original Model\", marker='o')\n",
        "plt.plot(improved_losses, label=\"Modified Model\", marker='x')\n",
        "plt.xlabel('Iteration')\n",
        "plt.ylabel('Loss')\n",
        "plt.title('Loss Over Iterations')\n",
        "plt.legend()\n",
        "plt.grid()\n",
        "plt.show()"
      ],
      "metadata": {
        "colab": {
          "base_uri": "https://localhost:8080/",
          "height": 564
        },
        "id": "pv_dQDoYa3X-",
        "outputId": "a7d9ea6a-c966-47be-c863-00fadc06a4cf"
      },
      "execution_count": null,
      "outputs": [
        {
          "output_type": "display_data",
          "data": {
            "text/plain": [
              "<Figure size 1000x600 with 1 Axes>"
            ],
            "image/png": "[encoded data removed]"
          },
          "metadata": {}
        }
      ]
    },
    {
      "cell_type": "markdown",
      "source": [
        "# The following plots shows the distribution of $\\beta$ in both model are very close."
      ],
      "metadata": {
        "id": "ZE2yPdWmo1_d"
      }
    },
    {
      "cell_type": "code",
      "source": [
        "bins = 30\n",
        "original_hist, bin_edges = torch.histogram(original_beta, bins=bins)\n",
        "improved_hist, _ = torch.histogram(improved_beta[:-1], bins=bin_edges)\n",
        "\n",
        "# Shift the bins slightly for side-by-side comparison\n",
        "width = (bin_edges[1] - bin_edges[0]) * 0.4\n",
        "x_centers = (bin_edges[:-1] + bin_edges[1:]) / 2\n",
        "\n",
        "# Plot the histograms\n",
        "plt.figure(figsize=(10, 6))\n",
        "plt.bar(x_centers - width / 2, original_hist.numpy(), width=width, label='Original Model Beta', alpha=0.7, edgecolor='black')\n",
        "plt.bar(x_centers + width / 2, improved_hist.numpy(), width=width, label='Modified Model Beta', alpha=0.7, edgecolor='black')\n",
        "\n",
        "# Add labels, title, and legend\n",
        "plt.axvline(x=0, color='red', linestyle='--', label='Zero Line')  # Optional reference line\n",
        "plt.xlabel('Beta Values')\n",
        "plt.ylabel('Frequency')\n",
        "plt.title('Comparison of Fitted Beta Values')\n",
        "plt.legend()\n",
        "plt.grid()\n",
        "plt.show()"
      ],
      "metadata": {
        "colab": {
          "base_uri": "https://localhost:8080/",
          "height": 564
        },
        "id": "SUORAjIzfw5b",
        "outputId": "a5cb5a90-f2ee-4181-dd6c-1d2f7e19d530"
      },
      "execution_count": null,
      "outputs": [
        {
          "output_type": "display_data",
          "data": {
            "text/plain": [
              "<Figure size 1000x600 with 1 Axes>"
            ],
            "image/png": "[encoded data removed]"
          },
          "metadata": {}
        }
      ]
    },
    {
      "cell_type": "markdown",
      "source": [
        "# The following results show our modified model has better performance on test sets in both Log-Loss and accuracy, but the performance improvement is very small, which is not significant."
      ],
      "metadata": {
        "id": "y_0SEKdzpDj-"
      }
    },
    {
      "cell_type": "code",
      "source": [
        "# Log loss\n",
        "improved_test_loss = loss(improved_beta, Combined_X_test, y_test)\n",
        "original_test_loss = loss(original_beta, X_test, y_test)\n",
        "\n",
        "# Accuracy\n",
        "improved_accuracy = torch.mean(((torch.sigmoid(torch.matmul(Combined_X_test, improved_beta)) > 0.5) == y_test).type(torch.float32)).item()\n",
        "original_accuracy = torch.mean(((torch.sigmoid(torch.matmul(X_test, original_beta)) > 0.5) == y_test).type(torch.float32)).item()"
      ],
      "metadata": {
        "id": "ytJdiQiAl4Hl"
      },
      "execution_count": null,
      "outputs": []
    },
    {
      "cell_type": "code",
      "source": [
        "improved_test_loss, original_test_loss"
      ],
      "metadata": {
        "colab": {
          "base_uri": "https://localhost:8080/"
        },
        "id": "DSxWkmMuHM-r",
        "outputId": "e2039cb3-76c6-4b0c-bc38-d2d581e8ebbe"
      },
      "execution_count": null,
      "outputs": [
        {
          "output_type": "execute_result",
          "data": {
            "text/plain": [
              "(tensor(0.5808), tensor(0.5831))"
            ]
          },
          "metadata": {},
          "execution_count": 426
        }
      ]
    },
    {
      "cell_type": "code",
      "source": [
        "improved_accuracy, original_accuracy"
      ],
      "metadata": {
        "colab": {
          "base_uri": "https://localhost:8080/"
        },
        "id": "aq5uJ8TZHP14",
        "outputId": "fa301055-2ec5-4552-8e2f-8bd25c95113f"
      },
      "execution_count": null,
      "outputs": [
        {
          "output_type": "execute_result",
          "data": {
            "text/plain": [
              "(0.7242339849472046, 0.7186629772186279)"
            ]
          },
          "metadata": {},
          "execution_count": 427
        }
      ]
    },
    {
      "cell_type": "code",
      "source": [
        "if (improved_test_loss - original_test_loss) < 0:\n",
        "  print(\"Improved Model has lower Log-Loss: Loss Difference = {}\".format(float(improved_test_loss - original_test_loss)))\n",
        "if (improved_accuracy - original_accuracy) > 0:\n",
        "  print(\"Improved Model has higher Accuracy: Accuracy Difference = {}\".format(float(improved_accuracy - original_accuracy)))"
      ],
      "metadata": {
        "colab": {
          "base_uri": "https://localhost:8080/"
        },
        "id": "DCW545MwmA64",
        "outputId": "4eff1fd9-6057-467d-d89e-398fc3b9f5f3"
      },
      "execution_count": null,
      "outputs": [
        {
          "output_type": "stream",
          "name": "stdout",
          "text": [
            "Improved Model has lower Log-Loss: Loss Difference = -0.0023246407508850098\n",
            "Improved Model has higher Accuracy: Accuracy Difference = 0.00557100772857666\n"
          ]
        }
      ]
    },
    {
      "cell_type": "markdown",
      "source": [
        "# After comparing estimated top 10 teams with the true top 10 teams (based on number of wining games), both model does not have very good estimation for top 10 teams; moreover, original model is getting 6 correct of top 10 team while the modified model can only get 2."
      ],
      "metadata": {
        "id": "qAMKvNCxlk9n"
      }
    },
    {
      "cell_type": "code",
      "source": [
        "improved_top_10_indices = torch.topk(improved_beta[:-1], k=10).indices\n",
        "improved_top_10_teams = [(float(improved_beta[:-1][idx]), teams[idx]) for idx in improved_top_10_indices]\n",
        "improved_top_10_teams.sort(key= lambda x: (-x[0], x[1]))\n",
        "\n",
        "original_top_10_indices = torch.topk(original_beta, k=10).indices\n",
        "original_top_10_teams = [(float(original_beta[idx]), teams[idx]) for idx in original_top_10_indices]\n",
        "original_top_10_teams.sort(key= lambda x: (-x[0], x[1]))\n",
        "\n",
        "true_top10_winnings = torch.topk(torch.abs(torch.matmul(X.T, y)), k=10).indices\n",
        "ture_top_10_teams = [(int(torch.abs(torch.matmul(X.T, y))[idx]) , teams[idx]) for idx in true_top10_winnings]\n",
        "ture_top_10_teams.sort(key= lambda x: (-x[0], x[1]))\n",
        "\n",
        "Ranking_Table = pd.DataFrame({ \"true_ranking\": [t[1] for t in ture_top_10_teams],\n",
        "                             \"winning_count\": [t[0] for t in ture_top_10_teams],\n",
        "                              \"modified_model_ranking\": [t[1] for t in improved_top_10_teams],\n",
        "                             \"modified_model_beta\": [t[0] for t in improved_top_10_teams],\n",
        "                             \"original_model_ranking\": [t[1] for t in original_top_10_teams],\n",
        "                             \"original_model_beta\": [t[0] for t in original_top_10_teams]})"
      ],
      "metadata": {
        "id": "3szg4_91FmHw"
      },
      "execution_count": null,
      "outputs": []
    },
    {
      "cell_type": "code",
      "source": [
        "Ranking_Table"
      ],
      "metadata": {
        "colab": {
          "base_uri": "https://localhost:8080/",
          "height": 363
        },
        "id": "rJYnbZ3QhKE1",
        "outputId": "c61e1b57-7146-4180-f754-172b938229a0"
      },
      "execution_count": null,
      "outputs": [
        {
          "output_type": "execute_result",
          "data": {
            "text/plain": [
              "              true_ranking  winning_count modified_model_ranking  \\\n",
              "0  Lincoln University (CA)             11               Missouri   \n",
              "1       Virginia Lynchburg              9     South Dakota State   \n",
              "2            Florida State              8            Susquehanna   \n",
              "3                  Liberty              8          Johns Hopkins   \n",
              "4               Washington              8                Alabama   \n",
              "5                  Alabama              7         Colorado Mines   \n",
              "6                  Erskine              7           Alma College   \n",
              "7                 Michigan              7             Ohio State   \n",
              "8       South Dakota State              7            Mount Union   \n",
              "9                    Texas              7         Valdosta State   \n",
              "\n",
              "   modified_model_beta original_model_ranking  original_model_beta  \n",
              "0             1.013195                Alabama             1.080783  \n",
              "1             1.002020             Ohio State             1.048067  \n",
              "2             0.988246               Missouri             1.012734  \n",
              "3             0.984934          Florida State             1.005409  \n",
              "4             0.969928     South Dakota State             1.002152  \n",
              "5             0.949031            Susquehanna             0.988251  \n",
              "6             0.943580          Johns Hopkins             0.984118  \n",
              "7             0.938690                  Texas             0.981370  \n",
              "8             0.935198               Michigan             0.974979  \n",
              "9             0.932693             Washington             0.956092  "
            ],
            "text/html": [
              "\n",
              "  <div id=\"df-4413063a-a89d-4d85-b1b7-91df60648e3e\" class=\"colab-df-container\">\n",
              "    <div>\n",
              "<style scoped>\n",
              "    .dataframe tbody tr th:only-of-type {\n",
              "        vertical-align: middle;\n",
              "    }\n",
              "\n",
              "    .dataframe tbody tr th {\n",
              "        vertical-align: top;\n",
              "    }\n",
              "\n",
              "    .dataframe thead th {\n",
              "        text-align: right;\n",
              "    }\n",
              "</style>\n",
              "<table border=\"1\" class=\"dataframe\">\n",
              "  <thead>\n",
              "    <tr style=\"text-align: right;\">\n",
              "      <th></th>\n",
              "      <th>true_ranking</th>\n",
              "      <th>winning_count</th>\n",
              "      <th>modified_model_ranking</th>\n",
              "      <th>modified_model_beta</th>\n",
              "      <th>original_model_ranking</th>\n",
              "      <th>original_model_beta</th>\n",
              "    </tr>\n",
              "  </thead>\n",
              "  <tbody>\n",
              "    <tr>\n",
              "      <th>0</th>\n",
              "      <td>Lincoln University (CA)</td>\n",
              "      <td>11</td>\n",
              "      <td>Missouri</td>\n",
              "      <td>1.013195</td>\n",
              "      <td>Alabama</td>\n",
              "      <td>1.080783</td>\n",
              "    </tr>\n",
              "    <tr>\n",
              "      <th>1</th>\n",
              "      <td>Virginia Lynchburg</td>\n",
              "      <td>9</td>\n",
              "      <td>South Dakota State</td>\n",
              "      <td>1.002020</td>\n",
              "      <td>Ohio State</td>\n",
              "      <td>1.048067</td>\n",
              "    </tr>\n",
              "    <tr>\n",
              "      <th>2</th>\n",
              "      <td>Florida State</td>\n",
              "      <td>8</td>\n",
              "      <td>Susquehanna</td>\n",
              "      <td>0.988246</td>\n",
              "      <td>Missouri</td>\n",
              "      <td>1.012734</td>\n",
              "    </tr>\n",
              "    <tr>\n",
              "      <th>3</th>\n",
              "      <td>Liberty</td>\n",
              "      <td>8</td>\n",
              "      <td>Johns Hopkins</td>\n",
              "      <td>0.984934</td>\n",
              "      <td>Florida State</td>\n",
              "      <td>1.005409</td>\n",
              "    </tr>\n",
              "    <tr>\n",
              "      <th>4</th>\n",
              "      <td>Washington</td>\n",
              "      <td>8</td>\n",
              "      <td>Alabama</td>\n",
              "      <td>0.969928</td>\n",
              "      <td>South Dakota State</td>\n",
              "      <td>1.002152</td>\n",
              "    </tr>\n",
              "    <tr>\n",
              "      <th>5</th>\n",
              "      <td>Alabama</td>\n",
              "      <td>7</td>\n",
              "      <td>Colorado Mines</td>\n",
              "      <td>0.949031</td>\n",
              "      <td>Susquehanna</td>\n",
              "      <td>0.988251</td>\n",
              "    </tr>\n",
              "    <tr>\n",
              "      <th>6</th>\n",
              "      <td>Erskine</td>\n",
              "      <td>7</td>\n",
              "      <td>Alma College</td>\n",
              "      <td>0.943580</td>\n",
              "      <td>Johns Hopkins</td>\n",
              "      <td>0.984118</td>\n",
              "    </tr>\n",
              "    <tr>\n",
              "      <th>7</th>\n",
              "      <td>Michigan</td>\n",
              "      <td>7</td>\n",
              "      <td>Ohio State</td>\n",
              "      <td>0.938690</td>\n",
              "      <td>Texas</td>\n",
              "      <td>0.981370</td>\n",
              "    </tr>\n",
              "    <tr>\n",
              "      <th>8</th>\n",
              "      <td>South Dakota State</td>\n",
              "      <td>7</td>\n",
              "      <td>Mount Union</td>\n",
              "      <td>0.935198</td>\n",
              "      <td>Michigan</td>\n",
              "      <td>0.974979</td>\n",
              "    </tr>\n",
              "    <tr>\n",
              "      <th>9</th>\n",
              "      <td>Texas</td>\n",
              "      <td>7</td>\n",
              "      <td>Valdosta State</td>\n",
              "      <td>0.932693</td>\n",
              "      <td>Washington</td>\n",
              "      <td>0.956092</td>\n",
              "    </tr>\n",
              "  </tbody>\n",
              "</table>\n",
              "</div>\n",
              "    <div class=\"colab-df-buttons\">\n",
              "\n",
              "  <div class=\"colab-df-container\">\n",
              "    <button class=\"colab-df-convert\" onclick=\"convertToInteractive('df-4413063a-a89d-4d85-b1b7-91df60648e3e')\"\n",
              "            title=\"Convert this dataframe to an interactive table.\"\n",
              "            style=\"display:none;\">\n",
              "\n",
              "  <svg xmlns=\"http://www.w3.org/2000/svg\" height=\"24px\" viewBox=\"0 -960 960 960\">\n",
              "    <path d=\"M120-120v-720h720v720H120Zm60-500h600v-160H180v160Zm220 220h160v-160H400v160Zm0 220h160v-160H400v160ZM180-400h160v-160H180v160Zm440 0h160v-160H620v160ZM180-180h160v-160H180v160Zm440 0h160v-160H620v160Z\"/>\n",
              "  </svg>\n",
              "    </button>\n",
              "\n",
              "  <style>\n",
              "    .colab-df-container {\n",
              "      display:flex;\n",
              "      gap: 12px;\n",
              "    }\n",
              "\n",
              "    .colab-df-convert {\n",
              "      background-color: #E8F0FE;\n",
              "      border: none;\n",
              "      border-radius: 50%;\n",
              "      cursor: pointer;\n",
              "      display: none;\n",
              "      fill: #1967D2;\n",
              "      height: 32px;\n",
              "      padding: 0 0 0 0;\n",
              "      width: 32px;\n",
              "    }\n",
              "\n",
              "    .colab-df-convert:hover {\n",
              "      background-color: #E2EBFA;\n",
              "      box-shadow: 0px 1px 2px rgba(60, 64, 67, 0.3), 0px 1px 3px 1px rgba(60, 64, 67, 0.15);\n",
              "      fill: #174EA6;\n",
              "    }\n",
              "\n",
              "    .colab-df-buttons div {\n",
              "      margin-bottom: 4px;\n",
              "    }\n",
              "\n",
              "    [theme=dark] .colab-df-convert {\n",
              "      background-color: #3B4455;\n",
              "      fill: #D2E3FC;\n",
              "    }\n",
              "\n",
              "    [theme=dark] .colab-df-convert:hover {\n",
              "      background-color: #434B5C;\n",
              "      box-shadow: 0px 1px 3px 1px rgba(0, 0, 0, 0.15);\n",
              "      filter: drop-shadow(0px 1px 2px rgba(0, 0, 0, 0.3));\n",
              "      fill: #FFFFFF;\n",
              "    }\n",
              "  </style>\n",
              "\n",
              "    <script>\n",
              "      const buttonEl =\n",
              "        document.querySelector('#df-4413063a-a89d-4d85-b1b7-91df60648e3e button.colab-df-convert');\n",
              "      buttonEl.style.display =\n",
              "        google.colab.kernel.accessAllowed ? 'block' : 'none';\n",
              "\n",
              "      async function convertToInteractive(key) {\n",
              "        const element = document.querySelector('#df-4413063a-a89d-4d85-b1b7-91df60648e3e');\n",
              "        const dataTable =\n",
              "          await google.colab.kernel.invokeFunction('convertToInteractive',\n",
              "                                                    [key], {});\n",
              "        if (!dataTable) return;\n",
              "\n",
              "        const docLinkHtml = 'Like what you see? Visit the ' +\n",
              "          '<a target=\"_blank\" href=https://colab.research.google.com/notebooks/data_table.ipynb>data table notebook</a>'\n",
              "          + ' to learn more about interactive tables.';\n",
              "        element.innerHTML = '';\n",
              "        dataTable['output_type'] = 'display_data';\n",
              "        await google.colab.output.renderOutput(dataTable, element);\n",
              "        const docLink = document.createElement('div');\n",
              "        docLink.innerHTML = docLinkHtml;\n",
              "        element.appendChild(docLink);\n",
              "      }\n",
              "    </script>\n",
              "  </div>\n",
              "\n",
              "\n",
              "<div id=\"df-497fe697-cbb6-46aa-bb44-69b353f0b8a8\">\n",
              "  <button class=\"colab-df-quickchart\" onclick=\"quickchart('df-497fe697-cbb6-46aa-bb44-69b353f0b8a8')\"\n",
              "            title=\"Suggest charts\"\n",
              "            style=\"display:none;\">\n",
              "\n",
              "<svg xmlns=\"http://www.w3.org/2000/svg\" height=\"24px\"viewBox=\"0 0 24 24\"\n",
              "     width=\"24px\">\n",
              "    <g>\n",
              "        <path d=\"M19 3H5c-1.1 0-2 .9-2 2v14c0 1.1.9 2 2 2h14c1.1 0 2-.9 2-2V5c0-1.1-.9-2-2-2zM9 17H7v-7h2v7zm4 0h-2V7h2v10zm4 0h-2v-4h2v4z\"/>\n",
              "    </g>\n",
              "</svg>\n",
              "  </button>\n",
              "\n",
              "<style>\n",
              "  .colab-df-quickchart {\n",
              "      --bg-color: #E8F0FE;\n",
              "      --fill-color: #1967D2;\n",
              "      --hover-bg-color: #E2EBFA;\n",
              "      --hover-fill-color: #174EA6;\n",
              "      --disabled-fill-color: #AAA;\n",
              "      --disabled-bg-color: #DDD;\n",
              "  }\n",
              "\n",
              "  [theme=dark] .colab-df-quickchart {\n",
              "      --bg-color: #3B4455;\n",
              "      --fill-color: #D2E3FC;\n",
              "      --hover-bg-color: #434B5C;\n",
              "      --hover-fill-color: #FFFFFF;\n",
              "      --disabled-bg-color: #3B4455;\n",
              "      --disabled-fill-color: #666;\n",
              "  }\n",
              "\n",
              "  .colab-df-quickchart {\n",
              "    background-color: var(--bg-color);\n",
              "    border: none;\n",
              "    border-radius: 50%;\n",
              "    cursor: pointer;\n",
              "    display: none;\n",
              "    fill: var(--fill-color);\n",
              "    height: 32px;\n",
              "    padding: 0;\n",
              "    width: 32px;\n",
              "  }\n",
              "\n",
              "  .colab-df-quickchart:hover {\n",
              "    background-color: var(--hover-bg-color);\n",
              "    box-shadow: 0 1px 2px rgba(60, 64, 67, 0.3), 0 1px 3px 1px rgba(60, 64, 67, 0.15);\n",
              "    fill: var(--button-hover-fill-color);\n",
              "  }\n",
              "\n",
              "  .colab-df-quickchart-complete:disabled,\n",
              "  .colab-df-quickchart-complete:disabled:hover {\n",
              "    background-color: var(--disabled-bg-color);\n",
              "    fill: var(--disabled-fill-color);\n",
              "    box-shadow: none;\n",
              "  }\n",
              "\n",
              "  .colab-df-spinner {\n",
              "    border: 2px solid var(--fill-color);\n",
              "    border-color: transparent;\n",
              "    border-bottom-color: var(--fill-color);\n",
              "    animation:\n",
              "      spin 1s steps(1) infinite;\n",
              "  }\n",
              "\n",
              "  @keyframes spin {\n",
              "    0% {\n",
              "      border-color: transparent;\n",
              "      border-bottom-color: var(--fill-color);\n",
              "      border-left-color: var(--fill-color);\n",
              "    }\n",
              "    20% {\n",
              "      border-color: transparent;\n",
              "      border-left-color: var(--fill-color);\n",
              "      border-top-color: var(--fill-color);\n",
              "    }\n",
              "    30% {\n",
              "      border-color: transparent;\n",
              "      border-left-color: var(--fill-color);\n",
              "      border-top-color: var(--fill-color);\n",
              "      border-right-color: var(--fill-color);\n",
              "    }\n",
              "    40% {\n",
              "      border-color: transparent;\n",
              "      border-right-color: var(--fill-color);\n",
              "      border-top-color: var(--fill-color);\n",
              "    }\n",
              "    60% {\n",
              "      border-color: transparent;\n",
              "      border-right-color: var(--fill-color);\n",
              "    }\n",
              "    80% {\n",
              "      border-color: transparent;\n",
              "      border-right-color: var(--fill-color);\n",
              "      border-bottom-color: var(--fill-color);\n",
              "    }\n",
              "    90% {\n",
              "      border-color: transparent;\n",
              "      border-bottom-color: var(--fill-color);\n",
              "    }\n",
              "  }\n",
              "</style>\n",
              "\n",
              "  <script>\n",
              "    async function quickchart(key) {\n",
              "      const quickchartButtonEl =\n",
              "        document.querySelector('#' + key + ' button');\n",
              "      quickchartButtonEl.disabled = true;  // To prevent multiple clicks.\n",
              "      quickchartButtonEl.classList.add('colab-df-spinner');\n",
              "      try {\n",
              "        const charts = await google.colab.kernel.invokeFunction(\n",
              "            'suggestCharts', [key], {});\n",
              "      } catch (error) {\n",
              "        console.error('Error during call to suggestCharts:', error);\n",
              "      }\n",
              "      quickchartButtonEl.classList.remove('colab-df-spinner');\n",
              "      quickchartButtonEl.classList.add('colab-df-quickchart-complete');\n",
              "    }\n",
              "    (() => {\n",
              "      let quickchartButtonEl =\n",
              "        document.querySelector('#df-497fe697-cbb6-46aa-bb44-69b353f0b8a8 button');\n",
              "      quickchartButtonEl.style.display =\n",
              "        google.colab.kernel.accessAllowed ? 'block' : 'none';\n",
              "    })();\n",
              "  </script>\n",
              "</div>\n",
              "\n",
              "  <div id=\"id_fa060ce2-6454-4ea7-abe3-c3e7fa4a052c\">\n",
              "    <style>\n",
              "      .colab-df-generate {\n",
              "        background-color: #E8F0FE;\n",
              "        border: none;\n",
              "        border-radius: 50%;\n",
              "        cursor: pointer;\n",
              "        display: none;\n",
              "        fill: #1967D2;\n",
              "        height: 32px;\n",
              "        padding: 0 0 0 0;\n",
              "        width: 32px;\n",
              "      }\n",
              "\n",
              "      .colab-df-generate:hover {\n",
              "        background-color: #E2EBFA;\n",
              "        box-shadow: 0px 1px 2px rgba(60, 64, 67, 0.3), 0px 1px 3px 1px rgba(60, 64, 67, 0.15);\n",
              "        fill: #174EA6;\n",
              "      }\n",
              "\n",
              "      [theme=dark] .colab-df-generate {\n",
              "        background-color: #3B4455;\n",
              "        fill: #D2E3FC;\n",
              "      }\n",
              "\n",
              "      [theme=dark] .colab-df-generate:hover {\n",
              "        background-color: #434B5C;\n",
              "        box-shadow: 0px 1px 3px 1px rgba(0, 0, 0, 0.15);\n",
              "        filter: drop-shadow(0px 1px 2px rgba(0, 0, 0, 0.3));\n",
              "        fill: #FFFFFF;\n",
              "      }\n",
              "    </style>\n",
              "    <button class=\"colab-df-generate\" onclick=\"generateWithVariable('Ranking_Table')\"\n",
              "            title=\"Generate code using this dataframe.\"\n",
              "            style=\"display:none;\">\n",
              "\n",
              "  <svg xmlns=\"http://www.w3.org/2000/svg\" height=\"24px\"viewBox=\"0 0 24 24\"\n",
              "       width=\"24px\">\n",
              "    <path d=\"M7,19H8.4L18.45,9,17,7.55,7,17.6ZM5,21V16.75L18.45,3.32a2,2,0,0,1,2.83,0l1.4,1.43a1.91,1.91,0,0,1,.58,1.4,1.91,1.91,0,0,1-.58,1.4L9.25,21ZM18.45,9,17,7.55Zm-12,3A5.31,5.31,0,0,0,4.9,8.1,5.31,5.31,0,0,0,1,6.5,5.31,5.31,0,0,0,4.9,4.9,5.31,5.31,0,0,0,6.5,1,5.31,5.31,0,0,0,8.1,4.9,5.31,5.31,0,0,0,12,6.5,5.46,5.46,0,0,0,6.5,12Z\"/>\n",
              "  </svg>\n",
              "    </button>\n",
              "    <script>\n",
              "      (() => {\n",
              "      const buttonEl =\n",
              "        document.querySelector('#id_fa060ce2-6454-4ea7-abe3-c3e7fa4a052c button.colab-df-generate');\n",
              "      buttonEl.style.display =\n",
              "        google.colab.kernel.accessAllowed ? 'block' : 'none';\n",
              "\n",
              "      buttonEl.onclick = () => {\n",
              "        google.colab.notebook.generateWithVariable('Ranking_Table');\n",
              "      }\n",
              "      })();\n",
              "    </script>\n",
              "  </div>\n",
              "\n",
              "    </div>\n",
              "  </div>\n"
            ],
            "application/vnd.google.colaboratory.intrinsic+json": {
              "type": "dataframe",
              "variable_name": "Ranking_Table",
              "summary": "{\n  \"name\": \"Ranking_Table\",\n  \"rows\": 10,\n  \"fields\": [\n    {\n      \"column\": \"true_ranking\",\n      \"properties\": {\n        \"dtype\": \"string\",\n        \"num_unique_values\": 10,\n        \"samples\": [\n          \"South Dakota State\",\n          \"Virginia Lynchburg\",\n          \"Alabama\"\n        ],\n        \"semantic_type\": \"\",\n        \"description\": \"\"\n      }\n    },\n    {\n      \"column\": \"winning_count\",\n      \"properties\": {\n        \"dtype\": \"number\",\n        \"std\": 1,\n        \"min\": 7,\n        \"max\": 11,\n        \"num_unique_values\": 4,\n        \"samples\": [\n          9,\n          7,\n          11\n        ],\n        \"semantic_type\": \"\",\n        \"description\": \"\"\n      }\n    },\n    {\n      \"column\": \"modified_model_ranking\",\n      \"properties\": {\n        \"dtype\": \"string\",\n        \"num_unique_values\": 10,\n        \"samples\": [\n          \"Mount Union\",\n          \"South Dakota State\",\n          \"Colorado Mines\"\n        ],\n        \"semantic_type\": \"\",\n        \"description\": \"\"\n      }\n    },\n    {\n      \"column\": \"modified_model_beta\",\n      \"properties\": {\n        \"dtype\": \"number\",\n        \"std\": 0.02979086297402853,\n        \"min\": 0.9326934218406677,\n        \"max\": 1.0131947994232178,\n        \"num_unique_values\": 10,\n        \"samples\": [\n          0.9351983666419983,\n          1.002020239830017,\n          0.9490314722061157\n        ],\n        \"semantic_type\": \"\",\n        \"description\": \"\"\n      }\n    },\n    {\n      \"column\": \"original_model_ranking\",\n      \"properties\": {\n        \"dtype\": \"string\",\n        \"num_unique_values\": 10,\n        \"samples\": [\n          \"Michigan\",\n          \"Ohio State\",\n          \"Susquehanna\"\n        ],\n        \"semantic_type\": \"\",\n        \"description\": \"\"\n      }\n    },\n    {\n      \"column\": \"original_model_beta\",\n      \"properties\": {\n        \"dtype\": \"number\",\n        \"std\": 0.03683059798384892,\n        \"min\": 0.9560920596122742,\n        \"max\": 1.0807833671569824,\n        \"num_unique_values\": 10,\n        \"samples\": [\n          0.9749794602394104,\n          1.0480672121047974,\n          0.9882506728172302\n        ],\n        \"semantic_type\": \"\",\n        \"description\": \"\"\n      }\n    }\n  ]\n}"
            }
          },
          "metadata": {},
          "execution_count": 432
        }
      ]
    },
    {
      "cell_type": "code",
      "source": [
        "# correctness - original\n",
        "print(len(set([x[1] for x in ture_top_10_teams]).intersection(set([x[1] for x in original_top_10_teams])))/10)"
      ],
      "metadata": {
        "colab": {
          "base_uri": "https://localhost:8080/"
        },
        "id": "jT7oHDjZlDIl",
        "outputId": "b0a89517-84d6-4def-9923-0c3e7cc35847"
      },
      "execution_count": null,
      "outputs": [
        {
          "output_type": "stream",
          "name": "stdout",
          "text": [
            "0.6\n"
          ]
        }
      ]
    },
    {
      "cell_type": "code",
      "source": [
        "# correctness - modified\n",
        "print(len(set([x[1] for x in ture_top_10_teams]).intersection(set([x[1] for x in improved_top_10_teams])))/10)"
      ],
      "metadata": {
        "colab": {
          "base_uri": "https://localhost:8080/"
        },
        "id": "9R4D7P9ylM64",
        "outputId": "bfffe36b-4d33-425c-9bf4-417084d3d67f"
      },
      "execution_count": null,
      "outputs": [
        {
          "output_type": "stream",
          "name": "stdout",
          "text": [
            "0.2\n"
          ]
        }
      ]
    },
    {
      "cell_type": "markdown",
      "metadata": {
        "id": "yQvtv-eHdBM5"
      },
      "source": [
        "# According to the above empirical result, our modified model does not have improvement in the estimation, both modified and original models have almost the same level of performance but modified model does not estimate the top 10 team well."
      ]
    },
    {
      "cell_type": "markdown",
      "metadata": {
        "id": "87F609vpdEq0"
      },
      "source": [
        "### Problem 4.3: Reflection\n",
        "Reflecting on the analysis we've conducted in this assignemnt, which conference is best? Is there a significant difference? Please justify your answer."
      ]
    },
    {
      "cell_type": "code",
      "source": [
        "allgames = allgames.dropna(subset=['Home Conference', 'Away Conference'])"
      ],
      "metadata": {
        "id": "5Ny_M7WA9rYm"
      },
      "execution_count": 99,
      "outputs": []
    },
    {
      "cell_type": "code",
      "source": [
        "Conferences = set(allgames[\"Home Conference\"].unique()).union(set(allgames[\"Away Conference\"].unique()))\n",
        "Conferences_betas_group = set()\n",
        "for _, row in allgames.iterrows():\n",
        "  Conferences_betas_group.add((row[\"Home Conference\"], team_to_index[row[\"Home Team\"]], float(beta_newton[team_to_index[row[\"Home Team\"]]])))\n",
        "  Conferences_betas_group.add((row[\"Away Conference\"], team_to_index[row[\"Away Team\"]], float(beta_newton[team_to_index[row[\"Away Team\"]]])))"
      ],
      "metadata": {
        "id": "Kx5Z6s67-7Sz"
      },
      "execution_count": 100,
      "outputs": []
    },
    {
      "cell_type": "code",
      "source": [
        "Conferences_betas_df = pd.DataFrame(Conferences_betas_group, columns=[\"Conference\", \"Team\", \"Beta\"])"
      ],
      "metadata": {
        "id": "MPFtTMuxXeIv"
      },
      "execution_count": 101,
      "outputs": []
    },
    {
      "cell_type": "code",
      "source": [
        "Conferences_betas_df"
      ],
      "metadata": {
        "colab": {
          "base_uri": "https://localhost:8080/",
          "height": 424
        },
        "id": "_BDh26SMXrJl",
        "outputId": "4f77444b-9557-4024-9779-5b7a1b81a58d"
      },
      "execution_count": 102,
      "outputs": [
        {
          "output_type": "execute_result",
          "data": {
            "text/plain": [
              "             Conference  Team      Beta\n",
              "0               Big Ten   347  0.856837\n",
              "1     American Athletic   197 -0.470199\n",
              "2               Big Sky   611 -0.387087\n",
              "3                   CAA     5  0.409213\n",
              "4      FBS Independents    65 -0.434167\n",
              "..                  ...   ...       ...\n",
              "660              NEWMAC   652 -0.632897\n",
              "661                CIAA   425  0.413956\n",
              "662        Mid Atlantic   575  0.468969\n",
              "663  Commonwealth Coast   341  0.499442\n",
              "664      Liberty League   355  0.344615\n",
              "\n",
              "[665 rows x 3 columns]"
            ],
            "text/html": [
              "\n",
              "  <div id=\"df-dfe66a13-74e4-41af-947b-e57a336279cb\" class=\"colab-df-container\">\n",
              "    <div>\n",
              "<style scoped>\n",
              "    .dataframe tbody tr th:only-of-type {\n",
              "        vertical-align: middle;\n",
              "    }\n",
              "\n",
              "    .dataframe tbody tr th {\n",
              "        vertical-align: top;\n",
              "    }\n",
              "\n",
              "    .dataframe thead th {\n",
              "        text-align: right;\n",
              "    }\n",
              "</style>\n",
              "<table border=\"1\" class=\"dataframe\">\n",
              "  <thead>\n",
              "    <tr style=\"text-align: right;\">\n",
              "      <th></th>\n",
              "      <th>Conference</th>\n",
              "      <th>Team</th>\n",
              "      <th>Beta</th>\n",
              "    </tr>\n",
              "  </thead>\n",
              "  <tbody>\n",
              "    <tr>\n",
              "      <th>0</th>\n",
              "      <td>Big Ten</td>\n",
              "      <td>347</td>\n",
              "      <td>0.856837</td>\n",
              "    </tr>\n",
              "    <tr>\n",
              "      <th>1</th>\n",
              "      <td>American Athletic</td>\n",
              "      <td>197</td>\n",
              "      <td>-0.470199</td>\n",
              "    </tr>\n",
              "    <tr>\n",
              "      <th>2</th>\n",
              "      <td>Big Sky</td>\n",
              "      <td>611</td>\n",
              "      <td>-0.387087</td>\n",
              "    </tr>\n",
              "    <tr>\n",
              "      <th>3</th>\n",
              "      <td>CAA</td>\n",
              "      <td>5</td>\n",
              "      <td>0.409213</td>\n",
              "    </tr>\n",
              "    <tr>\n",
              "      <th>4</th>\n",
              "      <td>FBS Independents</td>\n",
              "      <td>65</td>\n",
              "      <td>-0.434167</td>\n",
              "    </tr>\n",
              "    <tr>\n",
              "      <th>...</th>\n",
              "      <td>...</td>\n",
              "      <td>...</td>\n",
              "      <td>...</td>\n",
              "    </tr>\n",
              "    <tr>\n",
              "      <th>660</th>\n",
              "      <td>NEWMAC</td>\n",
              "      <td>652</td>\n",
              "      <td>-0.632897</td>\n",
              "    </tr>\n",
              "    <tr>\n",
              "      <th>661</th>\n",
              "      <td>CIAA</td>\n",
              "      <td>425</td>\n",
              "      <td>0.413956</td>\n",
              "    </tr>\n",
              "    <tr>\n",
              "      <th>662</th>\n",
              "      <td>Mid Atlantic</td>\n",
              "      <td>575</td>\n",
              "      <td>0.468969</td>\n",
              "    </tr>\n",
              "    <tr>\n",
              "      <th>663</th>\n",
              "      <td>Commonwealth Coast</td>\n",
              "      <td>341</td>\n",
              "      <td>0.499442</td>\n",
              "    </tr>\n",
              "    <tr>\n",
              "      <th>664</th>\n",
              "      <td>Liberty League</td>\n",
              "      <td>355</td>\n",
              "      <td>0.344615</td>\n",
              "    </tr>\n",
              "  </tbody>\n",
              "</table>\n",
              "<p>665 rows × 3 columns</p>\n",
              "</div>\n",
              "    <div class=\"colab-df-buttons\">\n",
              "\n",
              "  <div class=\"colab-df-container\">\n",
              "    <button class=\"colab-df-convert\" onclick=\"convertToInteractive('df-dfe66a13-74e4-41af-947b-e57a336279cb')\"\n",
              "            title=\"Convert this dataframe to an interactive table.\"\n",
              "            style=\"display:none;\">\n",
              "\n",
              "  <svg xmlns=\"http://www.w3.org/2000/svg\" height=\"24px\" viewBox=\"0 -960 960 960\">\n",
              "    <path d=\"M120-120v-720h720v720H120Zm60-500h600v-160H180v160Zm220 220h160v-160H400v160Zm0 220h160v-160H400v160ZM180-400h160v-160H180v160Zm440 0h160v-160H620v160ZM180-180h160v-160H180v160Zm440 0h160v-160H620v160Z\"/>\n",
              "  </svg>\n",
              "    </button>\n",
              "\n",
              "  <style>\n",
              "    .colab-df-container {\n",
              "      display:flex;\n",
              "      gap: 12px;\n",
              "    }\n",
              "\n",
              "    .colab-df-convert {\n",
              "      background-color: #E8F0FE;\n",
              "      border: none;\n",
              "      border-radius: 50%;\n",
              "      cursor: pointer;\n",
              "      display: none;\n",
              "      fill: #1967D2;\n",
              "      height: 32px;\n",
              "      padding: 0 0 0 0;\n",
              "      width: 32px;\n",
              "    }\n",
              "\n",
              "    .colab-df-convert:hover {\n",
              "      background-color: #E2EBFA;\n",
              "      box-shadow: 0px 1px 2px rgba(60, 64, 67, 0.3), 0px 1px 3px 1px rgba(60, 64, 67, 0.15);\n",
              "      fill: #174EA6;\n",
              "    }\n",
              "\n",
              "    .colab-df-buttons div {\n",
              "      margin-bottom: 4px;\n",
              "    }\n",
              "\n",
              "    [theme=dark] .colab-df-convert {\n",
              "      background-color: #3B4455;\n",
              "      fill: #D2E3FC;\n",
              "    }\n",
              "\n",
              "    [theme=dark] .colab-df-convert:hover {\n",
              "      background-color: #434B5C;\n",
              "      box-shadow: 0px 1px 3px 1px rgba(0, 0, 0, 0.15);\n",
              "      filter: drop-shadow(0px 1px 2px rgba(0, 0, 0, 0.3));\n",
              "      fill: #FFFFFF;\n",
              "    }\n",
              "  </style>\n",
              "\n",
              "    <script>\n",
              "      const buttonEl =\n",
              "        document.querySelector('#df-dfe66a13-74e4-41af-947b-e57a336279cb button.colab-df-convert');\n",
              "      buttonEl.style.display =\n",
              "        google.colab.kernel.accessAllowed ? 'block' : 'none';\n",
              "\n",
              "      async function convertToInteractive(key) {\n",
              "        const element = document.querySelector('#df-dfe66a13-74e4-41af-947b-e57a336279cb');\n",
              "        const dataTable =\n",
              "          await google.colab.kernel.invokeFunction('convertToInteractive',\n",
              "                                                    [key], {});\n",
              "        if (!dataTable) return;\n",
              "\n",
              "        const docLinkHtml = 'Like what you see? Visit the ' +\n",
              "          '<a target=\"_blank\" href=https://colab.research.google.com/notebooks/data_table.ipynb>data table notebook</a>'\n",
              "          + ' to learn more about interactive tables.';\n",
              "        element.innerHTML = '';\n",
              "        dataTable['output_type'] = 'display_data';\n",
              "        await google.colab.output.renderOutput(dataTable, element);\n",
              "        const docLink = document.createElement('div');\n",
              "        docLink.innerHTML = docLinkHtml;\n",
              "        element.appendChild(docLink);\n",
              "      }\n",
              "    </script>\n",
              "  </div>\n",
              "\n",
              "\n",
              "<div id=\"df-650de997-9120-4f14-95dc-03471ef6314f\">\n",
              "  <button class=\"colab-df-quickchart\" onclick=\"quickchart('df-650de997-9120-4f14-95dc-03471ef6314f')\"\n",
              "            title=\"Suggest charts\"\n",
              "            style=\"display:none;\">\n",
              "\n",
              "<svg xmlns=\"http://www.w3.org/2000/svg\" height=\"24px\"viewBox=\"0 0 24 24\"\n",
              "     width=\"24px\">\n",
              "    <g>\n",
              "        <path d=\"M19 3H5c-1.1 0-2 .9-2 2v14c0 1.1.9 2 2 2h14c1.1 0 2-.9 2-2V5c0-1.1-.9-2-2-2zM9 17H7v-7h2v7zm4 0h-2V7h2v10zm4 0h-2v-4h2v4z\"/>\n",
              "    </g>\n",
              "</svg>\n",
              "  </button>\n",
              "\n",
              "<style>\n",
              "  .colab-df-quickchart {\n",
              "      --bg-color: #E8F0FE;\n",
              "      --fill-color: #1967D2;\n",
              "      --hover-bg-color: #E2EBFA;\n",
              "      --hover-fill-color: #174EA6;\n",
              "      --disabled-fill-color: #AAA;\n",
              "      --disabled-bg-color: #DDD;\n",
              "  }\n",
              "\n",
              "  [theme=dark] .colab-df-quickchart {\n",
              "      --bg-color: #3B4455;\n",
              "      --fill-color: #D2E3FC;\n",
              "      --hover-bg-color: #434B5C;\n",
              "      --hover-fill-color: #FFFFFF;\n",
              "      --disabled-bg-color: #3B4455;\n",
              "      --disabled-fill-color: #666;\n",
              "  }\n",
              "\n",
              "  .colab-df-quickchart {\n",
              "    background-color: var(--bg-color);\n",
              "    border: none;\n",
              "    border-radius: 50%;\n",
              "    cursor: pointer;\n",
              "    display: none;\n",
              "    fill: var(--fill-color);\n",
              "    height: 32px;\n",
              "    padding: 0;\n",
              "    width: 32px;\n",
              "  }\n",
              "\n",
              "  .colab-df-quickchart:hover {\n",
              "    background-color: var(--hover-bg-color);\n",
              "    box-shadow: 0 1px 2px rgba(60, 64, 67, 0.3), 0 1px 3px 1px rgba(60, 64, 67, 0.15);\n",
              "    fill: var(--button-hover-fill-color);\n",
              "  }\n",
              "\n",
              "  .colab-df-quickchart-complete:disabled,\n",
              "  .colab-df-quickchart-complete:disabled:hover {\n",
              "    background-color: var(--disabled-bg-color);\n",
              "    fill: var(--disabled-fill-color);\n",
              "    box-shadow: none;\n",
              "  }\n",
              "\n",
              "  .colab-df-spinner {\n",
              "    border: 2px solid var(--fill-color);\n",
              "    border-color: transparent;\n",
              "    border-bottom-color: var(--fill-color);\n",
              "    animation:\n",
              "      spin 1s steps(1) infinite;\n",
              "  }\n",
              "\n",
              "  @keyframes spin {\n",
              "    0% {\n",
              "      border-color: transparent;\n",
              "      border-bottom-color: var(--fill-color);\n",
              "      border-left-color: var(--fill-color);\n",
              "    }\n",
              "    20% {\n",
              "      border-color: transparent;\n",
              "      border-left-color: var(--fill-color);\n",
              "      border-top-color: var(--fill-color);\n",
              "    }\n",
              "    30% {\n",
              "      border-color: transparent;\n",
              "      border-left-color: var(--fill-color);\n",
              "      border-top-color: var(--fill-color);\n",
              "      border-right-color: var(--fill-color);\n",
              "    }\n",
              "    40% {\n",
              "      border-color: transparent;\n",
              "      border-right-color: var(--fill-color);\n",
              "      border-top-color: var(--fill-color);\n",
              "    }\n",
              "    60% {\n",
              "      border-color: transparent;\n",
              "      border-right-color: var(--fill-color);\n",
              "    }\n",
              "    80% {\n",
              "      border-color: transparent;\n",
              "      border-right-color: var(--fill-color);\n",
              "      border-bottom-color: var(--fill-color);\n",
              "    }\n",
              "    90% {\n",
              "      border-color: transparent;\n",
              "      border-bottom-color: var(--fill-color);\n",
              "    }\n",
              "  }\n",
              "</style>\n",
              "\n",
              "  <script>\n",
              "    async function quickchart(key) {\n",
              "      const quickchartButtonEl =\n",
              "        document.querySelector('#' + key + ' button');\n",
              "      quickchartButtonEl.disabled = true;  // To prevent multiple clicks.\n",
              "      quickchartButtonEl.classList.add('colab-df-spinner');\n",
              "      try {\n",
              "        const charts = await google.colab.kernel.invokeFunction(\n",
              "            'suggestCharts', [key], {});\n",
              "      } catch (error) {\n",
              "        console.error('Error during call to suggestCharts:', error);\n",
              "      }\n",
              "      quickchartButtonEl.classList.remove('colab-df-spinner');\n",
              "      quickchartButtonEl.classList.add('colab-df-quickchart-complete');\n",
              "    }\n",
              "    (() => {\n",
              "      let quickchartButtonEl =\n",
              "        document.querySelector('#df-650de997-9120-4f14-95dc-03471ef6314f button');\n",
              "      quickchartButtonEl.style.display =\n",
              "        google.colab.kernel.accessAllowed ? 'block' : 'none';\n",
              "    })();\n",
              "  </script>\n",
              "</div>\n",
              "\n",
              "  <div id=\"id_db071c52-5ad7-4e65-8784-fd137be02329\">\n",
              "    <style>\n",
              "      .colab-df-generate {\n",
              "        background-color: #E8F0FE;\n",
              "        border: none;\n",
              "        border-radius: 50%;\n",
              "        cursor: pointer;\n",
              "        display: none;\n",
              "        fill: #1967D2;\n",
              "        height: 32px;\n",
              "        padding: 0 0 0 0;\n",
              "        width: 32px;\n",
              "      }\n",
              "\n",
              "      .colab-df-generate:hover {\n",
              "        background-color: #E2EBFA;\n",
              "        box-shadow: 0px 1px 2px rgba(60, 64, 67, 0.3), 0px 1px 3px 1px rgba(60, 64, 67, 0.15);\n",
              "        fill: #174EA6;\n",
              "      }\n",
              "\n",
              "      [theme=dark] .colab-df-generate {\n",
              "        background-color: #3B4455;\n",
              "        fill: #D2E3FC;\n",
              "      }\n",
              "\n",
              "      [theme=dark] .colab-df-generate:hover {\n",
              "        background-color: #434B5C;\n",
              "        box-shadow: 0px 1px 3px 1px rgba(0, 0, 0, 0.15);\n",
              "        filter: drop-shadow(0px 1px 2px rgba(0, 0, 0, 0.3));\n",
              "        fill: #FFFFFF;\n",
              "      }\n",
              "    </style>\n",
              "    <button class=\"colab-df-generate\" onclick=\"generateWithVariable('Conferences_betas_df')\"\n",
              "            title=\"Generate code using this dataframe.\"\n",
              "            style=\"display:none;\">\n",
              "\n",
              "  <svg xmlns=\"http://www.w3.org/2000/svg\" height=\"24px\"viewBox=\"0 0 24 24\"\n",
              "       width=\"24px\">\n",
              "    <path d=\"M7,19H8.4L18.45,9,17,7.55,7,17.6ZM5,21V16.75L18.45,3.32a2,2,0,0,1,2.83,0l1.4,1.43a1.91,1.91,0,0,1,.58,1.4,1.91,1.91,0,0,1-.58,1.4L9.25,21ZM18.45,9,17,7.55Zm-12,3A5.31,5.31,0,0,0,4.9,8.1,5.31,5.31,0,0,0,1,6.5,5.31,5.31,0,0,0,4.9,4.9,5.31,5.31,0,0,0,6.5,1,5.31,5.31,0,0,0,8.1,4.9,5.31,5.31,0,0,0,12,6.5,5.46,5.46,0,0,0,6.5,12Z\"/>\n",
              "  </svg>\n",
              "    </button>\n",
              "    <script>\n",
              "      (() => {\n",
              "      const buttonEl =\n",
              "        document.querySelector('#id_db071c52-5ad7-4e65-8784-fd137be02329 button.colab-df-generate');\n",
              "      buttonEl.style.display =\n",
              "        google.colab.kernel.accessAllowed ? 'block' : 'none';\n",
              "\n",
              "      buttonEl.onclick = () => {\n",
              "        google.colab.notebook.generateWithVariable('Conferences_betas_df');\n",
              "      }\n",
              "      })();\n",
              "    </script>\n",
              "  </div>\n",
              "\n",
              "    </div>\n",
              "  </div>\n"
            ],
            "application/vnd.google.colaboratory.intrinsic+json": {
              "type": "dataframe",
              "variable_name": "Conferences_betas_df",
              "summary": "{\n  \"name\": \"Conferences_betas_df\",\n  \"rows\": 665,\n  \"fields\": [\n    {\n      \"column\": \"Conference\",\n      \"properties\": {\n        \"dtype\": \"category\",\n        \"num_unique_values\": 71,\n        \"samples\": [\n          \"Empire 8\",\n          \"Big Ten\",\n          \"Sun Belt\"\n        ],\n        \"semantic_type\": \"\",\n        \"description\": \"\"\n      }\n    },\n    {\n      \"column\": \"Team\",\n      \"properties\": {\n        \"dtype\": \"number\",\n        \"std\": 195,\n        \"min\": 0,\n        \"max\": 677,\n        \"num_unique_values\": 665,\n        \"samples\": [\n          375,\n          454,\n          408\n        ],\n        \"semantic_type\": \"\",\n        \"description\": \"\"\n      }\n    },\n    {\n      \"column\": \"Beta\",\n      \"properties\": {\n        \"dtype\": \"number\",\n        \"std\": 0.43770094507137286,\n        \"min\": -0.903907060623169,\n        \"max\": 1.0538030862808228,\n        \"num_unique_values\": 658,\n        \"samples\": [\n          -0.3288591504096985,\n          -0.895365834236145,\n          -0.03646055608987808\n        ],\n        \"semantic_type\": \"\",\n        \"description\": \"\"\n      }\n    }\n  ]\n}"
            }
          },
          "metadata": {},
          "execution_count": 102
        }
      ]
    },
    {
      "cell_type": "code",
      "source": [
        "Conference_group = Conferences_betas_df.groupby(\"Conference\")"
      ],
      "metadata": {
        "id": "h3xuJ3eyX5Kf"
      },
      "execution_count": 107,
      "outputs": []
    },
    {
      "cell_type": "code",
      "source": [
        "# get max average beta in group\n",
        "Conferences_betas = {cf_name : torch.tensor(cf_group[\"Beta\"].values, dtype=torch.float32) for cf_name, cf_group in Conference_group}"
      ],
      "metadata": {
        "id": "rIXpfYnMYGdQ"
      },
      "execution_count": 108,
      "outputs": []
    },
    {
      "cell_type": "code",
      "source": [
        "Conferences_betas_mean = {cf_names : torch.mean(torch.stack((betas,))) for cf_names, betas in Conferences_betas.items()} # Wrap betas in a tuple\n",
        "Best_Conference = max(Conferences_betas_mean, key=Conferences_betas_mean.get)\n",
        "Best_Conference, float(Conferences_betas_mean[Best_Conference])"
      ],
      "metadata": {
        "id": "7e2zoF6lBk_r",
        "outputId": "88ac5127-20a9-4475-817f-18754713deaf",
        "colab": {
          "base_uri": "https://localhost:8080/"
        }
      },
      "execution_count": 109,
      "outputs": [
        {
          "output_type": "execute_result",
          "data": {
            "text/plain": [
              "('SEC', 0.2739911675453186)"
            ]
          },
          "metadata": {},
          "execution_count": 109
        }
      ]
    },
    {
      "cell_type": "markdown",
      "source": [
        "## From the above result we see that, the **SEC** conference is the best since the teams in this conference have the highest average $\\beta=0.2739911675453186$"
      ],
      "metadata": {
        "id": "Qd_TnDP2fX1F"
      }
    },
    {
      "cell_type": "markdown",
      "source": [
        "## Here we perform a one-way F-test to determine if there exists significant differences between the conference based on the team's $\\beta_k$"
      ],
      "metadata": {
        "id": "b3Kn2vz3EE6R"
      }
    },
    {
      "cell_type": "markdown",
      "source": [
        "That is we want to test:\n",
        "\n",
        "$$\n",
        "H_0: \\ \\ \\bar{\\beta}_{c_1}=\\bar{\\beta}_{c_2}=...=\\bar{\\beta}_{c_n}\\ \\ \\ \\ \\ vs \\ \\ \\ \\ \\ H_\\alpha: \\ \\ \\text{exist $\\bar{\\beta}_{c_k}$ different from the rest}\n",
        "$$"
      ],
      "metadata": {
        "id": "mo1Qy84teS7l"
      }
    },
    {
      "cell_type": "code",
      "source": [
        "from scipy.stats import f_oneway\n",
        "f_stat, p_value = f_oneway(*Conferences_betas.values())\n",
        "f_stat, p_value"
      ],
      "metadata": {
        "id": "PEh24eC4C21B",
        "colab": {
          "base_uri": "https://localhost:8080/"
        },
        "outputId": "05b16b97-b9a6-4f59-fbbb-c066d0d7edf2"
      },
      "execution_count": 110,
      "outputs": [
        {
          "output_type": "execute_result",
          "data": {
            "text/plain": [
              "(0.7197656689609921, 0.9566519398081665)"
            ]
          },
          "metadata": {},
          "execution_count": 110
        }
      ]
    },
    {
      "cell_type": "markdown",
      "source": [
        "We can see that p-value$\\approx 0.956>0.05$, so we cannot reject $H_0$, therefore there is no significent difference between the conferences."
      ],
      "metadata": {
        "id": "0xz0zyr3e4yI"
      }
    },
    {
      "cell_type": "code",
      "source": [],
      "metadata": {
        "id": "3wc3StQGl8bC"
      },
      "execution_count": null,
      "outputs": []
    }
  ],
  "metadata": {
    "accelerator": "GPU",
    "colab": {
      "gpuType": "T4",
      "machine_shape": "hm",
      "provenance": []
    },
    "kernelspec": {
      "display_name": "base",
      "language": "python",
      "name": "python3"
    },
    "language_info": {
      "codemirror_mode": {
        "name": "ipython",
        "version": 3
      },
      "file_extension": ".py",
      "mimetype": "text/x-python",
      "name": "python",
      "nbconvert_exporter": "python",
      "pygments_lexer": "ipython3",
      "version": "3.10.9"
    }
  },
  "nbformat": 4,
  "nbformat_minor": 0
}