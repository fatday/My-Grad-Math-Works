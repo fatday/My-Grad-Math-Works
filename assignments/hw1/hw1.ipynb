{
  "cells": [
    {
      "cell_type": "markdown",
      "metadata": {
        "id": "P_JIQE4w9xbB"
      },
      "source": [
        "# HW1: Logistic Regression\n",
        "\n",
        "This class is about models and algorithms for discrete data. This homework will have all 3 ingredients:\n",
        "* **Data**: the results from all college football games in the 2023 season\n",
        "* **Model**: The *Bradely-Terry* model for predicting the winners of football game. The Bradley-Terry model is just logistic regression.\n",
        "* **Algorithm**: We will implement two ways of fitting logistic regression: gradient descent and Newton's method"
      ]
    },
    {
      "cell_type": "markdown",
      "metadata": {
        "id": "oi2v2m5yCJE9"
      },
      "source": [
        "## The Bradley-Terry Model\n",
        "\n",
        "In the Bradley-Terry Model, we give team $k$ a team-effect $\\beta_k$. Basically, higher $\\beta_k$ (relatively speaking), means that team $k$ is a better team.\n",
        "The Bradley-Terry model formalizes this intution by modeling the log odds of team $k$ beating team $k'$ by the difference in their team effects, $\\beta_k - \\beta_{k'}$.\n",
        "\n",
        "Let $i = 1,\\ldots, n$ index games, and let $h(i) \\in \\{1,\\ldots,K\\}$ and $a(i) \\in \\{1,\\ldots,K\\}$ denote the indices of the home and away teams, respectively.\n",
        "Let $Y_i \\in \\{0,1\\}$ denote whether the home team won.\n",
        "Under the Bradley-Terry model,\n",
        "\\begin{equation*}\n",
        "  Y_i \\sim \\mathrm{Bern}\\big(\\sigma(\\beta_{h(i)} - \\beta_{a(i)}) \\big),\n",
        "\\end{equation*}\n",
        "where $\\sigma(\\cdot)$ is the sigmoid function. We can view this model as a logistic regression model with covariates $x_i \\in \\mathbb{R}^K$ where,\n",
        "\\begin{align*}\n",
        "x_{i,k} &=\n",
        "\\begin{cases}\n",
        "+1 &\\text{if } h(i) = k \\\\\n",
        "-1 &\\text{if } a(i) = k \\\\\n",
        "0 &\\text{o.w.},\n",
        "\\end{cases}\n",
        "\\end{align*}\n",
        "and parameters $\\beta \\in \\mathbb{R}^K$."
      ]
    },
    {
      "cell_type": "markdown",
      "metadata": {
        "id": "toIIF0ej-a7I"
      },
      "source": [
        "## Data\n",
        "\n",
        "We use the results of college football games in the fall 2023 season, which are available from the course github page and loaded for you below.\n",
        "\n",
        "The data comes as a list of the outcomes of individual games. You'll need to wrangle the data to get it into a format that you can feed into the Bradley-Terry model."
      ]
    },
    {
      "cell_type": "code",
      "execution_count": null,
      "metadata": {
        "id": "qvTw_232nr-v"
      },
      "outputs": [],
      "source": [
        "import torch\n",
        "import pandas as pd\n",
        "import matplotlib.pyplot as plt\n",
        "from tqdm import tqdm"
      ]
    },
    {
      "cell_type": "code",
      "execution_count": null,
      "metadata": {
        "id": "WIYCdEBqnvJG"
      },
      "outputs": [],
      "source": [
        "allgames = pd.read_csv(\"https://raw.githubusercontent.com/slinderman/stats305b/winter2025/data/01_allgames.csv\")"
      ]
    },
    {
      "cell_type": "markdown",
      "metadata": {
        "id": "6FdThTVP2nFE"
      },
      "source": [
        "## Problem 0: Preprocessing\n",
        "\n",
        "Preprocess the data to drop games with nan scores, construct the covariate matrix $X$, construct the response vector $y$, and do any other preprocessing you find useful."
      ]
    },
    {
      "cell_type": "code",
      "execution_count": null,
      "metadata": {
        "id": "nqniyukI2nFE"
      },
      "outputs": [],
      "source": [
        "# your code here"
      ]
    },
    {
      "cell_type": "markdown",
      "metadata": {
        "id": "ZjUJOkAWHWD0"
      },
      "source": [
        "## Problem 1: Loss function\n",
        "\n",
        "Write a function to compute the loss, $L(\\beta)$ defined be\n",
        "\n",
        "\\begin{equation*}\n",
        "  L(\\beta) = -\\frac{1}{n} \\sum_{i=1}^n \\log p(y_i \\mid x_i; \\beta) + \\frac{\\gamma}{2} \\| \\beta \\|_2^2\n",
        "\\end{equation*}\n",
        "where $\\gamma$ is a hyperparameter that controls the strength of your $\\ell_2$ regularization.\n",
        "\n",
        "You may want to use the `torch.distributions.Bernoulli` class."
      ]
    },
    {
      "cell_type": "code",
      "execution_count": null,
      "metadata": {
        "id": "WTaCXlvSHuxh"
      },
      "outputs": [],
      "source": [
        "# your code here"
      ]
    },
    {
      "cell_type": "markdown",
      "metadata": {
        "id": "8Cx0wyYytSb7"
      },
      "source": [
        "## Problem 2: Gradient Descent"
      ]
    },
    {
      "cell_type": "markdown",
      "metadata": {
        "id": "xuNBMXGsO-7q"
      },
      "source": [
        "### Problem 2.1 Implementing and checking your gradients\n",
        "\n",
        "\n",
        "Write a function to compute the gradient of the average negative log likelihood and check your output against the results obtained by PyTorch's automatic differentiation functionality."
      ]
    },
    {
      "cell_type": "code",
      "execution_count": null,
      "metadata": {
        "id": "ROj5lRuOsASh"
      },
      "outputs": [],
      "source": [
        "# your code here"
      ]
    },
    {
      "cell_type": "markdown",
      "metadata": {
        "id": "Cl9CAUpTPtpw"
      },
      "source": [
        "### Problem 2.2: Implement Gradient Descent\n",
        "\n",
        "\n",
        "Now, use gradient descent to fit your Bradley-Terry model to the provided data.\n",
        "\n",
        "Deliverables for this question:\n",
        "1. Code the implements gradient descent to fit your Bradley-Terry model to the provided data.\n",
        "2. A plot of the loss curve of your algorithm and a brief discussion if it makes sense or not\n",
        "3. A plot of the histogram of the fitted values of $\\beta$\n",
        "4. The top 10 teams from your ranking, and a discussion of whether this ranking makes sense or not."
      ]
    },
    {
      "cell_type": "code",
      "execution_count": null,
      "metadata": {
        "id": "kPSNWKE8sKIH"
      },
      "outputs": [],
      "source": [
        "# your code here (you can use multiple code and markdown cells to organize your answer)"
      ]
    },
    {
      "cell_type": "markdown",
      "metadata": {
        "id": "lBPDg-5QtXQV"
      },
      "source": [
        "## Problem 3: Newton's Method\n",
        "\n",
        "Now, use Newton's method to fit your Bradley-Terry model to the provided data.\n"
      ]
    },
    {
      "cell_type": "markdown",
      "metadata": {
        "id": "Pi_R1fgkFbQ0"
      },
      "source": [
        "### Problem 3.1 The Hessian\n",
        "\n"
      ]
    },
    {
      "cell_type": "markdown",
      "metadata": {
        "id": "RS0kTKtVLDlQ"
      },
      "source": [
        "#### Problem 3.1.1. Implement and check the Hessian\n",
        "Write a function to compute the Hessian of the average negative log likelihood and check your answer against the output of `from torch.autograd.functional.hessian`."
      ]
    },
    {
      "cell_type": "markdown",
      "metadata": {
        "id": "TtSlxUAkLE-y"
      },
      "source": [
        "#### Problem 3.1.2: Positive definiteness\n",
        "\n",
        "Compute the Hessian at the point $\\beta = 0$ without regularization (set $\\gamma = 0$). Unless you've done sort of pre-processing, it's probably singular."
      ]
    },
    {
      "cell_type": "code",
      "execution_count": null,
      "metadata": {
        "id": "6KQjQZtfsUZ6"
      },
      "outputs": [],
      "source": [
        "# your code here"
      ]
    },
    {
      "cell_type": "markdown",
      "metadata": {
        "id": "GKVxT91XLbSL"
      },
      "source": [
        "#### Problem 3.1.3\n",
        "\n",
        "Describe intuitively and mathematically what it means for the Hessian of the negative log likelihood to be singular in the context of this data and model"
      ]
    },
    {
      "cell_type": "markdown",
      "metadata": {
        "id": "yAsLFSGXsWXO"
      },
      "source": [
        "*your answer here*"
      ]
    },
    {
      "cell_type": "markdown",
      "metadata": {
        "id": "TvClzEjJLk52"
      },
      "source": [
        "#### Problem 3.1.4\n",
        "\n",
        "Give a hypothesis for why the Hessian in this dataset and model is singular, and provide empirical evidence to support your hypothesis."
      ]
    },
    {
      "cell_type": "markdown",
      "metadata": {
        "id": "dFphHjnxsjE2"
      },
      "source": [
        "*your answer here*"
      ]
    },
    {
      "cell_type": "code",
      "execution_count": null,
      "metadata": {
        "id": "-wxWOBOQslRc"
      },
      "outputs": [],
      "source": [
        "# your code here"
      ]
    },
    {
      "cell_type": "markdown",
      "metadata": {
        "id": "EtKlPKs9LyNw"
      },
      "source": [
        "#### Problem 3.1.5\n",
        "\n",
        "Explain why the Hessian is invertible when $\\gamma > 0$."
      ]
    },
    {
      "cell_type": "markdown",
      "metadata": {
        "id": "CgvigoXaspaw"
      },
      "source": [
        "*your answer here*"
      ]
    },
    {
      "cell_type": "markdown",
      "metadata": {
        "id": "szaThYwMMuf4"
      },
      "source": [
        "### Problem 3.2: Implement Newton's method\n",
        "\n",
        "Now, use Newton's method to fit your $\\ell_2$-regularized Bradley-Terry model to the provided data.\n",
        "\n",
        "Deliverables for this question:\n",
        "1. Code the implements Newton's method to fit your Bradley-Terry model to the provided data.\n",
        "2. A plot of the loss curves from Newton's method and from gradient descent, using the same regularization strength $\\gamma$ and initialization $\\beta_0$. Briefly discuss the results and compare their rates of convergence.\n",
        "3. A plot of the histogram of the fitted values of $\\beta$\n",
        "4. The top 10 teams from your ranking, and a discussion of whether this ranking makes sense or not."
      ]
    },
    {
      "cell_type": "code",
      "execution_count": null,
      "metadata": {
        "id": "FPYUCllcsri7"
      },
      "outputs": [],
      "source": [
        "# your code here (you can use multiple code and markdown cells to organize your answer)"
      ]
    },
    {
      "cell_type": "markdown",
      "metadata": {
        "id": "J9R91iI5NCMs"
      },
      "source": [
        "## Problem 4: Model criticism and revision\n",
        "\n",
        "Let's take another look the Bradley-Terry model from earlier and think about improvements we can make.\n"
      ]
    },
    {
      "cell_type": "markdown",
      "metadata": {
        "id": "yPSnL3odcj12"
      },
      "source": [
        "### Problem 4.1: Improvements to Bradley-Terry Model\n",
        "Choose one way to improve the Bradley-Terry model. Discuss *a priori* why you think this change will improve the model and implement your change."
      ]
    },
    {
      "cell_type": "markdown",
      "metadata": {
        "id": "gngpLxYpczp0"
      },
      "source": [
        "*your answer here*"
      ]
    },
    {
      "cell_type": "markdown",
      "metadata": {
        "id": "Xt9Yn0NPc3nS"
      },
      "source": [
        "### Problem 4.2: Evaluation\n",
        "Assess whether or not your change was an improvement or not. Provide empirical evidence by evaluating performance on a held out test set and include at least one plot supporting your assessment."
      ]
    },
    {
      "cell_type": "markdown",
      "metadata": {
        "id": "yQvtv-eHdBM5"
      },
      "source": [
        "*your answer here*"
      ]
    },
    {
      "cell_type": "markdown",
      "metadata": {
        "id": "87F609vpdEq0"
      },
      "source": [
        "### Problem 4.3: Reflection\n",
        "Reflecting on the analysis we've conducted in this assignemnt, which conference is best? Is there a significant difference? Please justify your answer."
      ]
    },
    {
      "cell_type": "markdown",
      "metadata": {
        "id": "-4YnbZWVdmWv"
      },
      "source": [
        "*your answer here*"
      ]
    },
    {
      "cell_type": "markdown",
      "metadata": {
        "id": "9TL_LAYoyI2T"
      },
      "source": [
        "## Submission Instructions\n",
        "\n",
        "**Formatting:** check that your code does not exceed 80 characters in line width. You can set _Tools &rarr; Settings &rarr; Editor &rarr; Vertical ruler column_ to 80 to see when you've exceeded the limit.\n",
        "\n",
        "**Converting to PDF** The simplest way to convert to PDF is to use the \"Print to PDF\" option in your browser. Just make sure that your code and plots aren't cut off, as it may not wrap lines.\n",
        "\n",
        "**Alternatively** You can download your notebook in .ipynb format and use the following commands to convert it to PDF.  Then run the following command to convert to a PDF:\n",
        "```\n",
        "jupyter nbconvert --to pdf <yourlastname>_hw<number>.ipynb\n",
        "```\n",
        "(Note that for the above code to work, you need to rename your file `<yourlastname>_hw<number>.ipynb`)\n",
        "\n",
        "**Installing nbconvert:**\n",
        "\n",
        "If you're using Anaconda for package management,\n",
        "```\n",
        "conda install -c anaconda nbconvert\n",
        "```\n",
        "\n",
        "**Upload** your .pdf file to Gradescope. Please tag your questions correctly! I.e., for each question, all of and only the relevant sections are tagged.\n",
        "\n",
        "Please post on Ed or come to OH if there are any other problems submitting the HW."
      ]
    }
  ],
  "metadata": {
    "accelerator": "GPU",
    "colab": {
      "gpuType": "A100",
      "machine_shape": "hm",
      "provenance": []
    },
    "kernelspec": {
      "display_name": "base",
      "language": "python",
      "name": "python3"
    },
    "language_info": {
      "codemirror_mode": {
        "name": "ipython",
        "version": 3
      },
      "file_extension": ".py",
      "mimetype": "text/x-python",
      "name": "python",
      "nbconvert_exporter": "python",
      "pygments_lexer": "ipython3",
      "version": "3.10.9"
    }
  },
  "nbformat": 4,
  "nbformat_minor": 0
}