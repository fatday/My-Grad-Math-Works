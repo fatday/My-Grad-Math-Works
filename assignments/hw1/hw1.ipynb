{
  "cells": [
    {
      "cell_type": "markdown",
      "metadata": {
        "id": "P_JIQE4w9xbB"
      },
      "source": [
        "# HW1: Logistic Regression\n",
        "\n",
        "This class is about models and algorithms for discrete data. This homework will have all 3 ingredients:\n",
        "* **Data**: the results from all college football games in the 2023 season\n",
        "* **Model**: The *Bradely-Terry* model for predicting the winners of football game. The Bradley-Terry model is just logistic regression.\n",
        "* **Algorithm**: We will implement two ways of fitting logistic regression: gradient descent and Newton's method"
      ]
    },
    {
      "cell_type": "markdown",
      "metadata": {
        "id": "oi2v2m5yCJE9"
      },
      "source": [
        "## The Bradley-Terry Model\n",
        "\n",
        "In the Bradley-Terry Model, we give team $k$ a team-effect $\\beta_k$. Basically, higher $\\beta_k$ (relatively speaking), means that team $k$ is a better team.\n",
        "The Bradley-Terry model formalizes this intution by modeling the log odds of team $k$ beating team $k'$ by the difference in their team effects, $\\beta_k - \\beta_{k'}$.\n",
        "\n",
        "Let $i = 1,\\ldots, n$ index games, and let $h(i) \\in \\{1,\\ldots,K\\}$ and $a(i) \\in \\{1,\\ldots,K\\}$ denote the indices of the home and away teams, respectively.\n",
        "Let $Y_i \\in \\{0,1\\}$ denote whether the home team won.\n",
        "Under the Bradley-Terry model,\n",
        "\\begin{equation*}\n",
        "  Y_i \\sim \\mathrm{Bern}\\big(\\sigma(\\beta_{h(i)} - \\beta_{a(i)}) \\big),\n",
        "\\end{equation*}\n",
        "where $\\sigma(\\cdot)$ is the sigmoid function. We can view this model as a logistic regression model with covariates $x_i \\in \\mathbb{R}^K$ where,\n",
        "\\begin{align*}\n",
        "x_{i,k} &=\n",
        "\\begin{cases}\n",
        "+1 &\\text{if } h(i) = k \\\\\n",
        "-1 &\\text{if } a(i) = k \\\\\n",
        "0 &\\text{o.w.},\n",
        "\\end{cases}\n",
        "\\end{align*}\n",
        "and parameters $\\beta \\in \\mathbb{R}^K$."
      ]
    },
    {
      "cell_type": "markdown",
      "metadata": {
        "id": "toIIF0ej-a7I"
      },
      "source": [
        "## Data\n",
        "\n",
        "We use the results of college football games in the fall 2023 season, which are available from the course github page and loaded for you below.\n",
        "\n",
        "The data comes as a list of the outcomes of individual games. You'll need to wrangle the data to get it into a format that you can feed into the Bradley-Terry model."
      ]
    },
    {
      "cell_type": "code",
      "execution_count": 14,
      "metadata": {
        "id": "qvTw_232nr-v"
      },
      "outputs": [],
      "source": [
        "import torch\n",
        "import pandas as pd\n",
        "import matplotlib.pyplot as plt\n",
        "from tqdm import tqdm"
      ]
    },
    {
      "cell_type": "code",
      "execution_count": 15,
      "metadata": {
        "id": "WIYCdEBqnvJG"
      },
      "outputs": [],
      "source": [
        "allgames = pd.read_csv(\"https://raw.githubusercontent.com/slinderman/stats305b/winter2025/data/01_allgames.csv\")"
      ]
    },
    {
      "cell_type": "markdown",
      "metadata": {
        "id": "EdKbx8UT6Pjg"
      },
      "source": [
        "## Problem 0: Preprocessing\n",
        "\n",
        "Preprocess the data to drop games with nan scores, construct the covariate matrix $X$, construct the response vector $y$, and do any other preprocessing you find useful."
      ]
    },
    {
      "cell_type": "code",
      "execution_count": 37,
      "metadata": {
        "id": "jvIQBLWv6Pjg"
      },
      "outputs": [],
      "source": [
        "# your code here\n",
        "allgames = allgames.dropna(subset=['Home Points', 'Away Points'])\n",
        "teams = pd.concat([allgames['Home Team'], allgames['Away Team']]).unique()\n",
        "team_to_index = {team: idx for idx, team in enumerate(teams)}\n",
        "allgames['Home Index'] = allgames['Home Team'].map(team_to_index)\n",
        "allgames['Away Index'] = allgames['Away Team'].map(team_to_index)\n",
        "allgames = allgames.reset_index()\n",
        "X = []\n",
        "for _, row in allgames.iterrows():\n",
        "    x = [0] * len(teams)\n",
        "    x[row['Home Index']] = 1\n",
        "    x[row['Away Index']] = -1\n",
        "    X.append(x)\n",
        "\n",
        "X = torch.tensor(X, dtype=torch.float32)"
      ]
    },
    {
      "cell_type": "code",
      "source": [
        "y = (allgames['Home Points'] > allgames['Away Points']).astype(int).values\n",
        "y = torch.tensor(y, dtype=torch.float32)\n",
        "y"
      ],
      "metadata": {
        "colab": {
          "base_uri": "https://localhost:8080/"
        },
        "id": "g2btNExU7e1f",
        "outputId": "3fedaf4e-4d18-4715-d950-d97aa0a1a3ec"
      },
      "execution_count": 24,
      "outputs": [
        {
          "output_type": "execute_result",
          "data": {
            "text/plain": [
              "tensor([1., 1., 1.,  ..., 1., 0., 1.])"
            ]
          },
          "metadata": {},
          "execution_count": 24
        }
      ]
    },
    {
      "cell_type": "markdown",
      "metadata": {
        "id": "ZjUJOkAWHWD0"
      },
      "source": [
        "## Problem 1: Loss function\n",
        "\n",
        "Write a function to compute the loss, $L(\\beta)$ defined be\n",
        "\n",
        "\\begin{equation*}\n",
        "  L(\\beta) = -\\frac{1}{n} \\sum_{i=1}^n \\log p(y_i \\mid x_i; \\beta) + \\frac{\\gamma}{2} \\| \\beta \\|_2^2\n",
        "\\end{equation*}\n",
        "where $\\gamma$ is a hyperparameter that controls the strength of your $\\ell_2$ regularization.\n",
        "\n",
        "You may want to use the `torch.distributions.Bernoulli` class."
      ]
    },
    {
      "cell_type": "code",
      "execution_count": 232,
      "metadata": {
        "id": "WTaCXlvSHuxh"
      },
      "outputs": [],
      "source": [
        "# your code here\n",
        "def loss(beta, X, y, gamma = 0):\n",
        "    p = torch.sigmoid(torch.matmul(X, beta))\n",
        "    Bernoulli = torch.distributions.Bernoulli(p)\n",
        "    loss = -torch.mean(Bernoulli.log_prob(y)) + gamma * torch.norm(beta, p=2)**2 / 2\n",
        "    return loss"
      ]
    },
    {
      "cell_type": "markdown",
      "metadata": {
        "id": "8Cx0wyYytSb7"
      },
      "source": [
        "## Problem 2: Gradient Descent"
      ]
    },
    {
      "cell_type": "markdown",
      "metadata": {
        "id": "xuNBMXGsO-7q"
      },
      "source": [
        "### Problem 2.1 Implementing and checking your gradients\n",
        "\n",
        "\n",
        "Write a function to compute the gradient of the average negative log likelihood and check your output against the results obtained by PyTorch's automatic differentiation functionality."
      ]
    },
    {
      "cell_type": "code",
      "execution_count": 329,
      "metadata": {
        "id": "ROj5lRuOsASh"
      },
      "outputs": [],
      "source": [
        "# your code here\n",
        "def gradient(beta, X, y, gamma = 0, if_sparse = False):\n",
        "  if if_sparse:\n",
        "    z = torch.sparse.mm(X, beta.unsqueeze(1)).squeeze(1)\n",
        "    p = torch.sigmoid(z)\n",
        "    residual = y - p\n",
        "    grad = -torch.sparse.mm(X.T, residual.unsqueeze(1)).squeeze(1) / X.shape[0]\n",
        "    grad += gamma * beta\n",
        "  else:\n",
        "    p = torch.sigmoid(torch.matmul(X, beta))\n",
        "    grad = -torch.matmul(X.T, y - p) / X.shape[0] + gamma * beta\n",
        "  return grad"
      ]
    },
    {
      "cell_type": "markdown",
      "source": [
        "##### By the result below, we can see our gradient output works the same as PyTorch's automatic differentiation"
      ],
      "metadata": {
        "id": "RU6pjr8qP6iY"
      }
    },
    {
      "cell_type": "code",
      "source": [
        "torch.manual_seed(42)\n",
        "beta = torch.randn(len(teams), requires_grad=True)\n",
        "gamma = 0.1\n",
        "loss1 = loss(beta, X, y, gamma) # Call the loss function and store the result\n",
        "loss1.backward() # Call backward on the result of the loss function, not the function itself\n",
        "\n",
        "manual_grad = gradient(beta, X, y, gamma, if_sparse = False)\n",
        "\n",
        "# Compare gradients\n",
        "print(\"\\nDifference:\\n\", torch.round(torch.norm(manual_grad - beta.grad, p=2)**2))"
      ],
      "metadata": {
        "colab": {
          "base_uri": "https://localhost:8080/"
        },
        "id": "JkYUuhUlOrq1",
        "outputId": "aaf3fcdb-bdb0-4d4b-9fb7-902baf6d8f96"
      },
      "execution_count": 330,
      "outputs": [
        {
          "output_type": "stream",
          "name": "stdout",
          "text": [
            "\n",
            "Difference:\n",
            " tensor(0., grad_fn=<RoundBackward0>)\n"
          ]
        }
      ]
    },
    {
      "cell_type": "markdown",
      "metadata": {
        "id": "Cl9CAUpTPtpw"
      },
      "source": [
        "### Problem 2.2: Implement Gradient Descent\n",
        "\n",
        "\n",
        "Now, use gradient descent to fit your Bradley-Terry model to the provided data.\n",
        "\n",
        "Deliverables for this question:\n",
        "1. Code the implements gradient descent to fit your Bradley-Terry model to the provided data.\n",
        "2. A plot of the loss curve of your algorithm and a brief discussion if it makes sense or not\n",
        "3. A plot of the histogram of the fitted values of $\\beta$\n",
        "4. The top 10 teams from your ranking, and a discussion of whether this ranking makes sense or not."
      ]
    },
    {
      "cell_type": "code",
      "execution_count": 331,
      "metadata": {
        "id": "kPSNWKE8sKIH"
      },
      "outputs": [],
      "source": [
        "# your code here (you can use multiple code and markdown cells to organize your answer)\n",
        "def gradient_descent(X, y, gamma = 0, lr = 0.01, tol = 1e-7, max_iter = 10000, if_sparse = False):\n",
        "    beta = torch.zeros(X.shape[1], requires_grad=False)\n",
        "    losses = [loss(beta, X, y, gamma)]\n",
        "    for i in tqdm(range(max_iter)):\n",
        "      beta -= lr * gradient(beta, X, y, gamma, if_sparse)\n",
        "      losses.append(loss(beta, X, y, gamma))\n",
        "      if abs(losses[-1] - losses[-2]) < tol:\n",
        "        break\n",
        "    return beta, losses"
      ]
    },
    {
      "cell_type": "code",
      "source": [
        "def cross_validation(X, y, gamma_grid, function, k = 5, lr = 0.01, if_sparse = False):\n",
        "  losses = [0] * len(gamma_grid)\n",
        "  for i in range(len(gamma_grid)):\n",
        "    total_loss_gamma = 0\n",
        "    for j in range(k):\n",
        "      # cut into 5\n",
        "      test_indices = torch.tensor([idx for idx in range(X.shape[0]) if idx % k == j])\n",
        "      train_indices = torch.tensor([idx for idx in range(X.shape[0]) if idx not in test_indices])\n",
        "      test_X = X[test_indices]\n",
        "      test_y = y[test_indices]\n",
        "      train_X = X[train_indices]\n",
        "      train_y = y[train_indices]\n",
        "      beta, _ = function(train_X, train_y, gamma_grid[i], lr, if_sparse = if_sparse)\n",
        "      total_loss_gamma += loss(beta, test_X, test_y, gamma_grid[i])\n",
        "    losses[i] = total_loss_gamma\n",
        "\n",
        "  best_gamma = gamma_grid[losses.index(min(losses))]\n",
        "  return best_gamma\n"
      ],
      "metadata": {
        "id": "F4D3azb7Ary0"
      },
      "execution_count": 332,
      "outputs": []
    },
    {
      "cell_type": "code",
      "source": [
        "gamma_grid = [0.001, 0.01, 0.05, 0.1, 0.2, 0.5]\n",
        "best_gamma = cross_validation(X, y, gamma_grid, gradient_descent, lr = 0.3, if_sparse=True)"
      ],
      "metadata": {
        "colab": {
          "base_uri": "https://localhost:8080/"
        },
        "id": "iIZ7zZ0QB5MP",
        "outputId": "c0f8b9f5-7bd8-45f9-bc7c-6be1ea8371a2"
      },
      "execution_count": 334,
      "outputs": [
        {
          "output_type": "stream",
          "name": "stderr",
          "text": [
            " 65%|██████▍   | 6463/10000 [00:15<00:08, 420.76it/s]\n",
            " 65%|██████▍   | 6451/10000 [00:14<00:08, 442.62it/s]\n",
            " 66%|██████▌   | 6550/10000 [00:14<00:07, 445.91it/s]\n",
            " 65%|██████▌   | 6506/10000 [00:14<00:07, 460.56it/s]\n",
            " 65%|██████▌   | 6517/10000 [00:14<00:07, 442.74it/s]\n",
            " 10%|▉         | 995/10000 [00:02<00:18, 475.15it/s]\n",
            " 10%|█         | 1017/10000 [00:02<00:19, 463.27it/s]\n",
            " 10%|█         | 1011/10000 [00:02<00:26, 338.83it/s]\n",
            " 10%|█         | 1003/10000 [00:02<00:20, 434.50it/s]\n",
            " 10%|▉         | 988/10000 [00:02<00:19, 473.54it/s]\n",
            "  2%|▏         | 218/10000 [00:00<00:20, 487.77it/s]\n",
            "  2%|▏         | 216/10000 [00:00<00:24, 406.35it/s]\n",
            "  2%|▏         | 219/10000 [00:00<00:21, 453.91it/s]\n",
            "  2%|▏         | 210/10000 [00:00<00:21, 460.27it/s]\n",
            "  2%|▏         | 224/10000 [00:00<00:21, 452.53it/s]\n",
            "  1%|          | 114/10000 [00:00<00:26, 378.94it/s]\n",
            "  1%|          | 108/10000 [00:00<00:24, 400.96it/s]\n",
            "  1%|          | 116/10000 [00:00<00:22, 429.81it/s]\n",
            "  1%|          | 116/10000 [00:00<00:25, 393.41it/s]\n",
            "  1%|          | 114/10000 [00:00<00:20, 479.45it/s]\n",
            "  1%|          | 58/10000 [00:00<00:23, 426.04it/s]\n",
            "  1%|          | 57/10000 [00:00<00:25, 396.22it/s]\n",
            "  1%|          | 56/10000 [00:00<00:29, 339.59it/s]\n",
            "  1%|          | 57/10000 [00:00<00:21, 455.10it/s]\n",
            "  1%|          | 55/10000 [00:00<00:22, 446.63it/s]\n",
            "  0%|          | 23/10000 [00:00<00:21, 455.29it/s]\n",
            "  0%|          | 23/10000 [00:00<00:23, 428.15it/s]\n",
            "  0%|          | 23/10000 [00:00<00:22, 453.18it/s]\n",
            "  0%|          | 22/10000 [00:00<00:22, 451.91it/s]\n",
            "  0%|          | 21/10000 [00:00<00:34, 288.79it/s]\n"
          ]
        }
      ]
    },
    {
      "cell_type": "code",
      "source": [
        "best_gamma"
      ],
      "metadata": {
        "colab": {
          "base_uri": "https://localhost:8080/"
        },
        "id": "Y2YAmYLwEPBi",
        "outputId": "974c0f3e-521c-4509-afe9-6015a86b6e15"
      },
      "execution_count": 335,
      "outputs": [
        {
          "output_type": "execute_result",
          "data": {
            "text/plain": [
              "0.001"
            ]
          },
          "metadata": {},
          "execution_count": 335
        }
      ]
    },
    {
      "cell_type": "code",
      "source": [
        "beta, losses = gradient_descent(X, y, 0.001, lr = 0.3, if_sparse=True)"
      ],
      "metadata": {
        "colab": {
          "base_uri": "https://localhost:8080/"
        },
        "id": "yS1neqCp9dkn",
        "outputId": "510b8c18-1899-4505-b1f2-62ccab8aaf81"
      },
      "execution_count": 353,
      "outputs": [
        {
          "output_type": "stream",
          "name": "stderr",
          "text": [
            " 66%|██████▌   | 6613/10000 [00:20<00:10, 321.13it/s]\n"
          ]
        }
      ]
    },
    {
      "cell_type": "code",
      "source": [
        "\n",
        "# Plot the loss curve\n",
        "plt.plot(losses)\n",
        "plt.xlabel('Iteration')\n",
        "plt.ylabel('Loss')\n",
        "plt.title('Loss Curve for Gradient Descent')\n",
        "plt.show()"
      ],
      "metadata": {
        "colab": {
          "base_uri": "https://localhost:8080/",
          "height": 472
        },
        "id": "Bw9cXHWc-_aJ",
        "outputId": "1073735e-5c9c-43e9-d385-0736081e03fc"
      },
      "execution_count": 354,
      "outputs": [
        {
          "output_type": "display_data",
          "data": {
            "text/plain": [
              "<Figure size 640x480 with 1 Axes>"
            ],
            "image/png": "[encoded data removed]"
          },
          "metadata": {}
        }
      ]
    },
    {
      "cell_type": "code",
      "source": [
        "plt.hist(beta, bins=30, edgecolor='black')  # Add edgecolor for clear bar separation\n",
        "plt.axvline(x=0, color='red', linestyle='--', label='Zero Line')  # Optional vertical reference line\n",
        "\n",
        "# Add labels and title\n",
        "plt.xlabel('Beta Values')\n",
        "plt.ylabel('Frequency')\n",
        "plt.title('Histogram of Fitted Beta Values')\n",
        "plt.legend()"
      ],
      "metadata": {
        "colab": {
          "base_uri": "https://localhost:8080/",
          "height": 489
        },
        "id": "7yPpvkiw-8x_",
        "outputId": "147958bb-a608-4784-9874-55169f82bfc7"
      },
      "execution_count": 338,
      "outputs": [
        {
          "output_type": "execute_result",
          "data": {
            "text/plain": [
              "<matplotlib.legend.Legend at 0x7e6c73fcb290>"
            ]
          },
          "metadata": {},
          "execution_count": 338
        },
        {
          "output_type": "display_data",
          "data": {
            "text/plain": [
              "<Figure size 640x480 with 1 Axes>"
            ],
            "image/png": "[encoded data removed]"
          },
          "metadata": {}
        }
      ]
    },
    {
      "cell_type": "markdown",
      "source": [
        "# Estimated top 10 Teams are the followings:\n"
      ],
      "metadata": {
        "id": "hImAnsMUIXR4"
      }
    },
    {
      "cell_type": "code",
      "source": [
        "top_10_indices = torch.topk(beta, k=10).indices\n",
        "top_10_teams = [teams[idx] for idx in top_10_indices]\n",
        "top_10_teams.sort()\n",
        "print(top_10_teams)"
      ],
      "metadata": {
        "colab": {
          "base_uri": "https://localhost:8080/"
        },
        "id": "lu2D02iWe-YO",
        "outputId": "3c2e221b-bc59-4c3f-fe2c-fd57cc29fdb4"
      },
      "execution_count": 376,
      "outputs": [
        {
          "output_type": "stream",
          "name": "stdout",
          "text": [
            "['Alabama', 'Colorado Mines', 'Florida State', 'Georgia', 'Johns Hopkins', 'Liberty', 'Michigan', 'South Dakota State', 'Texas', 'Washington']\n"
          ]
        }
      ]
    },
    {
      "cell_type": "markdown",
      "source": [
        "# True Top 10 Teams are the followings:"
      ],
      "metadata": {
        "id": "f2-roCWl5PvM"
      }
    },
    {
      "cell_type": "code",
      "source": [
        "true_top10_winnings = torch.topk(torch.abs(torch.matmul(X.T, y)), k=10).indices\n",
        "ture_top_10_teams = [teams[idx] for idx in true_top10_winnings]\n",
        "ture_top_10_teams.sort()\n",
        "print(ture_top_10_teams)"
      ],
      "metadata": {
        "colab": {
          "base_uri": "https://localhost:8080/"
        },
        "id": "3yjH8mM6ekRi",
        "outputId": "739a6259-2388-4095-cece-92d8919503c3"
      },
      "execution_count": 367,
      "outputs": [
        {
          "output_type": "stream",
          "name": "stdout",
          "text": [
            "['Alabama', 'Erskine', 'Florida State', 'Liberty', 'Lincoln University (CA)', 'Michigan', 'South Dakota State', 'Texas', 'Virginia Lynchburg', 'Washington']\n"
          ]
        }
      ]
    },
    {
      "cell_type": "code",
      "source": [
        "# correctness\n",
        "print(len(set(ture_top_10_teams).intersection(set(top_10_teams)))/10)"
      ],
      "metadata": {
        "colab": {
          "base_uri": "https://localhost:8080/"
        },
        "id": "E8oAI4J_fnV0",
        "outputId": "9b2d5cd1-c1ef-4c6d-e916-9a4f46d1607f"
      },
      "execution_count": 375,
      "outputs": [
        {
          "output_type": "stream",
          "name": "stdout",
          "text": [
            "0.7\n"
          ]
        }
      ]
    },
    {
      "cell_type": "markdown",
      "source": [
        "#### This ranking make sense because it's the team with the top 10 highest $\\beta_k$, by the model definition we have $$Y_i \\sim \\mathrm{Bern}\\big(\\sigma(\\beta_{h(i)} - \\beta_{a(i)}) \\big)$$\n",
        "since $\\sigma(\\cdot)$ is increasing function teams with higher $\\beta$\n",
        "will have a higher prob of winning against teams with lower\n",
        "$\\beta$, and as we can see by using this we can determine $7$ out of $10$ teams correctly."
      ],
      "metadata": {
        "id": "Xg92W3oofn2K"
      }
    },
    {
      "cell_type": "markdown",
      "metadata": {
        "id": "lBPDg-5QtXQV"
      },
      "source": [
        "## Problem 3: Newton's Method\n",
        "\n",
        "Now, use Newton's method to fit your Bradley-Terry model to the provided data.\n"
      ]
    },
    {
      "cell_type": "markdown",
      "metadata": {
        "id": "Pi_R1fgkFbQ0"
      },
      "source": [
        "### Problem 3.1 The Hessian\n",
        "\n"
      ]
    },
    {
      "cell_type": "markdown",
      "metadata": {
        "id": "RS0kTKtVLDlQ"
      },
      "source": [
        "#### Problem 3.1.1. Implement and check the Hessian\n",
        "Write a function to compute the Hessian of the average negative log likelihood and check your answer against the output of `from torch.autograd.functional.hessian`."
      ]
    },
    {
      "cell_type": "code",
      "source": [
        "# your code here\n",
        "def hessian(beta, X, y, gamma = 0, if_sparse = False):\n",
        "  if if_sparse:\n",
        "    X_sparse = X.to_sparse()\n",
        "    z = torch.sparse.mm(X_sparse, beta.unsqueeze(1)).squeeze(1)\n",
        "    p = torch.sigmoid(z)\n",
        "    diag_entries = p * (1 - p)\n",
        "    D_sparse = torch.sparse_coo_tensor(\n",
        "        indices=torch.arange(diag_entries.size(0)).repeat(2, 1),\n",
        "        values=diag_entries,\n",
        "        size=(diag_entries.size(0), diag_entries.size(0))\n",
        "    )\n",
        "    XT_D = torch.sparse.mm(X_sparse.T, D_sparse)\n",
        "    H = torch.sparse.mm(XT_D, X_sparse) / X.shape[0]\n",
        "    H = gamma * torch.eye(X.shape[1]).to(H.device) + H\n",
        "  else:\n",
        "    p = torch.sigmoid(torch.matmul(X, beta))\n",
        "    D = torch.diag(p * (1 - p))\n",
        "    H = -torch.matmul(X.T, torch.matmul(D, X)) / X.shape[0] + gamma * torch.eye(X.shape[1])\n",
        "\n",
        "  return H"
      ],
      "metadata": {
        "id": "vTDts30jQQDB"
      },
      "execution_count": 316,
      "outputs": []
    },
    {
      "cell_type": "markdown",
      "source": [
        "#### By the result below, we can see our hessian output works the same as PyTorch's automatic hessian"
      ],
      "metadata": {
        "id": "serFvYY7TeHb"
      }
    },
    {
      "cell_type": "code",
      "source": [
        "manual_H = hessian(beta, X, y, if_sparse=True)\n",
        "auto_H = torch.autograd.functional.hessian(lambda b: loss(b, X, y), beta)\n",
        "print(\"\\nDifference:\\n\", torch.round(torch.norm(manual_H - auto_H, p=2)**2))"
      ],
      "metadata": {
        "colab": {
          "base_uri": "https://localhost:8080/"
        },
        "id": "KdiD_8HLRNlh",
        "outputId": "46fb3422-5209-4252-947a-8f3fd6efef4c"
      },
      "execution_count": 317,
      "outputs": [
        {
          "output_type": "stream",
          "name": "stdout",
          "text": [
            "\n",
            "Difference:\n",
            " tensor(0.)\n"
          ]
        }
      ]
    },
    {
      "cell_type": "markdown",
      "metadata": {
        "id": "TtSlxUAkLE-y"
      },
      "source": [
        "#### Problem 3.1.2: Positive definiteness\n",
        "\n",
        "Compute the Hessian at the point $\\beta = 0$ without regularization (set $\\gamma = 0$). Unless you've done sort of pre-processing, it's probably singular."
      ]
    },
    {
      "cell_type": "code",
      "execution_count": 297,
      "metadata": {
        "id": "6KQjQZtfsUZ6"
      },
      "outputs": [],
      "source": [
        "# your code here\n",
        "beta = torch.zeros(X.shape[1], requires_grad=False)\n",
        "H = hessian(beta, X, y)"
      ]
    },
    {
      "cell_type": "markdown",
      "metadata": {
        "id": "GKVxT91XLbSL"
      },
      "source": [
        "#### Problem 3.1.3\n",
        "\n",
        "Describe intuitively and mathematically what it means for the Hessian of the negative log likelihood to be singular in the context of this data and model"
      ]
    },
    {
      "cell_type": "markdown",
      "source": [
        "## Intuitively: When $\\beta=0$ and $\\gamma=0$, the matrix $W$ with diagonal $\\sigma(X\\beta)=\\sigma(\\mathbf{0})$ is a constant and no $\\gamma I$ term, so $H$ if singular or not only depend on $X^TX$. In this model, the total number of home games (labeled +1) and away games (labeled -1) are the same, based on how we define for the $X$, the sum of all column of $X$ is equal to $0$, so columns are not linearly independent so it's singular."
      ],
      "metadata": {
        "id": "8VG5QxANkqU1"
      }
    },
    {
      "cell_type": "markdown",
      "metadata": {
        "id": "yAsLFSGXsWXO"
      },
      "source": [
        "## Mathematically\n",
        "\n",
        "When the $\\beta=0$ and $\\gamma=0$, so the vector $p=\\sigma(X\\beta)=\\sigma(\\mathbf{0})=\\mathbf{0.5}$, so in the hessian our $W=diag(p_1(1-p_1),....,p_k(1-p_k))=diag(0.25,....,0.25)$:\n",
        "\\begin{align}\n",
        "H=\\frac{1}{n}X^T W X +\\gamma I=\\frac{1}{4n}X^TX\n",
        "\\end{align}\n",
        "Note that for each row of $X$, it only contain an $1$ and a $-1$, others are $0$, then we can consider $\\mathbf{1}_k$. By this construction we have $X\\mathbf{1}=\\mathbf{0}$, then\n",
        "$$\n",
        "H\\mathbf{1}=\\frac{1}{4n}X^TX\\mathbf{1}_k=\\big(\\frac{1}{4n}X^T\\big)X\\mathbf{1}_k=\\frac{1}{4n}X^T \\mathbf{0}=\\mathbf{0}_k\n",
        "$$\n",
        "so $\\mathbf{1}_k$ is in the kernal of $H$, by rank–nullity theorem $H$ does column rank at most $k-1$, which is not full rank, so it's singular."
      ]
    },
    {
      "cell_type": "markdown",
      "metadata": {
        "id": "TvClzEjJLk52"
      },
      "source": [
        "#### Problem 3.1.4\n",
        "\n",
        "Give a hypothesis for why the Hessian in this dataset and model is singular, and provide empirical evidence to support your hypothesis."
      ]
    },
    {
      "cell_type": "markdown",
      "metadata": {
        "id": "dFphHjnxsjE2"
      },
      "source": [
        "#### This Hessian has determinant $0$, the results as follows:"
      ]
    },
    {
      "cell_type": "code",
      "source": [
        "det = torch.linalg.det(H)\n",
        "if torch.isclose(det, torch.tensor(0.0)):\n",
        "    print(\"The matrix is singular (det = 0).\")\n",
        "else:\n",
        "    print(\"The matrix is not singular (det ≠ 0).\")"
      ],
      "metadata": {
        "colab": {
          "base_uri": "https://localhost:8080/"
        },
        "id": "5tgm0KhQpKNF",
        "outputId": "fe5bf2c2-2e7a-4581-935b-774cb299abba"
      },
      "execution_count": 298,
      "outputs": [
        {
          "output_type": "stream",
          "name": "stdout",
          "text": [
            "The matrix is singular (det = 0).\n"
          ]
        }
      ]
    },
    {
      "cell_type": "markdown",
      "metadata": {
        "id": "EtKlPKs9LyNw"
      },
      "source": [
        "#### Problem 3.1.5\n",
        "\n",
        "Explain why the Hessian is invertible when $\\gamma > 0$."
      ]
    },
    {
      "cell_type": "markdown",
      "metadata": {
        "id": "CgvigoXaspaw"
      },
      "source": [
        "When $\\gamma>0$, then for any $u\\neq 0$ we have $\\| u\\|_2^2>0$\n",
        "\\begin{align}\n",
        "u^THu=\\frac{1}{n}u^T X^T W Xu +\\gamma u^TIu=\\frac{1}{n} \\|W^{1/2}Xu \\|_2^2 + \\gamma \\| u\\|_2^2\\geq \\gamma \\| u\\|_2^2 > 0\n",
        "\\end{align}\n",
        "so in this case $H$ is positive definite, which is invertible."
      ]
    },
    {
      "cell_type": "markdown",
      "metadata": {
        "id": "szaThYwMMuf4"
      },
      "source": [
        "### Problem 3.2: Implement Newton's method\n",
        "\n",
        "Now, use Newton's method to fit your $\\ell_2$-regularized Bradley-Terry model to the provided data.\n",
        "\n",
        "Deliverables for this question:\n",
        "1. Code the implements Newton's method to fit your Bradley-Terry model to the provided data.\n",
        "2. A plot of the loss curves from Newton's method and from gradient descent, using the same regularization strength $\\gamma$ and initialization $\\beta_0$. Briefly discuss the results and compare their rates of convergence.\n",
        "3. A plot of the histogram of the fitted values of $\\beta$\n",
        "4. The top 10 teams from your ranking, and a discussion of whether this ranking makes sense or not."
      ]
    },
    {
      "cell_type": "code",
      "execution_count": 345,
      "metadata": {
        "id": "FPYUCllcsri7"
      },
      "outputs": [],
      "source": [
        "# your code here (you can use multiple code and markdown cells to organize your answer)\n",
        "def newton_method(X, y, gamma = 0, lr = 1, tol = 1e-7, max_iter = 10000, if_sparse = False):\n",
        "    beta = torch.zeros(X.shape[1], requires_grad=False)\n",
        "    losses = [loss(beta, X, y, gamma)]\n",
        "    for i in tqdm(range(max_iter)):\n",
        "      H = hessian(beta, X, y, gamma, if_sparse=if_sparse)\n",
        "      beta -= lr * torch.linalg.solve(H, gradient(beta, X, y, gamma, if_sparse=if_sparse))\n",
        "      losses.append(loss(beta, X, y, gamma))\n",
        "      if abs(losses[-1] - losses[-2]) < tol:\n",
        "        break\n",
        "    return beta, losses"
      ]
    },
    {
      "cell_type": "code",
      "source": [
        "beta_newton, losses_newton = newton_method(X, y, 0.001, lr=0.005, if_sparse=True)"
      ],
      "metadata": {
        "id": "EdS1AmbOutWH",
        "outputId": "0ab0b296-0179-49ac-9145-da9f23b91bbc",
        "colab": {
          "base_uri": "https://localhost:8080/"
        }
      },
      "execution_count": 360,
      "outputs": [
        {
          "output_type": "stream",
          "name": "stderr",
          "text": [
            "  9%|▉         | 877/10000 [00:22<03:58, 38.21it/s]\n"
          ]
        }
      ]
    },
    {
      "cell_type": "code",
      "source": [
        "plt.figure(figsize=(10, 6))\n",
        "plt.plot(range(len(losses_newton)), losses_newton, label=\"Newton's Method\", marker='o')\n",
        "plt.plot(range(len(losses)), losses, label=\"Gradient Descent\", marker='x')\n",
        "plt.xlabel('Iteration')\n",
        "plt.ylabel('Loss')\n",
        "plt.title('Loss Curves: Newton\\'s Method vs Gradient Descent (same gamma & beta_0)')\n",
        "plt.legend()\n",
        "plt.grid()\n",
        "plt.show()"
      ],
      "metadata": {
        "id": "Ezfjozno0Dit",
        "outputId": "0a89e58f-42d9-4674-a586-37b4e7fe5616",
        "colab": {
          "base_uri": "https://localhost:8080/",
          "height": 564
        }
      },
      "execution_count": 362,
      "outputs": [
        {
          "output_type": "display_data",
          "data": {
            "text/plain": [
              "<Figure size 1000x600 with 1 Axes>"
            ],
            "image/png": "[encoded data removed]"
          },
          "metadata": {}
        }
      ]
    },
    {
      "cell_type": "code",
      "source": [
        "plt.hist(beta_newton, bins=30, edgecolor='black')  # Add edgecolor for clear bar separation\n",
        "plt.axvline(x=0, color='red', linestyle='--', label='Zero Line')  # Optional vertical reference line\n",
        "\n",
        "# Add labels and title\n",
        "plt.xlabel('Beta Values')\n",
        "plt.ylabel('Frequency')\n",
        "plt.title('Histogram of Fitted Beta Values')\n",
        "plt.legend()"
      ],
      "metadata": {
        "id": "shIX5d2H4-va",
        "outputId": "e90ad94a-d88e-4010-8d25-70b6b7cf48c1",
        "colab": {
          "base_uri": "https://localhost:8080/",
          "height": 489
        }
      },
      "execution_count": 363,
      "outputs": [
        {
          "output_type": "execute_result",
          "data": {
            "text/plain": [
              "<matplotlib.legend.Legend at 0x7e6c782d14d0>"
            ]
          },
          "metadata": {},
          "execution_count": 363
        },
        {
          "output_type": "display_data",
          "data": {
            "text/plain": [
              "<Figure size 640x480 with 1 Axes>"
            ],
            "image/png": "[encoded data removed]"
          },
          "metadata": {}
        }
      ]
    },
    {
      "cell_type": "markdown",
      "source": [
        "# Estimated Top 10 Teams are the followings:\n"
      ],
      "metadata": {
        "id": "6My_QLSJ5NCy"
      }
    },
    {
      "cell_type": "code",
      "source": [
        "newton_top_10_indices = torch.topk(beta_newton, k=10).indices\n",
        "newton_top_10_teams = [teams[idx] for idx in newton_top_10_indices]\n",
        "newton_top_10_teams.sort()\n",
        "print(newton_top_10_teams)"
      ],
      "metadata": {
        "id": "gwxUpQIp5Go7",
        "outputId": "4053ae02-3500-4c6c-9426-cefa6581882f",
        "colab": {
          "base_uri": "https://localhost:8080/"
        }
      },
      "execution_count": 377,
      "outputs": [
        {
          "output_type": "stream",
          "name": "stdout",
          "text": [
            "['Alabama', 'Colorado Mines', 'Florida State', 'Georgia', 'Johns Hopkins', 'Liberty', 'Michigan', 'South Dakota State', 'Texas', 'Washington']\n"
          ]
        }
      ]
    },
    {
      "cell_type": "markdown",
      "source": [
        "# True Top 10 Teams are the followings:"
      ],
      "metadata": {
        "id": "ZrnICmiJ5eKd"
      }
    },
    {
      "cell_type": "code",
      "source": [
        "print(ture_top_10_teams)"
      ],
      "metadata": {
        "id": "cJy51Jon5fdD",
        "outputId": "18168737-3a3a-4b48-e0da-d08f2e0f9c66",
        "colab": {
          "base_uri": "https://localhost:8080/"
        }
      },
      "execution_count": 378,
      "outputs": [
        {
          "output_type": "stream",
          "name": "stdout",
          "text": [
            "['Alabama', 'Erskine', 'Florida State', 'Liberty', 'Lincoln University (CA)', 'Michigan', 'South Dakota State', 'Texas', 'Virginia Lynchburg', 'Washington']\n"
          ]
        }
      ]
    },
    {
      "cell_type": "code",
      "source": [
        "# correctness\n",
        "print(len(set(ture_top_10_teams).intersection(set(newton_top_10_teams)))/10)"
      ],
      "metadata": {
        "id": "HRZyFw835uc4",
        "outputId": "2d8c2dd4-23ff-4f3b-fb06-6351071d69d2",
        "colab": {
          "base_uri": "https://localhost:8080/"
        }
      },
      "execution_count": 379,
      "outputs": [
        {
          "output_type": "stream",
          "name": "stdout",
          "text": [
            "0.7\n"
          ]
        }
      ]
    },
    {
      "cell_type": "markdown",
      "metadata": {
        "id": "J9R91iI5NCMs"
      },
      "source": [
        "## Problem 4: Model criticism and revision\n",
        "\n",
        "Let's take another look the Bradley-Terry model from earlier and think about improvements we can make.\n"
      ]
    },
    {
      "cell_type": "markdown",
      "metadata": {
        "id": "yPSnL3odcj12"
      },
      "source": [
        "### Problem 4.1: Improvements to Bradley-Terry Model\n",
        "Choose one way to improve the Bradley-Terry model. Discuss *a priori* why you think this change will improve the model and implement your change."
      ]
    },
    {
      "cell_type": "markdown",
      "metadata": {
        "id": "gngpLxYpczp0"
      },
      "source": [
        "*your answer here*"
      ]
    },
    {
      "cell_type": "markdown",
      "metadata": {
        "id": "Xt9Yn0NPc3nS"
      },
      "source": [
        "### Problem 4.2: Evaluation\n",
        "Assess whether or not your change was an improvement or not. Provide empirical evidence by evaluating performance on a held out test set and include at least one plot supporting your assessment."
      ]
    },
    {
      "cell_type": "markdown",
      "metadata": {
        "id": "yQvtv-eHdBM5"
      },
      "source": [
        "*your answer here*"
      ]
    },
    {
      "cell_type": "markdown",
      "metadata": {
        "id": "87F609vpdEq0"
      },
      "source": [
        "### Problem 4.3: Reflection\n",
        "Reflecting on the analysis we've conducted in this assignemnt, which conference is best? Is there a significant difference? Please justify your answer."
      ]
    },
    {
      "cell_type": "markdown",
      "metadata": {
        "id": "-4YnbZWVdmWv"
      },
      "source": [
        "*your answer here*"
      ]
    },
    {
      "cell_type": "markdown",
      "metadata": {
        "id": "9TL_LAYoyI2T"
      },
      "source": [
        "## Submission Instructions\n",
        "\n",
        "**Formatting:** check that your code does not exceed 80 characters in line width. You can set _Tools &rarr; Settings &rarr; Editor &rarr; Vertical ruler column_ to 80 to see when you've exceeded the limit.\n",
        "\n",
        "**Converting to PDF** The simplest way to convert to PDF is to use the \"Print to PDF\" option in your browser. Just make sure that your code and plots aren't cut off, as it may not wrap lines.\n",
        "\n",
        "**Alternatively** You can download your notebook in .ipynb format and use the following commands to convert it to PDF.  Then run the following command to convert to a PDF:\n",
        "```\n",
        "jupyter nbconvert --to pdf <yourlastname>_hw<number>.ipynb\n",
        "```\n",
        "(Note that for the above code to work, you need to rename your file `<yourlastname>_hw<number>.ipynb`)\n",
        "\n",
        "**Installing nbconvert:**\n",
        "\n",
        "If you're using Anaconda for package management,\n",
        "```\n",
        "conda install -c anaconda nbconvert\n",
        "```\n",
        "\n",
        "**Upload** your .pdf file to Gradescope. Please tag your questions correctly! I.e., for each question, all of and only the relevant sections are tagged.\n",
        "\n",
        "Please post on Ed or come to OH if there are any other problems submitting the HW."
      ]
    }
  ],
  "metadata": {
    "accelerator": "GPU",
    "colab": {
      "gpuType": "A100",
      "machine_shape": "hm",
      "provenance": []
    },
    "kernelspec": {
      "display_name": "base",
      "language": "python",
      "name": "python3"
    },
    "language_info": {
      "codemirror_mode": {
        "name": "ipython",
        "version": 3
      },
      "file_extension": ".py",
      "mimetype": "text/x-python",
      "name": "python",
      "nbconvert_exporter": "python",
      "pygments_lexer": "ipython3",
      "version": "3.10.9"
    }
  },
  "nbformat": 4,
  "nbformat_minor": 0
}