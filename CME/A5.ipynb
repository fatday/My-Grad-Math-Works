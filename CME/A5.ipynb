{
  "nbformat": 4,
  "nbformat_minor": 0,
  "metadata": {
    "colab": {
      "provenance": [],
      "authorship_tag": "ABX9TyM9BOjtH3vkKCE8EuaQFO3C",
      "include_colab_link": true
    },
    "kernelspec": {
      "name": "python3",
      "display_name": "Python 3"
    },
    "language_info": {
      "name": "python"
    }
  },
  "cells": [
    {
      "cell_type": "markdown",
      "metadata": {
        "id": "view-in-github",
        "colab_type": "text"
      },
      "source": [
        "<a href=\"https://colab.research.google.com/github/fatday/My-Grad-Math-Works/blob/main/CME/A5.ipynb\" target=\"_parent\"><img src=\"https://colab.research.google.com/assets/colab-badge.svg\" alt=\"Open In Colab\"/></a>"
      ]
    },
    {
      "cell_type": "code",
      "execution_count": 57,
      "metadata": {
        "id": "5xStUkj6GsA2"
      },
      "outputs": [],
      "source": [
        "import numpy as np"
      ]
    },
    {
      "cell_type": "markdown",
      "source": [
        "# Q1"
      ],
      "metadata": {
        "id": "zH2PF5WqQKsA"
      }
    },
    {
      "cell_type": "markdown",
      "source": [
        "For homogeneous solution:\n",
        "\n",
        "$$\n",
        "-u''+u=0 \\ \\ \\ \\ \\implies \\ \\ \\ \\ \\lambda_1=1 \\ \\ \\ \\lambda_2=-1 \\ \\ \\ \\ \\implies \\ \\ \\ u_h(x)=C_1e^x+C_2e^{-x}\n",
        "$$\n",
        "\n",
        "Now we solve for particular solution, let $u_p(x)=Ax+B$, then\n",
        "\n",
        "$$\n",
        "-u''+u=2x \\ \\ \\ \\ \\implies \\ \\ \\ \\ Ax+B=2x \\ \\ \\ \\ \\implies \\ \\ \\ \\ u_p(x)=2x\n",
        "$$\n",
        "\n",
        "Then we have the solution\n",
        "\n",
        "$$\n",
        "u(x)=u_h(x)+u_p(x)=C_1e^x+C_2e^{-x}+2x\n",
        "$$\n",
        "\n",
        "Since $u(0)=u(1)=0$, then solving $C_1,C_2$ we get\n",
        "\n",
        "$$\n",
        "u(x)=\\frac{2e}{1-e^2}e^x-\\frac{2e}{1-e^2}e^{-x}+2x\n",
        "$$"
      ],
      "metadata": {
        "id": "JlkagUQMQONO"
      }
    },
    {
      "cell_type": "code",
      "source": [
        "def exact(h, X_range):\n",
        "  x = np.array([i * h for i in range(1, int((X_range[1] - X_range[0])/h))])\n",
        "  coef = (2 * np.e) / (1 - np.e**2)\n",
        "  return coef * np.e**x - coef * np.e**(-x) + 2*x"
      ],
      "metadata": {
        "id": "ouC7rqBYQk-5"
      },
      "execution_count": 177,
      "outputs": []
    },
    {
      "cell_type": "code",
      "source": [
        "def f(x):\n",
        "  return 2*x"
      ],
      "metadata": {
        "id": "ceRa06upSoM3"
      },
      "execution_count": 178,
      "outputs": []
    },
    {
      "cell_type": "code",
      "source": [
        "def solve_solution(h,X_range):\n",
        "  x_vec = np.array([i * h for i in range(1, int((X_range[1] - X_range[0])/h))])\n",
        "  n = len(x_vec)\n",
        "  a,b = (2/h) + (2*h/3), (h/6 - 1/h)\n",
        "  A = ((np.diag(a * np.ones(n), 0)  + np.diag(b * np.ones(n-1), 1) + np.diag(b * np.ones(n-1), -1)))\n",
        "  fx =  f(x_vec) * h  # (f, Chi) = int f_i * Chi_i=int f_i on [0,1] = f_i\n",
        "  u = np.linalg.solve(A, fx)\n",
        "  #print(A)\n",
        "  return u"
      ],
      "metadata": {
        "id": "6VT5-WvdSo9L"
      },
      "execution_count": 179,
      "outputs": []
    },
    {
      "cell_type": "code",
      "source": [
        "X_range = [0, 1]\n",
        "h1, h2 = 1/10, 1/20\n",
        "U1 = solve_solution(h1, X_range)\n",
        "U2 = solve_solution(h2, X_range)"
      ],
      "metadata": {
        "id": "Jicr0KvSXrMh"
      },
      "execution_count": 180,
      "outputs": []
    },
    {
      "cell_type": "code",
      "source": [
        "u1 = exact(h1, X_range)\n",
        "u2 = exact(h2, X_range)"
      ],
      "metadata": {
        "id": "pLJGdztUYEyP"
      },
      "execution_count": 181,
      "outputs": []
    },
    {
      "cell_type": "markdown",
      "source": [
        "## Max Error at mesh-points for h= 1/10, 1/20"
      ],
      "metadata": {
        "id": "VB2MDqR2zRRR"
      }
    },
    {
      "cell_type": "markdown",
      "source": [
        "For $h=1/10$: max error is $8.8514\\cdot 10^{-5}$"
      ],
      "metadata": {
        "id": "MQJ5hXd1zZSb"
      }
    },
    {
      "cell_type": "code",
      "source": [
        "max(abs(U1-u1))"
      ],
      "metadata": {
        "colab": {
          "base_uri": "https://localhost:8080/"
        },
        "id": "2cfX-hIfyCZ6",
        "outputId": "32b022ba-9e98-45cd-bfa2-62763d9a4422"
      },
      "execution_count": 182,
      "outputs": [
        {
          "output_type": "execute_result",
          "data": {
            "text/plain": [
              "8.85143578538139e-05"
            ]
          },
          "metadata": {},
          "execution_count": 182
        }
      ]
    },
    {
      "cell_type": "markdown",
      "source": [
        "For $h=1/20$: max error is  $2.2108\\cdot 10^{-5}$"
      ],
      "metadata": {
        "id": "YAnG-dCgzqO5"
      }
    },
    {
      "cell_type": "code",
      "source": [
        "max(abs(U2-u2))"
      ],
      "metadata": {
        "colab": {
          "base_uri": "https://localhost:8080/"
        },
        "id": "SteqI2zzdHo3",
        "outputId": "85e62952-3dd2-47a5-83be-aec6ab9802e4"
      },
      "execution_count": 183,
      "outputs": [
        {
          "output_type": "execute_result",
          "data": {
            "text/plain": [
              "2.2107691947451102e-05"
            ]
          },
          "metadata": {},
          "execution_count": 183
        }
      ]
    },
    {
      "cell_type": "markdown",
      "source": [
        "# Q2"
      ],
      "metadata": {
        "id": "j7j68NrKzz2x"
      }
    },
    {
      "cell_type": "code",
      "source": [
        "def f(x1, x2):\n",
        "  return np.sin(np.pi * x1) * (np.sin(np.pi * x2) + np.sin(2 * np.pi * x2))\n",
        "\n",
        "\n",
        "def u(x1, x2):\n",
        "  coef1, coef2 = 1 / (2 * (np.pi)**2), 1 / (5 * (np.pi)**2)\n",
        "  base1, base2 = np.sin(np.pi * x1) * np.sin(np.pi * x2), np.sin(np.pi * x1) * np.sin(2 * np.pi * x2)\n",
        "  return coef1 * base1 + coef2 * base2"
      ],
      "metadata": {
        "id": "LyVjy85Nz0i_"
      },
      "execution_count": 186,
      "outputs": []
    },
    {
      "cell_type": "code",
      "source": [
        "\n",
        "def Finite_Difference_Approx(h, space):\n",
        "  Length = space[1] - space[0]\n",
        "  M = int(Length / h)\n",
        "  n = M - 1\n",
        "\n",
        "  # Construct B and A\n",
        "  B = (np.diag(4.0 * np.ones(n), 0)  + np.diag(-1.0 * np.ones(n-1), 1) + np.diag(-1.0 * np.ones(n-1), -1))\n",
        "  I = np.eye(n)\n",
        "  C = np.diag(-1.0 * np.ones(n-1), 1) + np.diag(-1.0 * np.ones(n-1), -1)\n",
        "  A = (np.kron(B, I) + np.kron(C, I))\n",
        "  #print(A)\n",
        "  f_vec = np.zeros(n*n)\n",
        "  for i in range(n):\n",
        "    for j in range(n):\n",
        "      x1, x2 = (i + 1) * h, (j + 1) * h # get x1, x2 for h, 2h,...., (M-1)h\n",
        "      f_vec[j * n + i] = f(x1, x2) * h**2\n",
        "  estimated_u = np.linalg.solve(A, f_vec)\n",
        "  estimated_u = estimated_u.reshape((n, n))\n",
        "  return estimated_u\n",
        ""
      ],
      "metadata": {
        "id": "y4eia0SwKDFH"
      },
      "execution_count": 240,
      "outputs": []
    },
    {
      "cell_type": "code",
      "source": [
        "def vectorize_u(h, space):\n",
        "  Length = space[1] - space[0]\n",
        "  M = int(Length / h)\n",
        "  n = M - 1\n",
        "  u_vec = np.zeros(n*n)\n",
        "  for i in range(n):\n",
        "    for j in range(n):\n",
        "      x1, x2 = (i + 1) * h, (j + 1) * h\n",
        "      u_vec[j * n + i] = u(x1, x2)\n",
        "  u_vec = u_vec.reshape((n, n))\n",
        "  return u_vec"
      ],
      "metadata": {
        "id": "G-us7GZOi_mB"
      },
      "execution_count": 241,
      "outputs": []
    },
    {
      "cell_type": "code",
      "source": [
        "h1 = 1/10\n",
        "h2 = 1/20\n",
        "space = [0, 1]\n",
        "\n",
        "# h = 1/10\n",
        "Uj1 = Finite_Difference_Approx(h1, space)\n",
        "\n",
        "# h = 1/20\n",
        "Uj2 = Finite_Difference_Approx(h2, space)"
      ],
      "metadata": {
        "id": "hjK-sP2RiVKc"
      },
      "execution_count": 242,
      "outputs": []
    },
    {
      "cell_type": "code",
      "source": [
        "u1-Uj1"
      ],
      "metadata": {
        "colab": {
          "base_uri": "https://localhost:8080/"
        },
        "id": "DpMIIbGamm0-",
        "outputId": "33eded4b-c139-445b-a686-cedde46e0421"
      },
      "execution_count": 247,
      "outputs": [
        {
          "output_type": "execute_result",
          "data": {
            "text/plain": [
              "array([[ 0.00126308,  0.00240252,  0.00330679,  0.00388736,  0.00408742,\n",
              "         0.00388736,  0.00330679,  0.00240252,  0.00126308],\n",
              "       [ 0.00203235,  0.00386576,  0.00532076,  0.00625493,  0.00657682,\n",
              "         0.00625493,  0.00532076,  0.00386576,  0.00203235],\n",
              "       [ 0.00200372,  0.00381131,  0.00524581,  0.00616682,  0.00648418,\n",
              "         0.00616682,  0.00524581,  0.00381131,  0.00200372],\n",
              "       [ 0.00118   ,  0.0022445 ,  0.00308929,  0.00363168,  0.00381857,\n",
              "         0.00363168,  0.00308929,  0.0022445 ,  0.00118   ],\n",
              "       [-0.00012939, -0.00024612, -0.00033876, -0.00039824, -0.00041873,\n",
              "        -0.00039824, -0.00033876, -0.00024612, -0.00012939],\n",
              "       [-0.00142613, -0.00271266, -0.00373365, -0.00438917, -0.00461505,\n",
              "        -0.00438917, -0.00373365, -0.00271266, -0.00142613],\n",
              "       [-0.00221309, -0.00420954, -0.00579394, -0.00681118, -0.0071617 ,\n",
              "        -0.00681118, -0.00579394, -0.00420954, -0.00221309],\n",
              "       [-0.00218446, -0.00415509, -0.005719  , -0.00672308, -0.00706907,\n",
              "        -0.00672308, -0.005719  , -0.00415509, -0.00218446],\n",
              "       [-0.00134305, -0.00255464, -0.00351615, -0.00413349, -0.00434621,\n",
              "        -0.00413349, -0.00351615, -0.00255464, -0.00134305]])"
            ]
          },
          "metadata": {},
          "execution_count": 247
        }
      ]
    },
    {
      "cell_type": "code",
      "source": [
        "u1 = vectorize_u(h1, space)\n",
        "u2 = vectorize_u(h2, space)"
      ],
      "metadata": {
        "id": "bOie2hYziXcR"
      },
      "execution_count": 243,
      "outputs": []
    },
    {
      "cell_type": "markdown",
      "source": [
        "# L2 Norm of the error for $h=1/10$: 0.03593"
      ],
      "metadata": {
        "id": "fGQFTk6qkefJ"
      }
    },
    {
      "cell_type": "code",
      "source": [
        "# calculate L-2 Norm\n",
        "def norm(x, h):\n",
        "  return np.sqrt(np.sum(x**2) * h**2)\n",
        "l2_norm1 = norm(Uj1 - u1, h1)\n",
        "l2_norm1"
      ],
      "metadata": {
        "colab": {
          "base_uri": "https://localhost:8080/"
        },
        "id": "ADg4FN5vi4vl",
        "outputId": "bab6ebb8-74fa-45f1-eb4b-a7329db91021"
      },
      "execution_count": 252,
      "outputs": [
        {
          "output_type": "execute_result",
          "data": {
            "text/plain": [
              "0.003593138245701942"
            ]
          },
          "metadata": {},
          "execution_count": 252
        }
      ]
    },
    {
      "cell_type": "markdown",
      "source": [
        "# L2 Norm of the error for $h=1/20$: 0.07495"
      ],
      "metadata": {
        "id": "zj54g3Yjkmgs"
      }
    },
    {
      "cell_type": "code",
      "source": [
        "l2_norm2 = norm(Uj2 - u2, h2)\n",
        "l2_norm2"
      ],
      "metadata": {
        "colab": {
          "base_uri": "https://localhost:8080/"
        },
        "id": "ysZLJ4pOjQyR",
        "outputId": "0d44b8f0-219b-4ffa-a019-824ca6275188"
      },
      "execution_count": 255,
      "outputs": [
        {
          "output_type": "execute_result",
          "data": {
            "text/plain": [
              "0.0037475658589400194"
            ]
          },
          "metadata": {},
          "execution_count": 255
        }
      ]
    }
  ]
}