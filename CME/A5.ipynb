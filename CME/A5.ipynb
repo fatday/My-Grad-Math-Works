{
  "nbformat": 4,
  "nbformat_minor": 0,
  "metadata": {
    "colab": {
      "provenance": [],
      "authorship_tag": "ABX9TyN4HvY+Q/CZ/NQfxx51JS1w",
      "include_colab_link": true
    },
    "kernelspec": {
      "name": "python3",
      "display_name": "Python 3"
    },
    "language_info": {
      "name": "python"
    }
  },
  "cells": [
    {
      "cell_type": "markdown",
      "metadata": {
        "id": "view-in-github",
        "colab_type": "text"
      },
      "source": [
        "<a href=\"https://colab.research.google.com/github/fatday/My-Grad-Math-Works/blob/main/CME/A5.ipynb\" target=\"_parent\"><img src=\"https://colab.research.google.com/assets/colab-badge.svg\" alt=\"Open In Colab\"/></a>"
      ]
    },
    {
      "cell_type": "code",
      "execution_count": 2,
      "metadata": {
        "id": "5xStUkj6GsA2"
      },
      "outputs": [],
      "source": [
        "import numpy as np"
      ]
    },
    {
      "cell_type": "markdown",
      "source": [
        "# Q1"
      ],
      "metadata": {
        "id": "zH2PF5WqQKsA"
      }
    },
    {
      "cell_type": "markdown",
      "source": [
        "For homogeneous solution:\n",
        "\n",
        "$$\n",
        "-u''+u=0 \\ \\ \\ \\ \\implies \\ \\ \\ \\ \\lambda_1=1 \\ \\ \\ \\lambda_2=-1 \\ \\ \\ \\ \\implies \\ \\ \\ u_h(x)=C_1e^x+C_2e^{-x}\n",
        "$$\n",
        "\n",
        "Now we solve for particular solution, let $u_p(x)=Ax+B$, then\n",
        "\n",
        "$$\n",
        "-u''+u=2x \\ \\ \\ \\ \\implies \\ \\ \\ \\ Ax+B=2x \\ \\ \\ \\ \\implies \\ \\ \\ \\ u_p(x)=2x\n",
        "$$\n",
        "\n",
        "Then we have the solution\n",
        "\n",
        "$$\n",
        "u(x)=u_h(x)+u_p(x)=C_1e^x+C_2e^{-x}+2x\n",
        "$$\n",
        "\n",
        "Since $u(0)=u(1)=0$, then solving $C_1,C_2$ we get\n",
        "\n",
        "$$\n",
        "u(x)=\\frac{2e}{1-e^2}e^x-\\frac{2e}{1-e^2}e^{-x}+2x\n",
        "$$"
      ],
      "metadata": {
        "id": "JlkagUQMQONO"
      }
    },
    {
      "cell_type": "code",
      "source": [
        "def exact(h, X_range):\n",
        "  x = np.array([i * h for i in range(1, int((X_range[1] - X_range[0])/h))])\n",
        "  coef = (2 * np.e) / (1 - np.e**2)\n",
        "  return coef * np.e**x - coef * np.e**(-x) + 2*x"
      ],
      "metadata": {
        "id": "ouC7rqBYQk-5"
      },
      "execution_count": 3,
      "outputs": []
    },
    {
      "cell_type": "code",
      "source": [
        "def f(x):\n",
        "  return 2*x"
      ],
      "metadata": {
        "id": "ceRa06upSoM3"
      },
      "execution_count": 4,
      "outputs": []
    },
    {
      "cell_type": "code",
      "source": [
        "def solve_solution(h,X_range):\n",
        "  x_vec = np.array([i * h for i in range(1, int((X_range[1] - X_range[0])/h))])\n",
        "  n = len(x_vec)\n",
        "  a,b = (2/h) + (2*h/3), (h/6 - 1/h)\n",
        "  A = ((np.diag(a * np.ones(n), 0)  + np.diag(b * np.ones(n-1), 1) + np.diag(b * np.ones(n-1), -1)))\n",
        "  fx =  f(x_vec) * h  # (f, Chi) = int f_i * Chi_i=int f_i on [0,1] = f_i\n",
        "  u = np.linalg.solve(A, fx)\n",
        "  #print(A)\n",
        "  return u"
      ],
      "metadata": {
        "id": "6VT5-WvdSo9L"
      },
      "execution_count": 5,
      "outputs": []
    },
    {
      "cell_type": "code",
      "source": [
        "X_range = [0, 1]\n",
        "h1, h2 = 1/10, 1/20\n",
        "U1 = solve_solution(h1, X_range)\n",
        "U2 = solve_solution(h2, X_range)"
      ],
      "metadata": {
        "id": "Jicr0KvSXrMh"
      },
      "execution_count": 6,
      "outputs": []
    },
    {
      "cell_type": "code",
      "source": [
        "u1 = exact(h1, X_range)\n",
        "u2 = exact(h2, X_range)"
      ],
      "metadata": {
        "id": "pLJGdztUYEyP"
      },
      "execution_count": 7,
      "outputs": []
    },
    {
      "cell_type": "markdown",
      "source": [
        "## Max Error at mesh-points for h= 1/10, 1/20"
      ],
      "metadata": {
        "id": "VB2MDqR2zRRR"
      }
    },
    {
      "cell_type": "markdown",
      "source": [
        "For $h=1/10$: max error is $8.8514\\cdot 10^{-5}$"
      ],
      "metadata": {
        "id": "MQJ5hXd1zZSb"
      }
    },
    {
      "cell_type": "code",
      "source": [
        "max(abs(U1-u1))"
      ],
      "metadata": {
        "colab": {
          "base_uri": "https://localhost:8080/"
        },
        "id": "2cfX-hIfyCZ6",
        "outputId": "93b8ef0e-bb41-4912-b944-b689e8c70471"
      },
      "execution_count": 8,
      "outputs": [
        {
          "output_type": "execute_result",
          "data": {
            "text/plain": [
              "8.85143578538139e-05"
            ]
          },
          "metadata": {},
          "execution_count": 8
        }
      ]
    },
    {
      "cell_type": "markdown",
      "source": [
        "For $h=1/20$: max error is  $2.2108\\cdot 10^{-5}$"
      ],
      "metadata": {
        "id": "YAnG-dCgzqO5"
      }
    },
    {
      "cell_type": "code",
      "source": [
        "max(abs(U2-u2))"
      ],
      "metadata": {
        "colab": {
          "base_uri": "https://localhost:8080/"
        },
        "id": "SteqI2zzdHo3",
        "outputId": "beabf7b4-bd8d-48ee-b88b-002bd2113fc2"
      },
      "execution_count": 9,
      "outputs": [
        {
          "output_type": "execute_result",
          "data": {
            "text/plain": [
              "2.2107691947451102e-05"
            ]
          },
          "metadata": {},
          "execution_count": 9
        }
      ]
    },
    {
      "cell_type": "markdown",
      "source": [
        "# Q2"
      ],
      "metadata": {
        "id": "j7j68NrKzz2x"
      }
    },
    {
      "cell_type": "code",
      "source": [
        "def f(x1, x2):\n",
        "  return np.sin(np.pi * x1) * (np.sin(np.pi * x2) + np.sin(2 * np.pi * x2))\n",
        "\n",
        "\n",
        "def u(x1, x2):\n",
        "  coef1, coef2 = 1 / (2 * (np.pi)**2), 1 / (5 * (np.pi)**2)\n",
        "  base1, base2 = np.sin(np.pi * x1) * np.sin(np.pi * x2), np.sin(np.pi * x1) * np.sin(2 * np.pi * x2)\n",
        "  return coef1 * base1 + coef2 * base2"
      ],
      "metadata": {
        "id": "LyVjy85Nz0i_"
      },
      "execution_count": 116,
      "outputs": []
    },
    {
      "cell_type": "code",
      "source": [
        "def load_vec_lattices(i, j, h, n):\n",
        "  p0 = np.array([i * h, j * h])\n",
        "\n",
        "  # ver\n",
        "  p1 = np.array([(i+1) * h, j * h])\n",
        "  p2 = np.array([(i - 1) * h, j * h])\n",
        "\n",
        "  # horz\n",
        "  p3 = np.array([i * h, (j+1) * h])\n",
        "  p4 = np.array([i * h, (j-1) * h])\n",
        "\n",
        "  # diag\n",
        "  p5 = np.array([(i-1) * h, (j+1) * h])\n",
        "  p6 = np.array([(i+1) * h, (j-1) * h])\n",
        "\n",
        "  # tri_mid\n",
        "  t1 = np.mean([p0, p2, p4], axis=0)\n",
        "  t2 = np.mean([p0, p2, p5], axis=0)\n",
        "  t3 = np.mean([p0, p3, p5], axis=0)\n",
        "  t4 = np.mean([p0, p4, p6], axis=0)\n",
        "  t5 = np.mean([p0, p1, p6], axis=0)\n",
        "  t6 = np.mean([p0, p1, p3], axis=0)\n",
        "\n",
        "  tris =  np.array([t1, t2, t3, t4, t5, t6])\n",
        "  f_val = sum(f(tris[:, 0], tris[:, 1]))\n",
        "  return f_val / 3"
      ],
      "metadata": {
        "id": "ZIZoFzKLav6C"
      },
      "execution_count": 182,
      "outputs": []
    },
    {
      "cell_type": "code",
      "source": [
        "\n",
        "def Finite_Difference_Approx(h, space):\n",
        "  Length = space[1] - space[0]\n",
        "  M = int(Length / h)\n",
        "  n = M - 1\n",
        "\n",
        "  # Construct B and A\n",
        "  B = (np.diag(4.0 * np.ones(n), 0)  + np.diag(-1.0 * np.ones(n-1), 1) + np.diag(-1.0 * np.ones(n-1), -1))\n",
        "  I = np.eye(n)\n",
        "  C = np.diag(-1.0 * np.ones(n-1), 1) + np.diag(-1.0 * np.ones(n-1), -1)\n",
        "  A = (np.kron(B, I) + np.kron(C, I))\n",
        "  #print(A)\n",
        "  f_vec = np.zeros(n*n)\n",
        "  for i in range(n):\n",
        "    for j in range(n):\n",
        "      x1, x2 = (i + 1) * h, (j + 1) * h # get x1, x2 for h, 2h,...., (M-1)h\n",
        "      f_vec[j * n + i] = load_vec_lattices(i, j, h, n) * h**2 / 2\n",
        "  estimated_u = np.linalg.solve(A, f_vec)\n",
        "  estimated_u = estimated_u.reshape((n, n))\n",
        "  return estimated_u\n"
      ],
      "metadata": {
        "id": "y4eia0SwKDFH"
      },
      "execution_count": 202,
      "outputs": []
    },
    {
      "cell_type": "code",
      "source": [
        "def vectorize_u(h, space):\n",
        "  Length = space[1] - space[0]\n",
        "  M = int(Length / h)\n",
        "  n = M - 1\n",
        "  u_vec = np.zeros(n*n)\n",
        "  for i in range(n):\n",
        "    for j in range(n):\n",
        "      x1, x2 = (i + 1) * h, (j + 1) * h\n",
        "      u_vec[j * n + i] = u(x1, x2)\n",
        "  u_vec = u_vec.reshape((n, n))\n",
        "  return u_vec"
      ],
      "metadata": {
        "id": "G-us7GZOi_mB"
      },
      "execution_count": 203,
      "outputs": []
    },
    {
      "cell_type": "code",
      "source": [
        "h1 = 1/10\n",
        "h2 = 1/20\n",
        "space = [0, 1]\n",
        "\n",
        "# h = 1/10\n",
        "Uj1 = Finite_Difference_Approx(h1, space)\n",
        "\n",
        "# h = 1/20\n",
        "Uj2 = Finite_Difference_Approx(h2, space)"
      ],
      "metadata": {
        "id": "hjK-sP2RiVKc"
      },
      "execution_count": 204,
      "outputs": []
    },
    {
      "cell_type": "code",
      "source": [
        "u1-Uj1"
      ],
      "metadata": {
        "colab": {
          "base_uri": "https://localhost:8080/"
        },
        "id": "DpMIIbGamm0-",
        "outputId": "8ed0f566-d1d5-46c0-dffd-06920c41b0ef"
      },
      "execution_count": 205,
      "outputs": [
        {
          "output_type": "execute_result",
          "data": {
            "text/plain": [
              "array([[ 0.0087042 ,  0.01031319,  0.01091265,  0.0104439 ,  0.00895283,\n",
              "         0.0065854 ,  0.00357334,  0.0002115 , -0.00317105],\n",
              "       [ 0.01536804,  0.01689842,  0.01677465,  0.01500887,  0.01177392,\n",
              "         0.00738645,  0.00227594, -0.00305735, -0.00809136],\n",
              "       [ 0.01871846,  0.0186385 ,  0.01673408,  0.0131916 ,  0.00835784,\n",
              "         0.00270596, -0.0032108 , -0.00881327, -0.01355303],\n",
              "       [ 0.01847748,  0.01589898,  0.01176418,  0.00647782,  0.00055737,\n",
              "        -0.00541765, -0.01086235, -0.01524376, -0.01813301],\n",
              "       [ 0.01537427,  0.01032707,  0.00426899, -0.00220697, -0.0084669 ,\n",
              "        -0.01389802, -0.01796872, -0.02028051, -0.0206071 ],\n",
              "       [ 0.01080819,  0.0042031 , -0.00281342, -0.00955454, -0.0153604 ,\n",
              "        -0.01966267, -0.02204023, -0.02226033, -0.02030144],\n",
              "       [ 0.00629728, -0.00040597, -0.00706948, -0.01304098, -0.01773593,\n",
              "        -0.02069477, -0.02162787, -0.02044387, -0.01725869],\n",
              "       [ 0.00292449, -0.00236994, -0.00743239, -0.0117673 , -0.01495034,\n",
              "        -0.01666994, -0.01675778, -0.01520524, -0.01216431],\n",
              "       [ 0.00099061, -0.001826  , -0.00446387, -0.00666479, -0.00821331,\n",
              "        -0.00895785, -0.00882554, -0.00782932, -0.00606671]])"
            ]
          },
          "metadata": {},
          "execution_count": 205
        }
      ]
    },
    {
      "cell_type": "code",
      "source": [
        "u1 = vectorize_u(h1, space)\n",
        "u2 = vectorize_u(h2, space)"
      ],
      "metadata": {
        "id": "bOie2hYziXcR"
      },
      "execution_count": 206,
      "outputs": []
    },
    {
      "cell_type": "markdown",
      "source": [
        "# L2 Norm of the error for $h=1/10$: 0.03593"
      ],
      "metadata": {
        "id": "fGQFTk6qkefJ"
      }
    },
    {
      "cell_type": "code",
      "source": [
        "# calculate L-2 Norm\n",
        "def norm(x, h):\n",
        "  return np.sqrt(np.sum(x**2 * h**2/2))\n",
        "l2_norm1 = norm(Uj1 - u1, h1)\n",
        "l2_norm1"
      ],
      "metadata": {
        "colab": {
          "base_uri": "https://localhost:8080/"
        },
        "id": "ADg4FN5vi4vl",
        "outputId": "d3aa9f22-2aa2-4dc4-a501-e748b73ff922"
      },
      "execution_count": 207,
      "outputs": [
        {
          "output_type": "execute_result",
          "data": {
            "text/plain": [
              "0.00800926889189662"
            ]
          },
          "metadata": {},
          "execution_count": 207
        }
      ]
    },
    {
      "cell_type": "markdown",
      "source": [
        "# L2 Norm of the error for $h=1/20$: 0.07495"
      ],
      "metadata": {
        "id": "zj54g3Yjkmgs"
      }
    },
    {
      "cell_type": "code",
      "source": [
        "l2_norm2 = norm(Uj2 - u2, h2)\n",
        "l2_norm2"
      ],
      "metadata": {
        "colab": {
          "base_uri": "https://localhost:8080/"
        },
        "id": "ysZLJ4pOjQyR",
        "outputId": "2f7d1498-4a0f-4872-f718-c17d64a3ad91"
      },
      "execution_count": 208,
      "outputs": [
        {
          "output_type": "execute_result",
          "data": {
            "text/plain": [
              "0.005017275971481492"
            ]
          },
          "metadata": {},
          "execution_count": 208
        }
      ]
    },
    {
      "cell_type": "code",
      "source": [],
      "metadata": {
        "id": "mJrPHCtBYNGd"
      },
      "execution_count": 208,
      "outputs": []
    }
  ]
}