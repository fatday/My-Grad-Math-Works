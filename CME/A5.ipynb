{
  "nbformat": 4,
  "nbformat_minor": 0,
  "metadata": {
    "colab": {
      "provenance": [],
      "authorship_tag": "ABX9TyOGwUqv/ly7Y8/RbBCtmvKM",
      "include_colab_link": true
    },
    "kernelspec": {
      "name": "python3",
      "display_name": "Python 3"
    },
    "language_info": {
      "name": "python"
    }
  },
  "cells": [
    {
      "cell_type": "markdown",
      "metadata": {
        "id": "view-in-github",
        "colab_type": "text"
      },
      "source": [
        "<a href=\"https://colab.research.google.com/github/fatday/My-Grad-Math-Works/blob/main/CME/A5.ipynb\" target=\"_parent\"><img src=\"https://colab.research.google.com/assets/colab-badge.svg\" alt=\"Open In Colab\"/></a>"
      ]
    },
    {
      "cell_type": "code",
      "execution_count": 2,
      "metadata": {
        "id": "5xStUkj6GsA2"
      },
      "outputs": [],
      "source": [
        "import numpy as np"
      ]
    },
    {
      "cell_type": "markdown",
      "source": [
        "# Q1"
      ],
      "metadata": {
        "id": "zH2PF5WqQKsA"
      }
    },
    {
      "cell_type": "markdown",
      "source": [
        "For homogeneous solution:\n",
        "\n",
        "$$\n",
        "-u''+u=0 \\ \\ \\ \\ \\implies \\ \\ \\ \\ \\lambda_1=1 \\ \\ \\ \\lambda_2=-1 \\ \\ \\ \\ \\implies \\ \\ \\ u_h(x)=C_1e^x+C_2e^{-x}\n",
        "$$\n",
        "\n",
        "Now we solve for particular solution, let $u_p(x)=Ax+B$, then\n",
        "\n",
        "$$\n",
        "-u''+u=2x \\ \\ \\ \\ \\implies \\ \\ \\ \\ Ax+B=2x \\ \\ \\ \\ \\implies \\ \\ \\ \\ u_p(x)=2x\n",
        "$$\n",
        "\n",
        "Then we have the solution\n",
        "\n",
        "$$\n",
        "u(x)=u_h(x)+u_p(x)=C_1e^x+C_2e^{-x}+2x\n",
        "$$\n",
        "\n",
        "Since $u(0)=u(1)=0$, then solving $C_1,C_2$ we get\n",
        "\n",
        "$$\n",
        "u(x)=\\frac{2e}{1-e^2}e^x-\\frac{2e}{1-e^2}e^{-x}+2x\n",
        "$$"
      ],
      "metadata": {
        "id": "JlkagUQMQONO"
      }
    },
    {
      "cell_type": "code",
      "source": [
        "def exact(h, X_range):\n",
        "  x = np.array([i * h for i in range(1, int((X_range[1] - X_range[0])/h))])\n",
        "  coef = (2 * np.e) / (1 - np.e**2)\n",
        "  return coef * np.e**x - coef * np.e**(-x) + 2*x"
      ],
      "metadata": {
        "id": "ouC7rqBYQk-5"
      },
      "execution_count": 3,
      "outputs": []
    },
    {
      "cell_type": "code",
      "source": [
        "def f(x):\n",
        "  return 2*x"
      ],
      "metadata": {
        "id": "ceRa06upSoM3"
      },
      "execution_count": 4,
      "outputs": []
    },
    {
      "cell_type": "code",
      "source": [
        "def solve_solution(h,X_range):\n",
        "  x_vec = np.array([i * h for i in range(1, int((X_range[1] - X_range[0])/h))])\n",
        "  n = len(x_vec)\n",
        "  a,b = (2/h) + (2*h/3), (h/6 - 1/h)\n",
        "  A = ((np.diag(a * np.ones(n), 0)  + np.diag(b * np.ones(n-1), 1) + np.diag(b * np.ones(n-1), -1)))\n",
        "  fx =  f(x_vec) * h  # (f, Chi) = int f_i * Chi_i=int f_i on [0,1] = f_i\n",
        "  u = np.linalg.solve(A, fx)\n",
        "  #print(A)\n",
        "  return u"
      ],
      "metadata": {
        "id": "6VT5-WvdSo9L"
      },
      "execution_count": 5,
      "outputs": []
    },
    {
      "cell_type": "code",
      "source": [
        "X_range = [0, 1]\n",
        "h1, h2 = 1/10, 1/20\n",
        "U1 = solve_solution(h1, X_range)\n",
        "U2 = solve_solution(h2, X_range)"
      ],
      "metadata": {
        "id": "Jicr0KvSXrMh"
      },
      "execution_count": 6,
      "outputs": []
    },
    {
      "cell_type": "code",
      "source": [
        "u1 = exact(h1, X_range)\n",
        "u2 = exact(h2, X_range)"
      ],
      "metadata": {
        "id": "pLJGdztUYEyP"
      },
      "execution_count": 7,
      "outputs": []
    },
    {
      "cell_type": "markdown",
      "source": [
        "## Max Error at mesh-points for h= 1/10, 1/20"
      ],
      "metadata": {
        "id": "VB2MDqR2zRRR"
      }
    },
    {
      "cell_type": "markdown",
      "source": [
        "For $h=1/10$: max error is $8.8514\\cdot 10^{-5}$"
      ],
      "metadata": {
        "id": "MQJ5hXd1zZSb"
      }
    },
    {
      "cell_type": "code",
      "source": [
        "max(abs(U1-u1))"
      ],
      "metadata": {
        "colab": {
          "base_uri": "https://localhost:8080/"
        },
        "id": "2cfX-hIfyCZ6",
        "outputId": "c57240ac-c2cb-4afb-f3d9-a1780d7dd0f5"
      },
      "execution_count": 8,
      "outputs": [
        {
          "output_type": "execute_result",
          "data": {
            "text/plain": [
              "8.85143578538139e-05"
            ]
          },
          "metadata": {},
          "execution_count": 8
        }
      ]
    },
    {
      "cell_type": "markdown",
      "source": [
        "For $h=1/20$: max error is  $2.2108\\cdot 10^{-5}$"
      ],
      "metadata": {
        "id": "YAnG-dCgzqO5"
      }
    },
    {
      "cell_type": "code",
      "source": [
        "max(abs(U2-u2))"
      ],
      "metadata": {
        "colab": {
          "base_uri": "https://localhost:8080/"
        },
        "id": "SteqI2zzdHo3",
        "outputId": "97e88bcf-9ce1-4bd9-e9d8-ff2796c11097"
      },
      "execution_count": 9,
      "outputs": [
        {
          "output_type": "execute_result",
          "data": {
            "text/plain": [
              "2.2107691947451102e-05"
            ]
          },
          "metadata": {},
          "execution_count": 9
        }
      ]
    },
    {
      "cell_type": "markdown",
      "source": [
        "# Q2"
      ],
      "metadata": {
        "id": "j7j68NrKzz2x"
      }
    },
    {
      "cell_type": "code",
      "source": [
        "def f(x1, x2):\n",
        "  return np.sin(np.pi * x1) * (np.sin(np.pi * x2) + np.sin(2 * np.pi * x2))\n",
        "\n",
        "\n",
        "def u(x1, x2):\n",
        "  coef1, coef2 = 1 / (2 * (np.pi)**2), 1 / (5 * (np.pi)**2)\n",
        "  base1, base2 = np.sin(np.pi * x1) * np.sin(np.pi * x2), np.sin(np.pi * x1) * np.sin(2 * np.pi * x2)\n",
        "  return coef1 * base1 + coef2 * base2"
      ],
      "metadata": {
        "id": "LyVjy85Nz0i_"
      },
      "execution_count": 10,
      "outputs": []
    },
    {
      "cell_type": "code",
      "source": [
        "def load_vec_lattices(i, j, h, n):\n",
        "  p0 = np.array([i * h, j * h])\n",
        "\n",
        "  # ver\n",
        "  p1 = np.array([(i+1) * h, j * h])\n",
        "  p2 = np.array([(i - 1) * h, j * h])\n",
        "\n",
        "  # horz\n",
        "  p3 = np.array([i * h, (j+1) * h])\n",
        "  p4 = np.array([i * h, (j-1) * h])\n",
        "\n",
        "  # diag\n",
        "  p5 = np.array([(i-1) * h, (j+1) * h])\n",
        "  p6 = np.array([(i+1) * h, (j-1) * h])\n",
        "\n",
        "  # tri_mid\n",
        "  t1 = np.mean([p0, p2, p4], axis=0)\n",
        "  t2 = np.mean([p0, p2, p5], axis=0)\n",
        "  t3 = np.mean([p0, p3, p5], axis=0)\n",
        "  t4 = np.mean([p0, p4, p6], axis=0)\n",
        "  t5 = np.mean([p0, p1, p6], axis=0)\n",
        "  t6 = np.mean([p0, p1, p3], axis=0)\n",
        "\n",
        "  tris =  np.array([t1, t2, t3, t4, t5, t6])\n",
        "  #print(tris)\n",
        "  f_val = sum(f(tris[:, 0], tris[:, 1]))\n",
        "  return f_val / 3"
      ],
      "metadata": {
        "id": "ZIZoFzKLav6C"
      },
      "execution_count": 248,
      "outputs": []
    },
    {
      "cell_type": "code",
      "source": [
        "\n",
        "def Finite_Difference_Approx(h, space):\n",
        "  Length = space[1] - space[0]\n",
        "  M = int(Length / h)\n",
        "  n = M - 1\n",
        "\n",
        "  # Construct B and A\n",
        "  B = (np.diag(2.0 * np.ones(n), 0)  + np.diag(-1.0 * np.ones(n-1), 1) + np.diag(-1.0 * np.ones(n-1), -1))\n",
        "  I = np.eye(n)\n",
        "  A = (np.kron(B, I) + np.kron(I, B))\n",
        "  f_vec = np.zeros(n*n)\n",
        "  exact_u = np.zeros(n*n)\n",
        "  for i in range(n):\n",
        "    for j in range(n):\n",
        "      x1, x2 = (i + 1) * h, (j + 1) * h # get x1, x2 for h, 2h,...., (M-1)h\n",
        "      f_vec[j * n + i] = load_vec_lattices(i, j, h, n) * h**2 /2\n",
        "      exact_u[j * n + i] = u(x1, x2)\n",
        "  #print(f_vec)\n",
        "  #print(exact_u)\n",
        "  estimated_u = np.linalg.solve(A, f_vec)\n",
        "  estimated_u = estimated_u.reshape((n, n))\n",
        "  exact_u = exact_u.reshape((n, n))\n",
        "  return estimated_u, exact_u, A\n"
      ],
      "metadata": {
        "id": "y4eia0SwKDFH"
      },
      "execution_count": 249,
      "outputs": []
    },
    {
      "cell_type": "code",
      "source": [
        "h1 = 1/10\n",
        "h2 = 1/20\n",
        "space = [0, 1]\n",
        "\n",
        "# h = 1/10\n",
        "Uj1, u1, A1 = Finite_Difference_Approx(h1, space)\n",
        "\n",
        "# h = 1/20\n",
        "Uj2, u2, A2 = Finite_Difference_Approx(h2, space)"
      ],
      "metadata": {
        "id": "hjK-sP2RiVKc"
      },
      "execution_count": 250,
      "outputs": []
    },
    {
      "cell_type": "code",
      "source": [
        "def L2_Error(U, u, h):\n",
        "  error = U - u\n",
        "  area = h**2 / 2\n",
        "  L = 0\n",
        "  n = error.shape[0]\n",
        "  for i in range(n - 1):\n",
        "    for j in range(n - 1):\n",
        "      p0 = error[i, j]\n",
        "      p1 = error[i+1, j]\n",
        "      p2 = error[i + 1, j + 1]\n",
        "      p3 = error[i, j + 1]\n",
        "\n",
        "      tri1 = np.mean([p0, p1, p3])\n",
        "      tri2 = np.mean([p1, p2, p3])\n",
        "\n",
        "      L += area * (tri1**2 + tri2**2)\n",
        "  return np.sqrt(L)"
      ],
      "metadata": {
        "id": "xy37kn43gD2S"
      },
      "execution_count": 251,
      "outputs": []
    },
    {
      "cell_type": "markdown",
      "source": [
        "# L2 error for h = 1/10"
      ],
      "metadata": {
        "id": "ae1rVnU1rxav"
      }
    },
    {
      "cell_type": "code",
      "source": [
        "round(L2_Error(Uj1, u1, h1), 5)"
      ],
      "metadata": {
        "colab": {
          "base_uri": "https://localhost:8080/"
        },
        "id": "IaOhZ6wRhLHA",
        "outputId": "adf6e055-3e96-4981-a150-902983fd91f1"
      },
      "execution_count": 252,
      "outputs": [
        {
          "output_type": "execute_result",
          "data": {
            "text/plain": [
              "0.00133"
            ]
          },
          "metadata": {},
          "execution_count": 252
        }
      ]
    },
    {
      "cell_type": "markdown",
      "source": [
        "# L2 error for h = 1/20"
      ],
      "metadata": {
        "id": "s1-9AFP0r0Vv"
      }
    },
    {
      "cell_type": "code",
      "source": [
        "round(L2_Error(Uj2, u2, h2), 5)"
      ],
      "metadata": {
        "colab": {
          "base_uri": "https://localhost:8080/"
        },
        "id": "GxLN3hYih5yp",
        "outputId": "c43afbad-e427-428d-aedd-0f64ea54cdd5"
      },
      "execution_count": 253,
      "outputs": [
        {
          "output_type": "execute_result",
          "data": {
            "text/plain": [
              "0.00032"
            ]
          },
          "metadata": {},
          "execution_count": 253
        }
      ]
    },
    {
      "cell_type": "code",
      "source": [],
      "metadata": {
        "id": "gB3IzRz2s-_I"
      },
      "execution_count": null,
      "outputs": []
    }
  ]
}