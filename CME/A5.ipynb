{
  "nbformat": 4,
  "nbformat_minor": 0,
  "metadata": {
    "colab": {
      "provenance": [],
      "authorship_tag": "ABX9TyPtkx5zmP5REF/evORyZ7tN",
      "include_colab_link": true
    },
    "kernelspec": {
      "name": "python3",
      "display_name": "Python 3"
    },
    "language_info": {
      "name": "python"
    }
  },
  "cells": [
    {
      "cell_type": "markdown",
      "metadata": {
        "id": "view-in-github",
        "colab_type": "text"
      },
      "source": [
        "<a href=\"https://colab.research.google.com/github/fatday/My-Grad-Math-Works/blob/main/CME/A5.ipynb\" target=\"_parent\"><img src=\"https://colab.research.google.com/assets/colab-badge.svg\" alt=\"Open In Colab\"/></a>"
      ]
    },
    {
      "cell_type": "code",
      "execution_count": 228,
      "metadata": {
        "id": "5xStUkj6GsA2"
      },
      "outputs": [],
      "source": [
        "import numpy as np"
      ]
    },
    {
      "cell_type": "markdown",
      "source": [
        "# Q1"
      ],
      "metadata": {
        "id": "zH2PF5WqQKsA"
      }
    },
    {
      "cell_type": "markdown",
      "source": [
        "For homogeneous solution:\n",
        "\n",
        "$$\n",
        "-u''+u=0 \\ \\ \\ \\ \\implies \\ \\ \\ \\ \\lambda_1=1 \\ \\ \\ \\lambda_2=-1 \\ \\ \\ \\ \\implies \\ \\ \\ u_h(x)=C_1e^x+C_2e^{-x}\n",
        "$$\n",
        "\n",
        "Now we solve for particular solution, let $u_p(x)=Ax+B$, then\n",
        "\n",
        "$$\n",
        "-u''+u=2x \\ \\ \\ \\ \\implies \\ \\ \\ \\ Ax+B=2x \\ \\ \\ \\ \\implies \\ \\ \\ \\ u_p(x)=2x\n",
        "$$\n",
        "\n",
        "Then we have the solution\n",
        "\n",
        "$$\n",
        "u(x)=u_h(x)+u_p(x)=C_1e^x+C_2e^{-x}+2x\n",
        "$$\n",
        "\n",
        "Since $u(0)=u(1)=0$, then solving $C_1,C_2$ we get\n",
        "\n",
        "$$\n",
        "u(x)=\\frac{2e}{1-e^2}e^x-\\frac{2e}{1-e^2}e^{-x}+2x\n",
        "$$"
      ],
      "metadata": {
        "id": "JlkagUQMQONO"
      }
    },
    {
      "cell_type": "code",
      "source": [
        "def exact(h, X_range):\n",
        "  x = np.array([i * h for i in range(1, int((X_range[1] - X_range[0])/h))])\n",
        "  coef = (2 * np.e) / (1 - np.e**2)\n",
        "  return coef * np.e**x - coef * np.e**(-x) + 2*x"
      ],
      "metadata": {
        "id": "ouC7rqBYQk-5"
      },
      "execution_count": 229,
      "outputs": []
    },
    {
      "cell_type": "code",
      "source": [
        "def f(x):\n",
        "  return 2*x"
      ],
      "metadata": {
        "id": "ceRa06upSoM3"
      },
      "execution_count": 230,
      "outputs": []
    },
    {
      "cell_type": "code",
      "source": [
        "def solve_solution(h,X_range):\n",
        "  x_vec = np.array([i * h for i in range(1, int((X_range[1] - X_range[0])/h))])\n",
        "  n = len(x_vec)\n",
        "  a,b = (2/h) + (2*h/3), (h/6 - 1/h)\n",
        "  A = ((np.diag(a * np.ones(n), 0)  + np.diag(b * np.ones(n-1), 1) + np.diag(b * np.ones(n-1), -1)))\n",
        "  fx =  f(x_vec) * h  # (f, Chi) = int f_i * Chi_i=int f_i on [0,1] = f_i\n",
        "  u = np.linalg.solve(A, fx)\n",
        "  #print(A)\n",
        "  return u"
      ],
      "metadata": {
        "id": "6VT5-WvdSo9L"
      },
      "execution_count": 231,
      "outputs": []
    },
    {
      "cell_type": "code",
      "source": [
        "X_range = [0, 1]\n",
        "h1, h2 = 1/10, 1/20\n",
        "U1 = solve_solution(h1, X_range)\n",
        "U2 = solve_solution(h2, X_range)"
      ],
      "metadata": {
        "id": "Jicr0KvSXrMh"
      },
      "execution_count": 232,
      "outputs": []
    },
    {
      "cell_type": "code",
      "source": [
        "u1 = exact(h1, X_range)\n",
        "u2 = exact(h2, X_range)"
      ],
      "metadata": {
        "id": "pLJGdztUYEyP"
      },
      "execution_count": 233,
      "outputs": []
    },
    {
      "cell_type": "markdown",
      "source": [
        "## Max Error at mesh-points for h= 1/10, 1/20"
      ],
      "metadata": {
        "id": "VB2MDqR2zRRR"
      }
    },
    {
      "cell_type": "markdown",
      "source": [
        "For $h=1/10$: max error is $8.8514\\cdot 10^{-5}$"
      ],
      "metadata": {
        "id": "MQJ5hXd1zZSb"
      }
    },
    {
      "cell_type": "code",
      "source": [
        "max(abs(U1-u1))"
      ],
      "metadata": {
        "colab": {
          "base_uri": "https://localhost:8080/"
        },
        "id": "2cfX-hIfyCZ6",
        "outputId": "91235871-d97a-41ac-9b67-58a3181ef3e2"
      },
      "execution_count": 234,
      "outputs": [
        {
          "output_type": "execute_result",
          "data": {
            "text/plain": [
              "8.85143578538139e-05"
            ]
          },
          "metadata": {},
          "execution_count": 234
        }
      ]
    },
    {
      "cell_type": "markdown",
      "source": [
        "For $h=1/20$: max error is  $2.2108\\cdot 10^{-5}$"
      ],
      "metadata": {
        "id": "YAnG-dCgzqO5"
      }
    },
    {
      "cell_type": "code",
      "source": [
        "max(abs(U2-u2))"
      ],
      "metadata": {
        "colab": {
          "base_uri": "https://localhost:8080/"
        },
        "id": "SteqI2zzdHo3",
        "outputId": "eac33260-1d1a-4127-f881-e63b1cf5158b"
      },
      "execution_count": 235,
      "outputs": [
        {
          "output_type": "execute_result",
          "data": {
            "text/plain": [
              "2.2107691947451102e-05"
            ]
          },
          "metadata": {},
          "execution_count": 235
        }
      ]
    },
    {
      "cell_type": "markdown",
      "source": [
        "# Q2"
      ],
      "metadata": {
        "id": "j7j68NrKzz2x"
      }
    },
    {
      "cell_type": "code",
      "source": [
        "def f(x1, x2):\n",
        "  return np.sin(np.pi * x1) * (np.sin(np.pi * x2) + np.sin(2 * np.pi * x2))\n",
        "\n",
        "\n",
        "def u(x1, x2):\n",
        "  coef1, coef2 = 1 / (2 * (np.pi)**2), 1 / (5 * (np.pi)**2)\n",
        "  base1, base2 = np.sin(np.pi * x1) * np.sin(np.pi * x2), np.sin(np.pi * x1) * np.sin(2 * np.pi * x2)\n",
        "  return coef1 * base1 + coef2 * base2"
      ],
      "metadata": {
        "id": "LyVjy85Nz0i_"
      },
      "execution_count": 236,
      "outputs": []
    },
    {
      "cell_type": "code",
      "source": [
        "def load_vec_lattices(i, j, h, n):\n",
        "  p0 = np.array([i * h, j * h])\n",
        "\n",
        "  # ver\n",
        "  p1 = np.array([(i+1) * h, j * h])\n",
        "  p2 = np.array([(i - 1) * h, j * h])\n",
        "\n",
        "  # horz\n",
        "  p3 = np.array([i * h, (j+1) * h])\n",
        "  p4 = np.array([i * h, (j-1) * h])\n",
        "\n",
        "  # diag\n",
        "  p5 = np.array([(i-1) * h, (j+1) * h])\n",
        "  p6 = np.array([(i+1) * h, (j-1) * h])\n",
        "\n",
        "  # tri_mid\n",
        "  t1 = np.mean([p0, p2, p4], axis=0)\n",
        "  t2 = np.mean([p0, p2, p5], axis=0)\n",
        "  t3 = np.mean([p0, p3, p5], axis=0)\n",
        "  t4 = np.mean([p0, p4, p6], axis=0)\n",
        "  t5 = np.mean([p0, p1, p6], axis=0)\n",
        "  t6 = np.mean([p0, p1, p3], axis=0)\n",
        "\n",
        "  tris =  np.array([t1, t2, t3, t4, t5, t6])\n",
        "  f_val = sum(f(tris[:, 0], tris[:, 1]))\n",
        "  return f_val / 3"
      ],
      "metadata": {
        "id": "ZIZoFzKLav6C"
      },
      "execution_count": 237,
      "outputs": []
    },
    {
      "cell_type": "code",
      "source": [
        "\n",
        "def Finite_Difference_Approx(h, space):\n",
        "  Length = space[1] - space[0]\n",
        "  M = int(Length / h)\n",
        "  n = M - 1\n",
        "\n",
        "  # Construct B and A\n",
        "  B = (np.diag(4.0 * np.ones(n), 0)  + np.diag(-1.0 * np.ones(n-1), 1) + np.diag(-1.0 * np.ones(n-1), -1))\n",
        "  I = np.eye(n)\n",
        "  C = np.diag(-1.0 * np.ones(n-1), 1) + np.diag(-1.0 * np.ones(n-1), -1)\n",
        "  A = (np.kron(B, I) + np.kron(C, I))\n",
        "  #print(A)\n",
        "  f_vec = np.zeros(n*n)\n",
        "  exact_u = np.zeros(n*n)\n",
        "  for i in range(n):\n",
        "    for j in range(n):\n",
        "      x1, x2 = (i + 1) * h, (j + 1) * h # get x1, x2 for h, 2h,...., (M-1)h\n",
        "      f_vec[j * n + i] = f(x1,x2) * h**2 #load_vec_lattices(i, j, h, n) * h**2 / 2\n",
        "      exact_u[j * n + i] = u(x1, x2)\n",
        "  #print(f_vec)\n",
        "  #print(exact_u)\n",
        "  estimated_u = np.linalg.solve(A, f_vec)\n",
        "  estimated_u = estimated_u.reshape((n, n))\n",
        "  exact_u = exact_u.reshape((n, n))\n",
        "  return estimated_u, exact_u, A\n"
      ],
      "metadata": {
        "id": "y4eia0SwKDFH"
      },
      "execution_count": 372,
      "outputs": []
    },
    {
      "cell_type": "code",
      "source": [
        "h1 = 1/10\n",
        "h2 = 1/20\n",
        "space = [0, 1]\n",
        "\n",
        "# h = 1/10\n",
        "Uj1, u1, A1 = Finite_Difference_Approx(h1, space)\n",
        "\n",
        "# h = 1/20\n",
        "Uj2, u2, A2 = Finite_Difference_Approx(h2, space)"
      ],
      "metadata": {
        "id": "hjK-sP2RiVKc"
      },
      "execution_count": 373,
      "outputs": []
    },
    {
      "cell_type": "code",
      "source": [
        "Uj1.shape"
      ],
      "metadata": {
        "id": "PGeKEi4da_LQ",
        "outputId": "c09983f6-c5b8-440a-ea5d-c04ffcaf9e26",
        "colab": {
          "base_uri": "https://localhost:8080/"
        }
      },
      "execution_count": 364,
      "outputs": [
        {
          "output_type": "execute_result",
          "data": {
            "text/plain": [
              "(9, 9)"
            ]
          },
          "metadata": {},
          "execution_count": 364
        }
      ]
    },
    {
      "cell_type": "code",
      "source": [
        "Uj1"
      ],
      "metadata": {
        "id": "o_cFo-kBa8ui",
        "outputId": "849b72a4-ece2-48bc-ff1f-facc36793701",
        "colab": {
          "base_uri": "https://localhost:8080/"
        }
      },
      "execution_count": 329,
      "outputs": [
        {
          "output_type": "execute_result",
          "data": {
            "text/plain": [
              "array([[-1.85839851e-04,  5.88970089e-03,  1.13887167e-02,\n",
              "         1.57729255e-02,  1.86131705e-02,  1.96314287e-02,\n",
              "         1.87280259e-02,  1.59913934e-02,  1.16894119e-02],\n",
              "       [-2.10764173e-04,  1.19324415e-02,  2.29076167e-02,\n",
              "         3.16404348e-02,  3.72760667e-02,  3.92628574e-02,\n",
              "         3.74063261e-02,  3.18882030e-02,  2.32486403e-02],\n",
              "       [-9.78020154e-05,  1.67800951e-02,  3.20154396e-02,\n",
              "         4.41168898e-02,  5.18998714e-02,  5.46025320e-02,\n",
              "         5.19603164e-02,  4.42318629e-02,  3.21736866e-02],\n",
              "       [ 9.20017583e-05,  1.94222712e-02,  3.68513533e-02,\n",
              "         5.06731683e-02,  5.95347405e-02,  6.25686374e-02,\n",
              "         5.94778802e-02,  5.05650137e-02,  3.67024914e-02],\n",
              "       [ 2.80715248e-04,  1.94504760e-02,  3.67162887e-02,\n",
              "         5.03880552e-02,  5.91274878e-02,  6.20791099e-02,\n",
              "         5.89539962e-02,  5.00580546e-02,  3.62620819e-02],\n",
              "       [ 3.99878521e-04,  1.71159126e-02,  3.21565219e-02,\n",
              "         4.40494268e-02,  5.16304669e-02,  5.41575571e-02,\n",
              "         5.13833284e-02,  4.35793414e-02,  3.15095049e-02],\n",
              "       [ 4.12358230e-04,  1.31684581e-02,  2.46355375e-02,\n",
              "         3.36911189e-02,  3.94487788e-02,  4.13449174e-02,\n",
              "         3.91939274e-02,  3.32063627e-02,  2.39683279e-02],\n",
              "       [ 3.21770525e-04,  8.54469389e-03,  1.59312031e-02,\n",
              "         2.17582551e-02,  2.54554576e-02,  2.66609024e-02,\n",
              "         2.52565924e-02,  2.13799912e-02,  1.54105674e-02],\n",
              "       [ 1.66339037e-04,  4.02665037e-03,  7.49280512e-03,\n",
              "         1.02255119e-02,  1.19572743e-02,  1.25185754e-02,\n",
              "         1.18544711e-02,  1.00299686e-02,  7.22366290e-03]])"
            ]
          },
          "metadata": {},
          "execution_count": 329
        }
      ]
    },
    {
      "cell_type": "code",
      "source": [
        "def transofrm(error_matrix):\n",
        "  fillin = np.zeros((error_matrix.shape[0] + 2, error_matrix.shape[1] + 2))\n",
        "  fillin[1:-1,1:-1] = error_matrix\n",
        "  return fillin\n"
      ],
      "metadata": {
        "id": "d7ijzdpeNSmn"
      },
      "execution_count": 374,
      "outputs": []
    },
    {
      "cell_type": "code",
      "source": [
        "def L2(error_matrix, h):\n",
        "  area = h**2 / 2\n",
        "  transoformedM = transofrm(error_matrix)\n",
        "  n, m = error_matrix.shape\n",
        "  L = 0\n",
        "  for i in range(1, n+1):\n",
        "    for j in range(1, m + 1):\n",
        "      L += area * method(i, j, transoformedM)\n",
        "  return np.sqrt(L)"
      ],
      "metadata": {
        "id": "1mB41BvqbUvi"
      },
      "execution_count": 375,
      "outputs": []
    },
    {
      "cell_type": "code",
      "source": [
        "L2(Uj1 - u1, h1)"
      ],
      "metadata": {
        "id": "4VTl4gVHeUAx",
        "outputId": "2881cabe-33b5-4ddc-fb1e-83ad9f94ded5",
        "colab": {
          "base_uri": "https://localhost:8080/"
        }
      },
      "execution_count": 382,
      "outputs": [
        {
          "output_type": "execute_result",
          "data": {
            "text/plain": [
              "0.0022771058059262764"
            ]
          },
          "metadata": {},
          "execution_count": 382
        }
      ]
    },
    {
      "cell_type": "code",
      "source": [
        "e = (Uj2 - u2).reshape(1, -1)[0]"
      ],
      "metadata": {
        "id": "4aWbm1bcj7j9"
      },
      "execution_count": 379,
      "outputs": []
    },
    {
      "cell_type": "code",
      "source": [
        "np.sqrt(e.T @ A2 @ e / 3)"
      ],
      "metadata": {
        "id": "VL8OTCH3kD8M",
        "outputId": "9c433c01-5ac7-47f6-8714-160a7d929f77",
        "colab": {
          "base_uri": "https://localhost:8080/"
        }
      },
      "execution_count": 380,
      "outputs": [
        {
          "output_type": "execute_result",
          "data": {
            "text/plain": [
              "0.01914540709073004"
            ]
          },
          "metadata": {},
          "execution_count": 380
        }
      ]
    },
    {
      "cell_type": "code",
      "source": [
        "\n",
        "L2(Uj2 - u2, h2)"
      ],
      "metadata": {
        "id": "i0uFBk54fmk1",
        "outputId": "5f8aaf83-690b-4611-912f-dfdaa42bc992",
        "colab": {
          "base_uri": "https://localhost:8080/"
        }
      },
      "execution_count": 349,
      "outputs": [
        {
          "output_type": "execute_result",
          "data": {
            "text/plain": [
              "0.004862537338998218"
            ]
          },
          "metadata": {},
          "execution_count": 349
        }
      ]
    },
    {
      "cell_type": "markdown",
      "source": [
        "# L2 Norm of the error for $h=1/10$: 0.03593"
      ],
      "metadata": {
        "id": "fGQFTk6qkefJ"
      }
    },
    {
      "cell_type": "code",
      "source": [
        "# calculate L-2 Norm\n",
        "def L2(Uj, uj, A):\n",
        "  e = Uj - uj\n",
        "  return  np.sqrt(e.T @ A @ e)"
      ],
      "metadata": {
        "id": "ADg4FN5vi4vl"
      },
      "execution_count": 313,
      "outputs": []
    },
    {
      "cell_type": "code",
      "source": [
        "def method(i, j, transoformedM):\n",
        "  p0 = transoformedM[i, j]\n",
        "\n",
        "  # ver\n",
        "  p1 = transoformedM[(i+1), j]\n",
        "  p2 = transoformedM[(i - 1), j]\n",
        "\n",
        "  # horz\n",
        "  p3 = transoformedM[i, (j+1)]\n",
        "  p4 = transoformedM[i, (j-1)]\n",
        "\n",
        "  # diag\n",
        "  p5 = transoformedM[(i-1), (j+1)]\n",
        "  p6 = transoformedM[(i+1), (j-1)]\n",
        "\n",
        "  # tri_mid\n",
        "  t1 = np.mean([p0, p2, p4], axis=0)\n",
        "  t2 = np.mean([p0, p2, p5], axis=0)\n",
        "  t3 = np.mean([p0, p3, p5], axis=0)\n",
        "  t4 = np.mean([p0, p4, p6], axis=0)\n",
        "  t5 = np.mean([p0, p1, p6], axis=0)\n",
        "  t6 = np.mean([p0, p1, p3], axis=0)\n",
        "\n",
        "  tris =  np.array([t1, t2, t3, t4, t5, t6])\n",
        "  f_val = np.mean(tris)\n",
        "  return f_val**2"
      ],
      "metadata": {
        "id": "RkaawMHrGw-k"
      },
      "execution_count": 341,
      "outputs": []
    },
    {
      "cell_type": "markdown",
      "source": [
        "# L2 Norm of the error for $h=1/20$: 0.07495"
      ],
      "metadata": {
        "id": "zj54g3Yjkmgs"
      }
    },
    {
      "cell_type": "code",
      "source": [
        "l2_norm2 = L2(Uj2, u2, A2)\n",
        "l2_norm2"
      ],
      "metadata": {
        "colab": {
          "base_uri": "https://localhost:8080/"
        },
        "id": "ysZLJ4pOjQyR",
        "outputId": "dc43b516-591e-4a03-fe71-aaa0d63bf63a"
      },
      "execution_count": 299,
      "outputs": [
        {
          "output_type": "execute_result",
          "data": {
            "text/plain": [
              "0.05095943382468167"
            ]
          },
          "metadata": {},
          "execution_count": 299
        }
      ]
    },
    {
      "cell_type": "code",
      "source": [],
      "metadata": {
        "id": "mJrPHCtBYNGd"
      },
      "execution_count": null,
      "outputs": []
    }
  ]
}