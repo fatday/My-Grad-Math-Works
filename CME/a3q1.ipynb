{
  "nbformat": 4,
  "nbformat_minor": 0,
  "metadata": {
    "colab": {
      "provenance": [],
      "authorship_tag": "ABX9TyM1kQPfQrqlLNiZfwDQ6qtL",
      "include_colab_link": true
    },
    "kernelspec": {
      "name": "python3",
      "display_name": "Python 3"
    },
    "language_info": {
      "name": "python"
    }
  },
  "cells": [
    {
      "cell_type": "markdown",
      "metadata": {
        "id": "view-in-github",
        "colab_type": "text"
      },
      "source": [
        "<a href=\"https://colab.research.google.com/github/fatday/Something-Looks-Good/blob/main/CME/a3q1.ipynb\" target=\"_parent\"><img src=\"https://colab.research.google.com/assets/colab-badge.svg\" alt=\"Open In Colab\"/></a>"
      ]
    },
    {
      "cell_type": "code",
      "execution_count": 1,
      "metadata": {
        "id": "Dsn1ZEKDG1vq"
      },
      "outputs": [],
      "source": [
        "import numpy as np"
      ]
    },
    {
      "cell_type": "code",
      "source": [
        "def f(x):\n",
        "  x1, x2 = x[0], x[1]\n",
        "  if type(x1) == type(x2) and type(x1) == float:\n",
        "    return np.sin(np.pi * x1) * np.sin(np.pi * x2)\n",
        "  n, m = len(x1), len(x2)\n",
        "  f_val = np.zeros((n, m))\n",
        "  for i in range(n):\n",
        "    for j in range(m):\n",
        "      f_val[i][j] = np.sin(np.pi * x1[i]) * np.sin(np.pi * x2[j])\n",
        "  return f_val"
      ],
      "metadata": {
        "id": "pPe4SzZrXGI1"
      },
      "execution_count": 43,
      "outputs": []
    },
    {
      "cell_type": "code",
      "source": [
        "def u(x):\n",
        "  x1, x2 = x[0], x[1]\n",
        "  coef1, coef2 = 1 / (2 * (np.pi)**2), 1 / (5 * (np.pi)**2)\n",
        "  n, m = len(x1), len(x2)\n",
        "  base1 = np.zeros((n, m))\n",
        "  base2 = np.zeros((n, m))\n",
        "  # boundary we have u=0, so consider from j = (1 to len - 1) times h\n",
        "  for i in range(1, n - 1):\n",
        "    for j in range(1, m - 1):\n",
        "      base1[i][j] = np.sin(np.pi * x1[i]) * np.sin(np.pi * x2[i])\n",
        "      base2[i][j] = np.sin(np.pi * x1[i]) * np.sin(2 * np.pi * x2[i])\n",
        "  return coef1 * base1 + coef2 * base2"
      ],
      "metadata": {
        "id": "T7dnCjXKHnwF"
      },
      "execution_count": 44,
      "outputs": []
    },
    {
      "cell_type": "code",
      "source": [
        "def Finite_Difference_Approx(h, space):\n",
        "  x1_range, x2_range = space[0], space[1]\n",
        "\n",
        "  # U\n",
        "  x1_j = np.array([j*h for j in range(1+int((x1_range[1] - x1_range[0]) / h))])\n",
        "  x2_j = np.array([j*h for j in range(1+int((x2_range[1] - x2_range[0]) / h))])\n",
        "  X_j = [x1_j, x2_j]\n",
        "  U_j = u(X_j)\n",
        "\n",
        "  # U+e1, U-e1, U+e2, U-e2\n",
        "  x1_j_ae1, x1_j_se1 = x1_j + h, x1_j - h\n",
        "  x2_j_ae1, x2_j_se1 = x2_j + h, x2_j - h\n",
        "  Uj_ae1 = u([x1_j_ae1, x2_j])\n",
        "  Uj_se1 = u([x1_j_se1, x2_j])\n",
        "  Uj_ae2 = u([x1_j, x2_j_ae1])\n",
        "  Uj_se2 = u([x1_j, x2_j_se1])\n",
        "\n",
        "  # pdv1, pdv2\n",
        "  pdv1 = (Uj_ae1 + Uj_se1 - 2 * U_j) / h**2\n",
        "  pdv2 = (Uj_ae2 + Uj_se2 - 2 * U_j) / h**2\n",
        "\n",
        "  # fj\n",
        "  fj = -pdv1 - pdv2\n",
        "\n",
        "  return fj\n"
      ],
      "metadata": {
        "id": "GvFX-YnLJLfu"
      },
      "execution_count": 34,
      "outputs": []
    },
    {
      "cell_type": "code",
      "source": [
        "def get_matrix_index(target_val, h):\n",
        "  target_x1, target_x2 = target_val[0], target_val[1]\n",
        "  i, j = int(target_x1 / h), int(target_x2 / h)\n",
        "  return i, j"
      ],
      "metadata": {
        "id": "r1YMPvYmZxVS"
      },
      "execution_count": 45,
      "outputs": []
    },
    {
      "cell_type": "code",
      "source": [
        "h1 = 1/10\n",
        "h2 = 1/20\n",
        "space = [[0, 1], [0, 1]]\n",
        "fj1 = Finite_Difference_Approx(h1, space)\n",
        "fj2 = Finite_Difference_Approx(h2, space)"
      ],
      "metadata": {
        "id": "ix5gnqqlLgrW"
      },
      "execution_count": 46,
      "outputs": []
    },
    {
      "cell_type": "code",
      "source": [
        "X = [0.5, 0.5]"
      ],
      "metadata": {
        "id": "RLQ54cS2h5oV"
      },
      "execution_count": 50,
      "outputs": []
    },
    {
      "cell_type": "code",
      "source": [
        "f(X)"
      ],
      "metadata": {
        "colab": {
          "base_uri": "https://localhost:8080/"
        },
        "id": "OcNoqUejXlAH",
        "outputId": "b1803c11-5ef9-469b-a25e-3454dc970c6d"
      },
      "execution_count": 51,
      "outputs": [
        {
          "output_type": "execute_result",
          "data": {
            "text/plain": [
              "1.0"
            ]
          },
          "metadata": {},
          "execution_count": 51
        }
      ]
    },
    {
      "cell_type": "code",
      "source": [],
      "metadata": {
        "id": "uMwaDfMMh43C"
      },
      "execution_count": null,
      "outputs": []
    },
    {
      "cell_type": "code",
      "source": [
        "i1, j1 = get_matrix_index(X , h1)\n",
        "i2, j2 = get_matrix_index(X , h2)"
      ],
      "metadata": {
        "id": "6EpIaKpVhy4_"
      },
      "execution_count": 52,
      "outputs": []
    },
    {
      "cell_type": "code",
      "source": [
        "fj1[i1][j1], fj2[i2][j2]"
      ],
      "metadata": {
        "colab": {
          "base_uri": "https://localhost:8080/"
        },
        "id": "Fg1Ja9M-h_9z",
        "outputId": "ee5bd9fc-7c2f-4d2e-9128-112f3f1bf97b"
      },
      "execution_count": 53,
      "outputs": [
        {
          "output_type": "execute_result",
          "data": {
            "text/plain": [
              "(0.9918023401109017, 0.9979455228015741)"
            ]
          },
          "metadata": {},
          "execution_count": 53
        }
      ]
    },
    {
      "cell_type": "code",
      "source": [],
      "metadata": {
        "id": "2whot3EiiDj6"
      },
      "execution_count": null,
      "outputs": []
    }
  ]
}